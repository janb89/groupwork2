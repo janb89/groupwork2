{
 "cells": [
  {
   "cell_type": "markdown",
   "metadata": {},
   "source": [
    "The aim of this EDA is to get an idea about how the delays are distributed among the different seasons of the year (do we have more delays in summer/winter?) and if the delays cluster at a certain time of the day. "
   ]
  },
  {
   "cell_type": "markdown",
   "metadata": {},
   "source": [
    "- DATOP - Date of flight\n",
    "- FLTID - Flight number\n",
    "- DEPSTN - Departure point\n",
    "- ARRSTN - Arrival point\n",
    "- STD - Scheduled Time departure\n",
    "- STA - Scheduled Time arrival\n",
    "- STATUS - Flight status\n",
    "- ETD - Expected Time departure\n",
    "- ETA - Expected Time arrival\n",
    "- ATD - Actual Time of Departure\n",
    "- ATA - Actual Time of arrival\n",
    "- DELAY1 - Delay code 1\n",
    "- DUR1 - delay time 1\n",
    "- DELAY2 - Delay code 2\n",
    "- DUR2 - delay time 2\n",
    "- DELAY3 - Delay code 3\n",
    "- DUR3 - delay time 3\n",
    "- DELAY4 - Delay code 4\n",
    "- DUR4 - delay time 4\n",
    "- AC - Aircraft Code\n",
    "- DEP - Departed \n",
    "- RTR - Receiver Transmitter \n",
    "- SCH - Schedule \n",
    "- DEL - Deliver (?)"
   ]
  },
  {
   "cell_type": "code",
   "execution_count": 1,
   "metadata": {},
   "outputs": [],
   "source": [
    "#import all required libraries \n",
    "import pandas as pd \n",
    "import numpy as np\n",
    "import matplotlib.pyplot as plt \n",
    "import seaborn as sns\n",
    "import datetime\n",
    "from numpy import mean\n",
    "\n",
    "\n"
   ]
  },
  {
   "cell_type": "code",
   "execution_count": 2,
   "metadata": {},
   "outputs": [],
   "source": [
    "# Import the training data set \n",
    "df = pd.read_csv('data/train.csv')"
   ]
  },
  {
   "cell_type": "code",
   "execution_count": 3,
   "metadata": {},
   "outputs": [
    {
     "data": {
      "text/html": [
       "<div>\n",
       "<style scoped>\n",
       "    .dataframe tbody tr th:only-of-type {\n",
       "        vertical-align: middle;\n",
       "    }\n",
       "\n",
       "    .dataframe tbody tr th {\n",
       "        vertical-align: top;\n",
       "    }\n",
       "\n",
       "    .dataframe thead th {\n",
       "        text-align: right;\n",
       "    }\n",
       "</style>\n",
       "<table border=\"1\" class=\"dataframe\">\n",
       "  <thead>\n",
       "    <tr style=\"text-align: right;\">\n",
       "      <th></th>\n",
       "      <th>ID</th>\n",
       "      <th>DATOP</th>\n",
       "      <th>FLTID</th>\n",
       "      <th>DEPSTN</th>\n",
       "      <th>ARRSTN</th>\n",
       "      <th>STD</th>\n",
       "      <th>STA</th>\n",
       "      <th>STATUS</th>\n",
       "      <th>AC</th>\n",
       "      <th>target</th>\n",
       "    </tr>\n",
       "  </thead>\n",
       "  <tbody>\n",
       "    <tr>\n",
       "      <th>0</th>\n",
       "      <td>train_id_0</td>\n",
       "      <td>2016-01-03</td>\n",
       "      <td>TU 0712</td>\n",
       "      <td>CMN</td>\n",
       "      <td>TUN</td>\n",
       "      <td>2016-01-03 10:30:00</td>\n",
       "      <td>2016-01-03 12.55.00</td>\n",
       "      <td>ATA</td>\n",
       "      <td>TU 32AIMN</td>\n",
       "      <td>260.0</td>\n",
       "    </tr>\n",
       "    <tr>\n",
       "      <th>1</th>\n",
       "      <td>train_id_1</td>\n",
       "      <td>2016-01-13</td>\n",
       "      <td>TU 0757</td>\n",
       "      <td>MXP</td>\n",
       "      <td>TUN</td>\n",
       "      <td>2016-01-13 15:05:00</td>\n",
       "      <td>2016-01-13 16.55.00</td>\n",
       "      <td>ATA</td>\n",
       "      <td>TU 31BIMO</td>\n",
       "      <td>20.0</td>\n",
       "    </tr>\n",
       "    <tr>\n",
       "      <th>2</th>\n",
       "      <td>train_id_2</td>\n",
       "      <td>2016-01-16</td>\n",
       "      <td>TU 0214</td>\n",
       "      <td>TUN</td>\n",
       "      <td>IST</td>\n",
       "      <td>2016-01-16 04:10:00</td>\n",
       "      <td>2016-01-16 06.45.00</td>\n",
       "      <td>ATA</td>\n",
       "      <td>TU 32AIMN</td>\n",
       "      <td>0.0</td>\n",
       "    </tr>\n",
       "    <tr>\n",
       "      <th>3</th>\n",
       "      <td>train_id_3</td>\n",
       "      <td>2016-01-17</td>\n",
       "      <td>TU 0480</td>\n",
       "      <td>DJE</td>\n",
       "      <td>NTE</td>\n",
       "      <td>2016-01-17 14:10:00</td>\n",
       "      <td>2016-01-17 17.00.00</td>\n",
       "      <td>ATA</td>\n",
       "      <td>TU 736IOK</td>\n",
       "      <td>0.0</td>\n",
       "    </tr>\n",
       "    <tr>\n",
       "      <th>4</th>\n",
       "      <td>train_id_4</td>\n",
       "      <td>2016-01-17</td>\n",
       "      <td>TU 0338</td>\n",
       "      <td>TUN</td>\n",
       "      <td>ALG</td>\n",
       "      <td>2016-01-17 14:30:00</td>\n",
       "      <td>2016-01-17 15.50.00</td>\n",
       "      <td>ATA</td>\n",
       "      <td>TU 320IMU</td>\n",
       "      <td>22.0</td>\n",
       "    </tr>\n",
       "  </tbody>\n",
       "</table>\n",
       "</div>"
      ],
      "text/plain": [
       "           ID       DATOP     FLTID DEPSTN ARRSTN                  STD  \\\n",
       "0  train_id_0  2016-01-03  TU 0712     CMN    TUN  2016-01-03 10:30:00   \n",
       "1  train_id_1  2016-01-13  TU 0757     MXP    TUN  2016-01-13 15:05:00   \n",
       "2  train_id_2  2016-01-16  TU 0214     TUN    IST  2016-01-16 04:10:00   \n",
       "3  train_id_3  2016-01-17  TU 0480     DJE    NTE  2016-01-17 14:10:00   \n",
       "4  train_id_4  2016-01-17  TU 0338     TUN    ALG  2016-01-17 14:30:00   \n",
       "\n",
       "                   STA STATUS         AC  target  \n",
       "0  2016-01-03 12.55.00    ATA  TU 32AIMN   260.0  \n",
       "1  2016-01-13 16.55.00    ATA  TU 31BIMO    20.0  \n",
       "2  2016-01-16 06.45.00    ATA  TU 32AIMN     0.0  \n",
       "3  2016-01-17 17.00.00    ATA  TU 736IOK     0.0  \n",
       "4  2016-01-17 15.50.00    ATA  TU 320IMU    22.0  "
      ]
     },
     "execution_count": 3,
     "metadata": {},
     "output_type": "execute_result"
    }
   ],
   "source": [
    "#Investigate the data set \n",
    "df.head(5)"
   ]
  },
  {
   "cell_type": "code",
   "execution_count": 4,
   "metadata": {},
   "outputs": [
    {
     "data": {
      "text/plain": [
       "(107833, 10)"
      ]
     },
     "execution_count": 4,
     "metadata": {},
     "output_type": "execute_result"
    }
   ],
   "source": [
    "df.shape"
   ]
  },
  {
   "cell_type": "code",
   "execution_count": 5,
   "metadata": {},
   "outputs": [
    {
     "data": {
      "text/plain": [
       "132"
      ]
     },
     "execution_count": 5,
     "metadata": {},
     "output_type": "execute_result"
    }
   ],
   "source": [
    "df.DEPSTN.nunique()"
   ]
  },
  {
   "cell_type": "code",
   "execution_count": 6,
   "metadata": {},
   "outputs": [
    {
     "data": {
      "text/plain": [
       "128"
      ]
     },
     "execution_count": 6,
     "metadata": {},
     "output_type": "execute_result"
    }
   ],
   "source": [
    "df.ARRSTN.nunique()"
   ]
  },
  {
   "cell_type": "code",
   "execution_count": 7,
   "metadata": {},
   "outputs": [
    {
     "data": {
      "text/plain": [
       "15674     2016-01-01 00:15:00\n",
       "15676     2016-01-01 00:55:00\n",
       "15675     2016-01-01 01:20:00\n",
       "30980     2016-01-01 06:15:00\n",
       "7179      2016-01-01 06:30:00\n",
       "                 ...         \n",
       "103836    2018-12-31 22:00:00\n",
       "107776    2018-12-31 22:00:00\n",
       "103139    2018-12-31 22:20:00\n",
       "103138    2018-12-31 22:40:00\n",
       "99851     2018-12-31 23:10:00\n",
       "Name: STD, Length: 107833, dtype: object"
      ]
     },
     "execution_count": 7,
     "metadata": {},
     "output_type": "execute_result"
    }
   ],
   "source": [
    "#Find out in which time periods the data has been collected \n",
    "df.STD.sort_values()\n",
    "\n",
    "#So the time period is from 01.01.2016 to 31.12.2018 "
   ]
  },
  {
   "cell_type": "code",
   "execution_count": 8,
   "metadata": {},
   "outputs": [
    {
     "name": "stdout",
     "output_type": "stream",
     "text": [
      "<class 'pandas.core.frame.DataFrame'>\n",
      "RangeIndex: 107833 entries, 0 to 107832\n",
      "Data columns (total 10 columns):\n",
      " #   Column  Non-Null Count   Dtype  \n",
      "---  ------  --------------   -----  \n",
      " 0   ID      107833 non-null  object \n",
      " 1   DATOP   107833 non-null  object \n",
      " 2   FLTID   107833 non-null  object \n",
      " 3   DEPSTN  107833 non-null  object \n",
      " 4   ARRSTN  107833 non-null  object \n",
      " 5   STD     107833 non-null  object \n",
      " 6   STA     107833 non-null  object \n",
      " 7   STATUS  107833 non-null  object \n",
      " 8   AC      107833 non-null  object \n",
      " 9   target  107833 non-null  float64\n",
      "dtypes: float64(1), object(9)\n",
      "memory usage: 8.2+ MB\n"
     ]
    }
   ],
   "source": [
    "df.info()"
   ]
  },
  {
   "cell_type": "code",
   "execution_count": 9,
   "metadata": {},
   "outputs": [
    {
     "data": {
      "text/plain": [
       "1861"
      ]
     },
     "execution_count": 9,
     "metadata": {},
     "output_type": "execute_result"
    }
   ],
   "source": [
    "df.FLTID.nunique()"
   ]
  },
  {
   "cell_type": "code",
   "execution_count": 10,
   "metadata": {},
   "outputs": [
    {
     "data": {
      "text/plain": [
       "68"
      ]
     },
     "execution_count": 10,
     "metadata": {},
     "output_type": "execute_result"
    }
   ],
   "source": [
    "df.AC.nunique()"
   ]
  },
  {
   "cell_type": "code",
   "execution_count": 11,
   "metadata": {},
   "outputs": [
    {
     "data": {
      "text/html": [
       "<div>\n",
       "<style scoped>\n",
       "    .dataframe tbody tr th:only-of-type {\n",
       "        vertical-align: middle;\n",
       "    }\n",
       "\n",
       "    .dataframe tbody tr th {\n",
       "        vertical-align: top;\n",
       "    }\n",
       "\n",
       "    .dataframe thead th {\n",
       "        text-align: right;\n",
       "    }\n",
       "</style>\n",
       "<table border=\"1\" class=\"dataframe\">\n",
       "  <thead>\n",
       "    <tr style=\"text-align: right;\">\n",
       "      <th></th>\n",
       "      <th>ID</th>\n",
       "      <th>DATOP</th>\n",
       "      <th>FLTID</th>\n",
       "      <th>DEPSTN</th>\n",
       "      <th>ARRSTN</th>\n",
       "      <th>STD</th>\n",
       "      <th>STA</th>\n",
       "      <th>AC</th>\n",
       "      <th>target</th>\n",
       "    </tr>\n",
       "    <tr>\n",
       "      <th>STATUS</th>\n",
       "      <th></th>\n",
       "      <th></th>\n",
       "      <th></th>\n",
       "      <th></th>\n",
       "      <th></th>\n",
       "      <th></th>\n",
       "      <th></th>\n",
       "      <th></th>\n",
       "      <th></th>\n",
       "    </tr>\n",
       "  </thead>\n",
       "  <tbody>\n",
       "    <tr>\n",
       "      <th>ATA</th>\n",
       "      <td>93679</td>\n",
       "      <td>1011</td>\n",
       "      <td>1782</td>\n",
       "      <td>129</td>\n",
       "      <td>125</td>\n",
       "      <td>73283</td>\n",
       "      <td>76274</td>\n",
       "      <td>61</td>\n",
       "      <td>964</td>\n",
       "    </tr>\n",
       "    <tr>\n",
       "      <th>DEL</th>\n",
       "      <td>151</td>\n",
       "      <td>78</td>\n",
       "      <td>38</td>\n",
       "      <td>17</td>\n",
       "      <td>14</td>\n",
       "      <td>151</td>\n",
       "      <td>150</td>\n",
       "      <td>5</td>\n",
       "      <td>1</td>\n",
       "    </tr>\n",
       "    <tr>\n",
       "      <th>DEP</th>\n",
       "      <td>467</td>\n",
       "      <td>310</td>\n",
       "      <td>33</td>\n",
       "      <td>9</td>\n",
       "      <td>16</td>\n",
       "      <td>467</td>\n",
       "      <td>467</td>\n",
       "      <td>5</td>\n",
       "      <td>74</td>\n",
       "    </tr>\n",
       "    <tr>\n",
       "      <th>RTR</th>\n",
       "      <td>294</td>\n",
       "      <td>253</td>\n",
       "      <td>135</td>\n",
       "      <td>38</td>\n",
       "      <td>38</td>\n",
       "      <td>289</td>\n",
       "      <td>289</td>\n",
       "      <td>33</td>\n",
       "      <td>100</td>\n",
       "    </tr>\n",
       "    <tr>\n",
       "      <th>SCH</th>\n",
       "      <td>13242</td>\n",
       "      <td>1011</td>\n",
       "      <td>132</td>\n",
       "      <td>59</td>\n",
       "      <td>59</td>\n",
       "      <td>11491</td>\n",
       "      <td>11724</td>\n",
       "      <td>41</td>\n",
       "      <td>1</td>\n",
       "    </tr>\n",
       "  </tbody>\n",
       "</table>\n",
       "</div>"
      ],
      "text/plain": [
       "           ID  DATOP  FLTID  DEPSTN  ARRSTN    STD    STA  AC  target\n",
       "STATUS                                                               \n",
       "ATA     93679   1011   1782     129     125  73283  76274  61     964\n",
       "DEL       151     78     38      17      14    151    150   5       1\n",
       "DEP       467    310     33       9      16    467    467   5      74\n",
       "RTR       294    253    135      38      38    289    289  33     100\n",
       "SCH     13242   1011    132      59      59  11491  11724  41       1"
      ]
     },
     "execution_count": 11,
     "metadata": {},
     "output_type": "execute_result"
    }
   ],
   "source": [
    "#Try to understand what the flight status stands for\n",
    "df.groupby('STATUS').nunique()\n",
    "\n",
    "#Grouping it by status and checking for unique values does not really clarify what exactly every status means and if it is important "
   ]
  },
  {
   "cell_type": "code",
   "execution_count": 12,
   "metadata": {},
   "outputs": [
    {
     "name": "stdout",
     "output_type": "stream",
     "text": [
      "0.0\n",
      "3451.0\n"
     ]
    }
   ],
   "source": [
    "print(df.target.min())\n",
    "print(df.target.max())"
   ]
  },
  {
   "cell_type": "code",
   "execution_count": 13,
   "metadata": {},
   "outputs": [
    {
     "data": {
      "image/png": "[encoded data removed]",
      "text/plain": [
       "<Figure size 432x288 with 1 Axes>"
      ]
     },
     "metadata": {
      "needs_background": "light"
     },
     "output_type": "display_data"
    }
   ],
   "source": [
    "#Boxplot to analyze the distribution of the target column \n",
    "df.query('target == 0')\n",
    "sns.boxplot(data=df.target);"
   ]
  },
  {
   "cell_type": "code",
   "execution_count": 14,
   "metadata": {},
   "outputs": [
    {
     "name": "stdout",
     "output_type": "stream",
     "text": [
      "35.39547262897258\n"
     ]
    }
   ],
   "source": [
    "df.query('target == 0').target.count()\n",
    "\n",
    "#we have many flights that arrived in time. These ones we do not consider as delayed\n",
    "percentage_in_time = (38168/107833)*100\n",
    "print(percentage_in_time)"
   ]
  },
  {
   "cell_type": "code",
   "execution_count": 15,
   "metadata": {},
   "outputs": [
    {
     "name": "stdout",
     "output_type": "stream",
     "text": [
      "<class 'pandas.core.frame.DataFrame'>\n",
      "RangeIndex: 107833 entries, 0 to 107832\n",
      "Data columns (total 10 columns):\n",
      " #   Column  Non-Null Count   Dtype         \n",
      "---  ------  --------------   -----         \n",
      " 0   ID      107833 non-null  object        \n",
      " 1   DATOP   107833 non-null  datetime64[ns]\n",
      " 2   FLTID   107833 non-null  object        \n",
      " 3   DEPSTN  107833 non-null  object        \n",
      " 4   ARRSTN  107833 non-null  object        \n",
      " 5   STD     107833 non-null  datetime64[ns]\n",
      " 6   STA     107833 non-null  datetime64[ns]\n",
      " 7   STATUS  107833 non-null  object        \n",
      " 8   AC      107833 non-null  object        \n",
      " 9   target  107833 non-null  float64       \n",
      "dtypes: datetime64[ns](3), float64(1), object(6)\n",
      "memory usage: 8.2+ MB\n"
     ]
    },
    {
     "name": "stderr",
     "output_type": "stream",
     "text": [
      "/var/folders/v3/9m4l768x37nbr7_d_v6t2fhm0000gn/T/ipykernel_65110/3768464511.py:4: FutureWarning: The default value of regex will change from True to False in a future version. In addition, single character regular expressions will *not* be treated as literal strings when regex=True.\n",
      "  df['STA'] = df['STA'].str.replace('.', ':')\n"
     ]
    }
   ],
   "source": [
    "# changing times into Time format\n",
    "df['DATOP'] = pd.to_datetime(df['DATOP'])\n",
    "df['STD'] = pd.to_datetime(df['STD'])\n",
    "df['STA'] = df['STA'].str.replace('.', ':')\n",
    "df['STA'] = pd.to_datetime(df['STA'])\n",
    "\n",
    "df.info()\n"
   ]
  },
  {
   "cell_type": "code",
   "execution_count": 16,
   "metadata": {},
   "outputs": [
    {
     "data": {
      "text/html": [
       "<div>\n",
       "<style scoped>\n",
       "    .dataframe tbody tr th:only-of-type {\n",
       "        vertical-align: middle;\n",
       "    }\n",
       "\n",
       "    .dataframe tbody tr th {\n",
       "        vertical-align: top;\n",
       "    }\n",
       "\n",
       "    .dataframe thead th {\n",
       "        text-align: right;\n",
       "    }\n",
       "</style>\n",
       "<table border=\"1\" class=\"dataframe\">\n",
       "  <thead>\n",
       "    <tr style=\"text-align: right;\">\n",
       "      <th></th>\n",
       "      <th>ID</th>\n",
       "      <th>DATOP</th>\n",
       "      <th>FLTID</th>\n",
       "      <th>DEPSTN</th>\n",
       "      <th>ARRSTN</th>\n",
       "      <th>STD</th>\n",
       "      <th>STA</th>\n",
       "      <th>STATUS</th>\n",
       "      <th>AC</th>\n",
       "      <th>target</th>\n",
       "      <th>DATOP_year</th>\n",
       "      <th>DATOP_month</th>\n",
       "    </tr>\n",
       "  </thead>\n",
       "  <tbody>\n",
       "    <tr>\n",
       "      <th>0</th>\n",
       "      <td>train_id_0</td>\n",
       "      <td>2016-01-03</td>\n",
       "      <td>TU 0712</td>\n",
       "      <td>CMN</td>\n",
       "      <td>TUN</td>\n",
       "      <td>2016-01-03 10:30:00</td>\n",
       "      <td>2016-01-03 12:55:00</td>\n",
       "      <td>ATA</td>\n",
       "      <td>TU 32AIMN</td>\n",
       "      <td>260.0</td>\n",
       "      <td>2016</td>\n",
       "      <td>1</td>\n",
       "    </tr>\n",
       "    <tr>\n",
       "      <th>1</th>\n",
       "      <td>train_id_1</td>\n",
       "      <td>2016-01-13</td>\n",
       "      <td>TU 0757</td>\n",
       "      <td>MXP</td>\n",
       "      <td>TUN</td>\n",
       "      <td>2016-01-13 15:05:00</td>\n",
       "      <td>2016-01-13 16:55:00</td>\n",
       "      <td>ATA</td>\n",
       "      <td>TU 31BIMO</td>\n",
       "      <td>20.0</td>\n",
       "      <td>2016</td>\n",
       "      <td>1</td>\n",
       "    </tr>\n",
       "  </tbody>\n",
       "</table>\n",
       "</div>"
      ],
      "text/plain": [
       "           ID      DATOP     FLTID DEPSTN ARRSTN                 STD  \\\n",
       "0  train_id_0 2016-01-03  TU 0712     CMN    TUN 2016-01-03 10:30:00   \n",
       "1  train_id_1 2016-01-13  TU 0757     MXP    TUN 2016-01-13 15:05:00   \n",
       "\n",
       "                  STA STATUS         AC  target  DATOP_year  DATOP_month  \n",
       "0 2016-01-03 12:55:00    ATA  TU 32AIMN   260.0        2016            1  \n",
       "1 2016-01-13 16:55:00    ATA  TU 31BIMO    20.0        2016            1  "
      ]
     },
     "execution_count": 16,
     "metadata": {},
     "output_type": "execute_result"
    }
   ],
   "source": [
    "# Plot1: see how big the delay at different time points of the year is\n",
    "# Create a new columns containing year and month of the flight (from DATOP)\n",
    "\n",
    "df['DATOP_year'] = df.DATOP.dt.year\n",
    "df['DATOP_month'] = df.DATOP.dt.month\n",
    "df.head(2)\n"
   ]
  },
  {
   "cell_type": "code",
   "execution_count": 17,
   "metadata": {},
   "outputs": [],
   "source": [
    "#Want to have a plot where we see the number of flights per month and year \n",
    "df_id = df.groupby(['DATOP_month', 'DATOP_year']).FLTID.count().reset_index()\n",
    "#df_id_pivot = df_id.pivot('DATOP_month', 'DATOP_year', 'FLTID')\n",
    "#df_id_pivot\n"
   ]
  },
  {
   "cell_type": "code",
   "execution_count": 27,
   "metadata": {},
   "outputs": [
    {
     "data": {
      "image/png": "[encoded data removed]",
      "text/plain": [
       "<Figure size 720x504 with 1 Axes>"
      ]
     },
     "metadata": {
      "needs_background": "light"
     },
     "output_type": "display_data"
    }
   ],
   "source": [
    "#Plot counts of flight per Month and year \n",
    "plt.figure(figsize=(10,7))\n",
    "sns.barplot(data=df_id, x='DATOP_month', y='FLTID', hue='DATOP_year').set(title='Flights per month and year', xlabel='Month', ylabel='Counts of flights');"
   ]
  },
  {
   "cell_type": "code",
   "execution_count": 19,
   "metadata": {},
   "outputs": [
    {
     "name": "stdout",
     "output_type": "stream",
     "text": [
      "DATOP_year        2016       2017       2018\n",
      "DATOP_month                                 \n",
      "1            38.509848  39.524154  32.137301\n",
      "2            16.774246  14.866667  27.171602\n",
      "3            33.430269  47.997934  67.965934\n",
      "4            19.324550  73.073268  60.236537\n",
      "5            26.957895  54.015683  57.793660\n",
      "6            18.912726  43.863327  63.332512\n",
      "7            45.777750  70.393663  57.440769\n",
      "8            41.590483  59.224622  89.365525\n",
      "9            45.608987  74.168999  45.492424\n",
      "10           29.295864  30.588628  46.659337\n",
      "11           17.229502  37.825702  46.589216\n",
      "12           42.761246  45.753124  69.996298\n"
     ]
    },
    {
     "data": {
      "image/png": "[encoded data removed]",
      "text/plain": [
       "<Figure size 720x504 with 1 Axes>"
      ]
     },
     "metadata": {
      "needs_background": "light"
     },
     "output_type": "display_data"
    }
   ],
   "source": [
    "#For the visualization group the dates of flight per year and month (create 3 subplots, one for each year)\n",
    "#create pivot table\n",
    "df_months = df.groupby(['DATOP_month', 'DATOP_year']).mean().reset_index()\n",
    "df_months\n",
    "df_months_pivot= df_months.pivot('DATOP_month', 'DATOP_year', 'target')\n",
    "print(df_months_pivot)\n",
    "plt.figure(figsize=(10,7))\n",
    "sns.lineplot(data=df_months_pivot, linewidth=3, palette=['b', 'g', 'r'],dashes=False).set(title='Delay per month and year', xlabel='Month', ylabel='Delay in minutes');\n"
   ]
  },
  {
   "cell_type": "code",
   "execution_count": 20,
   "metadata": {},
   "outputs": [
    {
     "data": {
      "text/html": [
       "<div>\n",
       "<style scoped>\n",
       "    .dataframe tbody tr th:only-of-type {\n",
       "        vertical-align: middle;\n",
       "    }\n",
       "\n",
       "    .dataframe tbody tr th {\n",
       "        vertical-align: top;\n",
       "    }\n",
       "\n",
       "    .dataframe thead th {\n",
       "        text-align: right;\n",
       "    }\n",
       "</style>\n",
       "<table border=\"1\" class=\"dataframe\">\n",
       "  <thead>\n",
       "    <tr style=\"text-align: right;\">\n",
       "      <th></th>\n",
       "      <th>ID</th>\n",
       "      <th>DATOP</th>\n",
       "      <th>FLTID</th>\n",
       "      <th>DEPSTN</th>\n",
       "      <th>ARRSTN</th>\n",
       "      <th>STD</th>\n",
       "      <th>STA</th>\n",
       "      <th>STATUS</th>\n",
       "      <th>AC</th>\n",
       "      <th>target</th>\n",
       "      <th>DATOP_year</th>\n",
       "      <th>DATOP_month</th>\n",
       "      <th>STD_time</th>\n",
       "    </tr>\n",
       "  </thead>\n",
       "  <tbody>\n",
       "    <tr>\n",
       "      <th>0</th>\n",
       "      <td>train_id_0</td>\n",
       "      <td>2016-01-03</td>\n",
       "      <td>TU 0712</td>\n",
       "      <td>CMN</td>\n",
       "      <td>TUN</td>\n",
       "      <td>2016-01-03 10:30:00</td>\n",
       "      <td>2016-01-03 12:55:00</td>\n",
       "      <td>ATA</td>\n",
       "      <td>TU 32AIMN</td>\n",
       "      <td>260.0</td>\n",
       "      <td>2016</td>\n",
       "      <td>1</td>\n",
       "      <td>10:30:00</td>\n",
       "    </tr>\n",
       "    <tr>\n",
       "      <th>1</th>\n",
       "      <td>train_id_1</td>\n",
       "      <td>2016-01-13</td>\n",
       "      <td>TU 0757</td>\n",
       "      <td>MXP</td>\n",
       "      <td>TUN</td>\n",
       "      <td>2016-01-13 15:05:00</td>\n",
       "      <td>2016-01-13 16:55:00</td>\n",
       "      <td>ATA</td>\n",
       "      <td>TU 31BIMO</td>\n",
       "      <td>20.0</td>\n",
       "      <td>2016</td>\n",
       "      <td>1</td>\n",
       "      <td>15:05:00</td>\n",
       "    </tr>\n",
       "  </tbody>\n",
       "</table>\n",
       "</div>"
      ],
      "text/plain": [
       "           ID      DATOP     FLTID DEPSTN ARRSTN                 STD  \\\n",
       "0  train_id_0 2016-01-03  TU 0712     CMN    TUN 2016-01-03 10:30:00   \n",
       "1  train_id_1 2016-01-13  TU 0757     MXP    TUN 2016-01-13 15:05:00   \n",
       "\n",
       "                  STA STATUS         AC  target  DATOP_year  DATOP_month  \\\n",
       "0 2016-01-03 12:55:00    ATA  TU 32AIMN   260.0        2016            1   \n",
       "1 2016-01-13 16:55:00    ATA  TU 31BIMO    20.0        2016            1   \n",
       "\n",
       "   STD_time  \n",
       "0  10:30:00  \n",
       "1  15:05:00  "
      ]
     },
     "execution_count": 20,
     "metadata": {},
     "output_type": "execute_result"
    }
   ],
   "source": [
    "# For the next plot we are interested in how the delay is distributed over the day \n",
    "#create a new column containing the time of depature\n",
    "\n",
    "df['STD_time'] = df.STD.dt.time\n",
    "df.head(2)\n",
    "\n"
   ]
  },
  {
   "cell_type": "code",
   "execution_count": 21,
   "metadata": {},
   "outputs": [
    {
     "name": "stdout",
     "output_type": "stream",
     "text": [
      "<class 'pandas.core.frame.DataFrame'>\n",
      "RangeIndex: 526 entries, 0 to 525\n",
      "Data columns (total 2 columns):\n",
      " #   Column    Non-Null Count  Dtype  \n",
      "---  ------    --------------  -----  \n",
      " 0   STD_time  526 non-null    object \n",
      " 1   target    526 non-null    float64\n",
      "dtypes: float64(1), object(1)\n",
      "memory usage: 8.3+ KB\n"
     ]
    }
   ],
   "source": [
    "df_time = df[['STD_time', 'target']].groupby('STD_time').mean().round().reset_index()\n",
    "df_time.info()"
   ]
  },
  {
   "cell_type": "code",
   "execution_count": 22,
   "metadata": {},
   "outputs": [
    {
     "data": {
      "text/plain": [
       "0        0 days 10:30:00\n",
       "1        0 days 15:05:00\n",
       "2        0 days 04:10:00\n",
       "3        0 days 14:10:00\n",
       "4        0 days 14:30:00\n",
       "               ...      \n",
       "107828   0 days 23:00:00\n",
       "107829   0 days 08:00:00\n",
       "107830   0 days 05:00:00\n",
       "107831   0 days 18:00:00\n",
       "107832   0 days 06:15:00\n",
       "Name: STD, Length: 107833, dtype: timedelta64[ns]"
      ]
     },
     "execution_count": 22,
     "metadata": {},
     "output_type": "execute_result"
    }
   ],
   "source": [
    "#Convert STD_time column to timedelta \n",
    "time = pd.to_timedelta(pd.to_datetime(df['STD']).dt.time.astype(str))\n",
    "time"
   ]
  },
  {
   "cell_type": "code",
   "execution_count": 28,
   "metadata": {},
   "outputs": [
    {
     "data": {
      "text/plain": [
       "0               Morning\n",
       "1               Mid-Day\n",
       "2         Early_Morning\n",
       "3               Mid-Day\n",
       "4               Mid-Day\n",
       "              ...      \n",
       "107828             Late\n",
       "107829          Morning\n",
       "107830    Early_Morning\n",
       "107831             Late\n",
       "107832          Morning\n",
       "Name: STD, Length: 107833, dtype: category\n",
       "Categories (4, object): ['Early_Morning', 'Morning', 'Mid-Day', 'Late']"
      ]
     },
     "execution_count": 28,
     "metadata": {},
     "output_type": "execute_result"
    }
   ],
   "source": [
    "#create new categories in such a way that early flights are considered as departing between midnight and 10 am and everything afterwards as late \n",
    "# # define bins and labels\n",
    "bins = ['00:00:00', '06:00:00', '11:00:00', '17:00:00', '23:59:59']\n",
    "labels = ['Early_Morning', 'Morning', 'Mid-Day', 'Late']\n",
    "\n",
    "#convert to timedelta \n",
    "categories = pd.cut(time, bins=pd.to_timedelta(bins), labels=labels, ordered=False)\n",
    "categories"
   ]
  },
  {
   "cell_type": "code",
   "execution_count": 32,
   "metadata": {},
   "outputs": [
    {
     "data": {
      "text/html": [
       "<div>\n",
       "<style scoped>\n",
       "    .dataframe tbody tr th:only-of-type {\n",
       "        vertical-align: middle;\n",
       "    }\n",
       "\n",
       "    .dataframe tbody tr th {\n",
       "        vertical-align: top;\n",
       "    }\n",
       "\n",
       "    .dataframe thead th {\n",
       "        text-align: right;\n",
       "    }\n",
       "</style>\n",
       "<table border=\"1\" class=\"dataframe\">\n",
       "  <thead>\n",
       "    <tr style=\"text-align: right;\">\n",
       "      <th></th>\n",
       "      <th>ID</th>\n",
       "      <th>DATOP</th>\n",
       "      <th>FLTID</th>\n",
       "      <th>DEPSTN</th>\n",
       "      <th>ARRSTN</th>\n",
       "      <th>STD</th>\n",
       "      <th>STA</th>\n",
       "      <th>STATUS</th>\n",
       "      <th>AC</th>\n",
       "      <th>target</th>\n",
       "      <th>DATOP_year</th>\n",
       "      <th>DATOP_month</th>\n",
       "      <th>STD_time</th>\n",
       "      <th>STD_time_category</th>\n",
       "    </tr>\n",
       "  </thead>\n",
       "  <tbody>\n",
       "    <tr>\n",
       "      <th>0</th>\n",
       "      <td>train_id_0</td>\n",
       "      <td>2016-01-03</td>\n",
       "      <td>TU 0712</td>\n",
       "      <td>CMN</td>\n",
       "      <td>TUN</td>\n",
       "      <td>2016-01-03 10:30:00</td>\n",
       "      <td>2016-01-03 12:55:00</td>\n",
       "      <td>ATA</td>\n",
       "      <td>TU 32AIMN</td>\n",
       "      <td>260.0</td>\n",
       "      <td>2016</td>\n",
       "      <td>1</td>\n",
       "      <td>10:30:00</td>\n",
       "      <td>Morning</td>\n",
       "    </tr>\n",
       "    <tr>\n",
       "      <th>1</th>\n",
       "      <td>train_id_1</td>\n",
       "      <td>2016-01-13</td>\n",
       "      <td>TU 0757</td>\n",
       "      <td>MXP</td>\n",
       "      <td>TUN</td>\n",
       "      <td>2016-01-13 15:05:00</td>\n",
       "      <td>2016-01-13 16:55:00</td>\n",
       "      <td>ATA</td>\n",
       "      <td>TU 31BIMO</td>\n",
       "      <td>20.0</td>\n",
       "      <td>2016</td>\n",
       "      <td>1</td>\n",
       "      <td>15:05:00</td>\n",
       "      <td>Mid-Day</td>\n",
       "    </tr>\n",
       "  </tbody>\n",
       "</table>\n",
       "</div>"
      ],
      "text/plain": [
       "           ID      DATOP     FLTID DEPSTN ARRSTN                 STD  \\\n",
       "0  train_id_0 2016-01-03  TU 0712     CMN    TUN 2016-01-03 10:30:00   \n",
       "1  train_id_1 2016-01-13  TU 0757     MXP    TUN 2016-01-13 15:05:00   \n",
       "\n",
       "                  STA STATUS         AC  target  DATOP_year  DATOP_month  \\\n",
       "0 2016-01-03 12:55:00    ATA  TU 32AIMN   260.0        2016            1   \n",
       "1 2016-01-13 16:55:00    ATA  TU 31BIMO    20.0        2016            1   \n",
       "\n",
       "   STD_time STD_time_category  \n",
       "0  10:30:00           Morning  \n",
       "1  15:05:00           Mid-Day  "
      ]
     },
     "execution_count": 32,
     "metadata": {},
     "output_type": "execute_result"
    }
   ],
   "source": [
    "df['STD_time_category'] = categories\n",
    "df.head(2)"
   ]
  },
  {
   "cell_type": "code",
   "execution_count": 30,
   "metadata": {},
   "outputs": [
    {
     "data": {
      "text/plain": [
       "0               Morning\n",
       "1               Mid-Day\n",
       "2         Early_Morning\n",
       "3               Mid-Day\n",
       "4               Mid-Day\n",
       "              ...      \n",
       "107828             Late\n",
       "107829          Morning\n",
       "107830    Early_Morning\n",
       "107831             Late\n",
       "107832          Morning\n",
       "Name: STD_time_category, Length: 107833, dtype: category\n",
       "Categories (4, object): ['Early_Morning', 'Morning', 'Mid-Day', 'Late']"
      ]
     },
     "execution_count": 30,
     "metadata": {},
     "output_type": "execute_result"
    }
   ],
   "source": [
    "#Check the number of flights for the two categories, normalize to the number of flights \n",
    "df.STD_time_category"
   ]
  },
  {
   "cell_type": "code",
   "execution_count": 31,
   "metadata": {},
   "outputs": [
    {
     "data": {
      "image/png": "[encoded data removed]",
      "text/plain": [
       "<Figure size 720x504 with 1 Axes>"
      ]
     },
     "metadata": {
      "needs_background": "light"
     },
     "output_type": "display_data"
    }
   ],
   "source": [
    "#Create a plot showing the average delay (or if 0 without delay) for early and late flights \n",
    "plt.figure(figsize=(10,7))\n",
    "sns.barplot(data=df, x='STD_time_category', y='target', estimator=mean).set(title='Average delay early and late at the day', xlabel='Time of the day', ylabel='Average delay in minutes');"
   ]
  },
  {
   "cell_type": "code",
   "execution_count": 67,
   "metadata": {},
   "outputs": [
    {
     "name": "stdout",
     "output_type": "stream",
     "text": [
      "  STD_time_category  FLTID\n",
      "0     Early_Morning   9396\n",
      "1           Morning  37024\n",
      "2           Mid-Day  39442\n",
      "3              Late  21816\n",
      "  STD_time_category     target\n",
      "0     Early_Morning  45.316092\n",
      "1           Morning  35.555153\n",
      "2           Mid-Day  57.834643\n",
      "3              Late  56.418133\n",
      "107678\n",
      "[0.08726016456472074, 0.3438399673099426, 0.36629580787161725, 0.2026040602537194]\n"
     ]
    }
   ],
   "source": [
    "#Want to normalize our data for the weight of the flight number (=number of flights per category/ total number of flights)\n",
    "df2 = df.groupby('STD_time_category').FLTID.count().reset_index()\n",
    "print(df2)\n",
    "\n",
    "df3 = df.groupby('STD_time_category').target.mean().reset_index()\n",
    "print(df3)\n",
    "\n",
    "#what is the total number of flights? \n",
    "print(df2.FLTID.sum())\n",
    "\n",
    "#calculate the weight per category \n",
    "early = 9396/107678\n",
    "morning = 37024/107678\n",
    "mid = 39442/107678\n",
    "late = 21816/107678\n",
    "\n",
    "#built a new list with the four weights \n",
    "weight =[early, morning, mid, late]\n",
    "print(weight)\n",
    "\n",
    "#add the list as new column to our df3 dataframe\n",
    "df3['weight']= weight\n",
    "df3\n",
    "\n",
    "#create a new column for the normalization \n",
    "df3 = df3.eval('normalized = target * weight')\n"
   ]
  },
  {
   "cell_type": "code",
   "execution_count": 68,
   "metadata": {},
   "outputs": [
    {
     "data": {
      "image/png": "[encoded data removed]",
      "text/plain": [
       "<Figure size 720x504 with 1 Axes>"
      ]
     },
     "metadata": {
      "needs_background": "light"
     },
     "output_type": "display_data"
    }
   ],
   "source": [
    "#Create a plot with the normalized data \n",
    "plt.figure(figsize=(10,7))\n",
    "sns.barplot(data=df3, x='STD_time_category', y='normalized').set(title='Weighted delay early and late at the day', xlabel='Time of the day', ylabel='Weighted delay');"
   ]
  }
 ],
 "metadata": {
  "kernelspec": {
   "display_name": "Python 3.9.8 64-bit ('3.9.8')",
   "language": "python",
   "name": "python3"
  },
  "language_info": {
   "codemirror_mode": {
    "name": "ipython",
    "version": 3
   },
   "file_extension": ".py",
   "mimetype": "text/x-python",
   "name": "python",
   "nbconvert_exporter": "python",
   "pygments_lexer": "ipython3",
   "version": "3.9.8"
  },
  "orig_nbformat": 4,
  "vscode": {
   "interpreter": {
    "hash": "6c89c629ee68eed074ada98664d49af35a49f46d321f4db5a837789b008c0a9a"
   }
  }
 },
 "nbformat": 4,
 "nbformat_minor": 2
}
