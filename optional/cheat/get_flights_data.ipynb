{
 "cells": [
  {
   "cell_type": "markdown",
   "metadata": {},
   "source": [
    "# How to download flights csv file from transtats website"
   ]
  },
  {
   "cell_type": "markdown",
   "metadata": {},
   "source": [
    "**In this notebook, we will**\n",
    "1. Download a csv file for your chosen year(s) and month(s)\n",
    "2. Prepare the data for further processing\n",
    "3. Push the prepared data to a table in the database\n",
    "\n",
    "\n"
   ]
  },
  {
   "cell_type": "code",
   "execution_count": 45,
   "metadata": {},
   "outputs": [],
   "source": [
    "# Import all necessary libraries\n",
    "import pandas as pd\n",
    "import numpy as np\n",
    "import psycopg2\n",
    "import requests #package for getting data from the web\n",
    "from zipfile import * #package for unzipping zip files\n",
    "from sql import engine #adjust this as necessary to match your sql.py connection methods\n",
    "from sqlalchemy import create_engine\n",
    "from sql import get_data \n",
    "from sql import engine\n"
   ]
  },
  {
   "cell_type": "markdown",
   "metadata": {},
   "source": [
    "# 1. Download csv file with flight data for your specific year/month"
   ]
  },
  {
   "cell_type": "markdown",
   "metadata": {},
   "source": [
    "In the following, you are going to download a csv file containing flight data from [this website](https://transtats.bts.gov).    \n",
    "You can specify, which data you want to download. "
   ]
  },
  {
   "cell_type": "markdown",
   "metadata": {},
   "source": [
    "Choose a month/year that you want to explore further.\n",
    "With the following command lines, you will download a csv file on public flight data from [this website](https://transtats.bts.gov) containing data of your chosen month/year.    \n",
    "The file will be stored in a data folder."
   ]
  },
  {
   "cell_type": "code",
   "execution_count": 4,
   "metadata": {},
   "outputs": [],
   "source": [
    "# Specifies path for saving file\n",
    "data_path ='data/' \n",
    "# Create the data folder\n",
    "#!mkdir {path}"
   ]
  },
  {
   "cell_type": "code",
   "execution_count": null,
   "id": "a5b31a19",
   "metadata": {},
   "outputs": [],
   "source": []
  },
  {
   "cell_type": "code",
   "execution_count": 7,
   "metadata": {},
   "outputs": [
    {
     "ename": "SyntaxError",
     "evalue": "unexpected EOF while parsing (2751987803.py, line 16)",
     "output_type": "error",
     "traceback": [
      "\u001b[0;36m  File \u001b[0;32m\"/var/folders/xs/t09nlgmn7v1c138x7zylb7lr0000gn/T/ipykernel_10012/2751987803.py\"\u001b[0;36m, line \u001b[0;32m16\u001b[0m\n\u001b[0;31m    ##     f.write(r.content)\u001b[0m\n\u001b[0m                             ^\u001b[0m\n\u001b[0;31mSyntaxError\u001b[0m\u001b[0;31m:\u001b[0m unexpected EOF while parsing\n"
     ]
    }
   ],
   "source": [
    "years = [1992] # list of years you want to look at, specify one year\n",
    "months = [8] # list of months you want to look at, specify one month\n",
    "\n",
    "\n",
    "#Loop through months\n",
    "for year in years:\n",
    "   for month in months:\n",
    "      # Get the file from the website https://transtats.bts.gov\n",
    "        zip_file = f'On_Time_Reporting_Carrier_On_Time_Performance_1987_present_{year}_{month}.zip'\n",
    "        csv_file = f'On_Time_Reporting_Carrier_On_Time_Performance_(1987_present)_{year}_{month}.csv'\n",
    "        url = (f'https://transtats.bts.gov/PREZIP/{zip_file}')\n",
    "         #Download the database\n",
    "        r = requests.get(f'{url}', verify=False)\n",
    "         #Save database to local file storage\n",
    "        with open(data_path+zip_file, 'wb') as f:\n",
    "       ##     f.write(r.content)"
   ]
  },
  {
   "cell_type": "code",
   "execution_count": null,
   "metadata": {},
   "outputs": [],
   "source": [
    "# Unzip your file\n",
    "#ith ZipFile(path+zip_file, 'r') as zip_ref:\n",
    "    #zip_ref.extractall(path)"
   ]
  },
  {
   "cell_type": "code",
   "execution_count": 8,
   "metadata": {},
   "outputs": [
    {
     "data": {
      "text/plain": [
       "(442131, 110)"
      ]
     },
     "metadata": {},
     "output_type": "display_data"
    },
    {
     "data": {
      "text/html": [
       "<div>\n",
       "<style scoped>\n",
       "    .dataframe tbody tr th:only-of-type {\n",
       "        vertical-align: middle;\n",
       "    }\n",
       "\n",
       "    .dataframe tbody tr th {\n",
       "        vertical-align: top;\n",
       "    }\n",
       "\n",
       "    .dataframe thead th {\n",
       "        text-align: right;\n",
       "    }\n",
       "</style>\n",
       "<table border=\"1\" class=\"dataframe\">\n",
       "  <thead>\n",
       "    <tr style=\"text-align: right;\">\n",
       "      <th></th>\n",
       "      <th>Year</th>\n",
       "      <th>Quarter</th>\n",
       "      <th>Month</th>\n",
       "      <th>DayofMonth</th>\n",
       "      <th>DayOfWeek</th>\n",
       "      <th>FlightDate</th>\n",
       "      <th>Reporting_Airline</th>\n",
       "      <th>DOT_ID_Reporting_Airline</th>\n",
       "      <th>IATA_CODE_Reporting_Airline</th>\n",
       "      <th>Tail_Number</th>\n",
       "      <th>...</th>\n",
       "      <th>Div4TailNum</th>\n",
       "      <th>Div5Airport</th>\n",
       "      <th>Div5AirportID</th>\n",
       "      <th>Div5AirportSeqID</th>\n",
       "      <th>Div5WheelsOn</th>\n",
       "      <th>Div5TotalGTime</th>\n",
       "      <th>Div5LongestGTime</th>\n",
       "      <th>Div5WheelsOff</th>\n",
       "      <th>Div5TailNum</th>\n",
       "      <th>Unnamed: 109</th>\n",
       "    </tr>\n",
       "  </thead>\n",
       "  <tbody>\n",
       "    <tr>\n",
       "      <th>0</th>\n",
       "      <td>1992</td>\n",
       "      <td>3</td>\n",
       "      <td>8</td>\n",
       "      <td>22</td>\n",
       "      <td>6</td>\n",
       "      <td>1992-08-22</td>\n",
       "      <td>UA</td>\n",
       "      <td>19977</td>\n",
       "      <td>UA</td>\n",
       "      <td>NaN</td>\n",
       "      <td>...</td>\n",
       "      <td>NaN</td>\n",
       "      <td>NaN</td>\n",
       "      <td>NaN</td>\n",
       "      <td>NaN</td>\n",
       "      <td>NaN</td>\n",
       "      <td>NaN</td>\n",
       "      <td>NaN</td>\n",
       "      <td>NaN</td>\n",
       "      <td>NaN</td>\n",
       "      <td>NaN</td>\n",
       "    </tr>\n",
       "    <tr>\n",
       "      <th>1</th>\n",
       "      <td>1992</td>\n",
       "      <td>3</td>\n",
       "      <td>8</td>\n",
       "      <td>23</td>\n",
       "      <td>7</td>\n",
       "      <td>1992-08-23</td>\n",
       "      <td>UA</td>\n",
       "      <td>19977</td>\n",
       "      <td>UA</td>\n",
       "      <td>NaN</td>\n",
       "      <td>...</td>\n",
       "      <td>NaN</td>\n",
       "      <td>NaN</td>\n",
       "      <td>NaN</td>\n",
       "      <td>NaN</td>\n",
       "      <td>NaN</td>\n",
       "      <td>NaN</td>\n",
       "      <td>NaN</td>\n",
       "      <td>NaN</td>\n",
       "      <td>NaN</td>\n",
       "      <td>NaN</td>\n",
       "    </tr>\n",
       "    <tr>\n",
       "      <th>2</th>\n",
       "      <td>1992</td>\n",
       "      <td>3</td>\n",
       "      <td>8</td>\n",
       "      <td>24</td>\n",
       "      <td>1</td>\n",
       "      <td>1992-08-24</td>\n",
       "      <td>UA</td>\n",
       "      <td>19977</td>\n",
       "      <td>UA</td>\n",
       "      <td>NaN</td>\n",
       "      <td>...</td>\n",
       "      <td>NaN</td>\n",
       "      <td>NaN</td>\n",
       "      <td>NaN</td>\n",
       "      <td>NaN</td>\n",
       "      <td>NaN</td>\n",
       "      <td>NaN</td>\n",
       "      <td>NaN</td>\n",
       "      <td>NaN</td>\n",
       "      <td>NaN</td>\n",
       "      <td>NaN</td>\n",
       "    </tr>\n",
       "    <tr>\n",
       "      <th>3</th>\n",
       "      <td>1992</td>\n",
       "      <td>3</td>\n",
       "      <td>8</td>\n",
       "      <td>25</td>\n",
       "      <td>2</td>\n",
       "      <td>1992-08-25</td>\n",
       "      <td>UA</td>\n",
       "      <td>19977</td>\n",
       "      <td>UA</td>\n",
       "      <td>NaN</td>\n",
       "      <td>...</td>\n",
       "      <td>NaN</td>\n",
       "      <td>NaN</td>\n",
       "      <td>NaN</td>\n",
       "      <td>NaN</td>\n",
       "      <td>NaN</td>\n",
       "      <td>NaN</td>\n",
       "      <td>NaN</td>\n",
       "      <td>NaN</td>\n",
       "      <td>NaN</td>\n",
       "      <td>NaN</td>\n",
       "    </tr>\n",
       "    <tr>\n",
       "      <th>4</th>\n",
       "      <td>1992</td>\n",
       "      <td>3</td>\n",
       "      <td>8</td>\n",
       "      <td>26</td>\n",
       "      <td>3</td>\n",
       "      <td>1992-08-26</td>\n",
       "      <td>UA</td>\n",
       "      <td>19977</td>\n",
       "      <td>UA</td>\n",
       "      <td>NaN</td>\n",
       "      <td>...</td>\n",
       "      <td>NaN</td>\n",
       "      <td>NaN</td>\n",
       "      <td>NaN</td>\n",
       "      <td>NaN</td>\n",
       "      <td>NaN</td>\n",
       "      <td>NaN</td>\n",
       "      <td>NaN</td>\n",
       "      <td>NaN</td>\n",
       "      <td>NaN</td>\n",
       "      <td>NaN</td>\n",
       "    </tr>\n",
       "  </tbody>\n",
       "</table>\n",
       "<p>5 rows × 110 columns</p>\n",
       "</div>"
      ],
      "text/plain": [
       "   Year  Quarter  Month  DayofMonth  DayOfWeek  FlightDate Reporting_Airline  \\\n",
       "0  1992        3      8          22          6  1992-08-22                UA   \n",
       "1  1992        3      8          23          7  1992-08-23                UA   \n",
       "2  1992        3      8          24          1  1992-08-24                UA   \n",
       "3  1992        3      8          25          2  1992-08-25                UA   \n",
       "4  1992        3      8          26          3  1992-08-26                UA   \n",
       "\n",
       "   DOT_ID_Reporting_Airline IATA_CODE_Reporting_Airline  Tail_Number  ...  \\\n",
       "0                     19977                          UA          NaN  ...   \n",
       "1                     19977                          UA          NaN  ...   \n",
       "2                     19977                          UA          NaN  ...   \n",
       "3                     19977                          UA          NaN  ...   \n",
       "4                     19977                          UA          NaN  ...   \n",
       "\n",
       "   Div4TailNum  Div5Airport  Div5AirportID  Div5AirportSeqID Div5WheelsOn  \\\n",
       "0          NaN          NaN            NaN               NaN          NaN   \n",
       "1          NaN          NaN            NaN               NaN          NaN   \n",
       "2          NaN          NaN            NaN               NaN          NaN   \n",
       "3          NaN          NaN            NaN               NaN          NaN   \n",
       "4          NaN          NaN            NaN               NaN          NaN   \n",
       "\n",
       "  Div5TotalGTime Div5LongestGTime  Div5WheelsOff Div5TailNum  Unnamed: 109  \n",
       "0            NaN              NaN            NaN         NaN           NaN  \n",
       "1            NaN              NaN            NaN         NaN           NaN  \n",
       "2            NaN              NaN            NaN         NaN           NaN  \n",
       "3            NaN              NaN            NaN         NaN           NaN  \n",
       "4            NaN              NaN            NaN         NaN           NaN  \n",
       "\n",
       "[5 rows x 110 columns]"
      ]
     },
     "metadata": {},
     "output_type": "display_data"
    }
   ],
   "source": [
    "# Read in your data\n",
    "#df = pd.read_csv(data/flights_1992.csv', low_memory = False)\n",
    "#display(df.shape)\n",
    "#display(df.head())\n",
    "\n",
    "df = pd.read_csv('data_1992.csv')\n",
    "display(df.shape)\n",
    "display(df.head())"
   ]
  },
  {
   "cell_type": "code",
   "execution_count": null,
   "id": "d8357b4a",
   "metadata": {},
   "outputs": [],
   "source": []
  },
  {
   "cell_type": "markdown",
   "metadata": {},
   "source": [
    "# 2. Prepare the csv file for further processing"
   ]
  },
  {
   "cell_type": "markdown",
   "metadata": {},
   "source": [
    "In the next step, we clean and prepare our dataset."
   ]
  },
  {
   "cell_type": "code",
   "execution_count": null,
   "id": "7ea5b94e",
   "metadata": {},
   "outputs": [],
   "source": []
  },
  {
   "cell_type": "markdown",
   "metadata": {},
   "source": [
    "a) Since the dataset consists of a lot of columns, we we define which ones to keep."
   ]
  },
  {
   "cell_type": "code",
   "execution_count": 9,
   "metadata": {},
   "outputs": [],
   "source": [
    "# Columns from downloaded file that are to be kept\n",
    "\n",
    "columns_to_keep = [\n",
    "                'FlightDate',\n",
    "                'DepTime',\n",
    "                'CRSDepTime',\n",
    "                'DepDelay',\n",
    "                'ArrTime',\n",
    "                'CRSArrTime',\n",
    "                'ArrDelay',\n",
    "                'Reporting_Airline',\n",
    "                'Tail_Number',\n",
    "                'Flight_Number_Reporting_Airline',\n",
    "                'Origin',\n",
    "                'Dest',\n",
    "                'AirTime',\n",
    "                'Distance',\n",
    "                'Cancelled',\n",
    "                'Diverted'\n",
    "]"
   ]
  },
  {
   "cell_type": "code",
   "execution_count": 29,
   "metadata": {},
   "outputs": [
    {
     "ename": "NameError",
     "evalue": "name 'psycop2' is not defined",
     "output_type": "error",
     "traceback": [
      "\u001b[0;31m---------------------------------------------------------------------------\u001b[0m",
      "\u001b[0;31mNameError\u001b[0m                                 Traceback (most recent call last)",
      "\u001b[0;32m/var/folders/xs/t09nlgmn7v1c138x7zylb7lr0000gn/T/ipykernel_10012/3622035967.py\u001b[0m in \u001b[0;36m<module>\u001b[0;34m\u001b[0m\n\u001b[1;32m      1\u001b[0m \u001b[0;31m#set up your database connection\u001b[0m\u001b[0;34m\u001b[0m\u001b[0;34m\u001b[0m\u001b[0;34m\u001b[0m\u001b[0m\n\u001b[0;32m----> 2\u001b[0;31m \u001b[0mconn\u001b[0m \u001b[0;34m=\u001b[0m \u001b[0mpsycop2\u001b[0m\u001b[0;34m.\u001b[0m\u001b[0mconnect\u001b[0m\u001b[0;34m(\u001b[0m\u001b[0mhost\u001b[0m\u001b[0;34m=\u001b[0m\u001b[0mhost\u001b[0m\u001b[0;34m,\u001b[0m\u001b[0mdatabase\u001b[0m\u001b[0;34m=\u001b[0m\u001b[0mdatabase\u001b[0m\u001b[0;34m,\u001b[0m\u001b[0muser\u001b[0m\u001b[0;34m=\u001b[0m\u001b[0muser\u001b[0m\u001b[0;34m,\u001b[0m\u001b[0mpassword\u001b[0m\u001b[0;34m=\u001b[0m\u001b[0mpassword\u001b[0m\u001b[0;34m)\u001b[0m\u001b[0;34m\u001b[0m\u001b[0;34m\u001b[0m\u001b[0m\n\u001b[0m\u001b[1;32m      3\u001b[0m \u001b[0;34m\u001b[0m\u001b[0m\n\u001b[1;32m      4\u001b[0m \u001b[0mengine\u001b[0m \u001b[0;34m=\u001b[0m \u001b[0mcreate_engine\u001b[0m\u001b[0;34m\u001b[0m\u001b[0;34m\u001b[0m\u001b[0m\n",
      "\u001b[0;31mNameError\u001b[0m: name 'psycop2' is not defined"
     ]
    }
   ],
   "source": [
    "#set up your database connection\n",
    "conn = psycop2.connect(host=host,database=database,user=user,password=password)\n",
    "\n",
    "engine = create_engine"
   ]
  },
  {
   "cell_type": "code",
   "execution_count": 12,
   "metadata": {},
   "outputs": [
    {
     "ename": "ProgrammingError",
     "evalue": "(psycopg2.errors.UndefinedColumn) column \"schema\" does not exist\nLINE 4:                 AND TABLE_SCHEMA = schema\n                                           ^\n\n[SQL: SELECT COLUMN_NAME\n                FROM INFORMATION_SCHEMA.COLUMNS\n                WHERE TABLE_NAME = 'flights'\n                AND TABLE_SCHEMA = schema\n                ORDER BY ordinal_position]\n(Background on this error at: https://sqlalche.me/e/14/f405)",
     "output_type": "error",
     "traceback": [
      "\u001b[0;31m---------------------------------------------------------------------------\u001b[0m",
      "\u001b[0;31mUndefinedColumn\u001b[0m                           Traceback (most recent call last)",
      "\u001b[0;32m/usr/local/Caskroom/miniconda/base/envs/nf_base/lib/python3.8/site-packages/sqlalchemy/engine/base.py\u001b[0m in \u001b[0;36m_execute_context\u001b[0;34m(self, dialect, constructor, statement, parameters, execution_options, *args, **kw)\u001b[0m\n\u001b[1;32m   1801\u001b[0m                 \u001b[0;32mif\u001b[0m \u001b[0;32mnot\u001b[0m \u001b[0mevt_handled\u001b[0m\u001b[0;34m:\u001b[0m\u001b[0;34m\u001b[0m\u001b[0;34m\u001b[0m\u001b[0m\n\u001b[0;32m-> 1802\u001b[0;31m                     self.dialect.do_execute(\n\u001b[0m\u001b[1;32m   1803\u001b[0m                         \u001b[0mcursor\u001b[0m\u001b[0;34m,\u001b[0m \u001b[0mstatement\u001b[0m\u001b[0;34m,\u001b[0m \u001b[0mparameters\u001b[0m\u001b[0;34m,\u001b[0m \u001b[0mcontext\u001b[0m\u001b[0;34m\u001b[0m\u001b[0;34m\u001b[0m\u001b[0m\n",
      "\u001b[0;32m/usr/local/Caskroom/miniconda/base/envs/nf_base/lib/python3.8/site-packages/sqlalchemy/engine/default.py\u001b[0m in \u001b[0;36mdo_execute\u001b[0;34m(self, cursor, statement, parameters, context)\u001b[0m\n\u001b[1;32m    718\u001b[0m     \u001b[0;32mdef\u001b[0m \u001b[0mdo_execute\u001b[0m\u001b[0;34m(\u001b[0m\u001b[0mself\u001b[0m\u001b[0;34m,\u001b[0m \u001b[0mcursor\u001b[0m\u001b[0;34m,\u001b[0m \u001b[0mstatement\u001b[0m\u001b[0;34m,\u001b[0m \u001b[0mparameters\u001b[0m\u001b[0;34m,\u001b[0m \u001b[0mcontext\u001b[0m\u001b[0;34m=\u001b[0m\u001b[0;32mNone\u001b[0m\u001b[0;34m)\u001b[0m\u001b[0;34m:\u001b[0m\u001b[0;34m\u001b[0m\u001b[0;34m\u001b[0m\u001b[0m\n\u001b[0;32m--> 719\u001b[0;31m         \u001b[0mcursor\u001b[0m\u001b[0;34m.\u001b[0m\u001b[0mexecute\u001b[0m\u001b[0;34m(\u001b[0m\u001b[0mstatement\u001b[0m\u001b[0;34m,\u001b[0m \u001b[0mparameters\u001b[0m\u001b[0;34m)\u001b[0m\u001b[0;34m\u001b[0m\u001b[0;34m\u001b[0m\u001b[0m\n\u001b[0m\u001b[1;32m    720\u001b[0m \u001b[0;34m\u001b[0m\u001b[0m\n",
      "\u001b[0;31mUndefinedColumn\u001b[0m: column \"schema\" does not exist\nLINE 4:                 AND TABLE_SCHEMA = schema\n                                           ^\n",
      "\nThe above exception was the direct cause of the following exception:\n",
      "\u001b[0;31mProgrammingError\u001b[0m                          Traceback (most recent call last)",
      "\u001b[0;32m/var/folders/xs/t09nlgmn7v1c138x7zylb7lr0000gn/T/ipykernel_10012/395096778.py\u001b[0m in \u001b[0;36m<module>\u001b[0;34m\u001b[0m\n\u001b[1;32m      6\u001b[0m                 \u001b[0mAND\u001b[0m \u001b[0mTABLE_SCHEMA\u001b[0m \u001b[0;34m=\u001b[0m \u001b[0mschema\u001b[0m\u001b[0;34m\u001b[0m\u001b[0;34m\u001b[0m\u001b[0m\n\u001b[1;32m      7\u001b[0m                 ORDER BY ordinal_position'''\n\u001b[0;32m----> 8\u001b[0;31m \u001b[0mc_names\u001b[0m \u001b[0;34m=\u001b[0m \u001b[0mengine\u001b[0m\u001b[0;34m.\u001b[0m\u001b[0mexecute\u001b[0m\u001b[0;34m(\u001b[0m\u001b[0mtable_name_sql\u001b[0m\u001b[0;34m)\u001b[0m\u001b[0;34m.\u001b[0m\u001b[0mfetchall\u001b[0m\u001b[0;34m(\u001b[0m\u001b[0;34m)\u001b[0m\u001b[0;34m\u001b[0m\u001b[0;34m\u001b[0m\u001b[0m\n\u001b[0m\u001b[1;32m      9\u001b[0m \u001b[0mc_names\u001b[0m\u001b[0;34m\u001b[0m\u001b[0;34m\u001b[0m\u001b[0m\n",
      "\u001b[0;32m<string>\u001b[0m in \u001b[0;36mexecute\u001b[0;34m(self, statement, *multiparams, **params)\u001b[0m\n",
      "\u001b[0;32m/usr/local/Caskroom/miniconda/base/envs/nf_base/lib/python3.8/site-packages/sqlalchemy/util/deprecations.py\u001b[0m in \u001b[0;36mwarned\u001b[0;34m(fn, *args, **kwargs)\u001b[0m\n\u001b[1;32m    399\u001b[0m         \u001b[0;32mif\u001b[0m \u001b[0;32mnot\u001b[0m \u001b[0mskip_warning\u001b[0m\u001b[0;34m:\u001b[0m\u001b[0;34m\u001b[0m\u001b[0;34m\u001b[0m\u001b[0m\n\u001b[1;32m    400\u001b[0m             \u001b[0m_warn_with_version\u001b[0m\u001b[0;34m(\u001b[0m\u001b[0mmessage\u001b[0m\u001b[0;34m,\u001b[0m \u001b[0mversion\u001b[0m\u001b[0;34m,\u001b[0m \u001b[0mwtype\u001b[0m\u001b[0;34m,\u001b[0m \u001b[0mstacklevel\u001b[0m\u001b[0;34m=\u001b[0m\u001b[0;36m3\u001b[0m\u001b[0;34m)\u001b[0m\u001b[0;34m\u001b[0m\u001b[0;34m\u001b[0m\u001b[0m\n\u001b[0;32m--> 401\u001b[0;31m         \u001b[0;32mreturn\u001b[0m \u001b[0mfn\u001b[0m\u001b[0;34m(\u001b[0m\u001b[0;34m*\u001b[0m\u001b[0margs\u001b[0m\u001b[0;34m,\u001b[0m \u001b[0;34m**\u001b[0m\u001b[0mkwargs\u001b[0m\u001b[0;34m)\u001b[0m\u001b[0;34m\u001b[0m\u001b[0;34m\u001b[0m\u001b[0m\n\u001b[0m\u001b[1;32m    402\u001b[0m \u001b[0;34m\u001b[0m\u001b[0m\n\u001b[1;32m    403\u001b[0m     \u001b[0mdoc\u001b[0m \u001b[0;34m=\u001b[0m \u001b[0mfunc\u001b[0m\u001b[0;34m.\u001b[0m\u001b[0m__doc__\u001b[0m \u001b[0;32mis\u001b[0m \u001b[0;32mnot\u001b[0m \u001b[0;32mNone\u001b[0m \u001b[0;32mand\u001b[0m \u001b[0mfunc\u001b[0m\u001b[0;34m.\u001b[0m\u001b[0m__doc__\u001b[0m \u001b[0;32mor\u001b[0m \u001b[0;34m\"\"\u001b[0m\u001b[0;34m\u001b[0m\u001b[0;34m\u001b[0m\u001b[0m\n",
      "\u001b[0;32m/usr/local/Caskroom/miniconda/base/envs/nf_base/lib/python3.8/site-packages/sqlalchemy/engine/base.py\u001b[0m in \u001b[0;36mexecute\u001b[0;34m(self, statement, *multiparams, **params)\u001b[0m\n\u001b[1;32m   3137\u001b[0m         \"\"\"\n\u001b[1;32m   3138\u001b[0m         \u001b[0mconnection\u001b[0m \u001b[0;34m=\u001b[0m \u001b[0mself\u001b[0m\u001b[0;34m.\u001b[0m\u001b[0mconnect\u001b[0m\u001b[0;34m(\u001b[0m\u001b[0mclose_with_result\u001b[0m\u001b[0;34m=\u001b[0m\u001b[0;32mTrue\u001b[0m\u001b[0;34m)\u001b[0m\u001b[0;34m\u001b[0m\u001b[0;34m\u001b[0m\u001b[0m\n\u001b[0;32m-> 3139\u001b[0;31m         \u001b[0;32mreturn\u001b[0m \u001b[0mconnection\u001b[0m\u001b[0;34m.\u001b[0m\u001b[0mexecute\u001b[0m\u001b[0;34m(\u001b[0m\u001b[0mstatement\u001b[0m\u001b[0;34m,\u001b[0m \u001b[0;34m*\u001b[0m\u001b[0mmultiparams\u001b[0m\u001b[0;34m,\u001b[0m \u001b[0;34m**\u001b[0m\u001b[0mparams\u001b[0m\u001b[0;34m)\u001b[0m\u001b[0;34m\u001b[0m\u001b[0;34m\u001b[0m\u001b[0m\n\u001b[0m\u001b[1;32m   3140\u001b[0m \u001b[0;34m\u001b[0m\u001b[0m\n\u001b[1;32m   3141\u001b[0m     @util.deprecated_20(\n",
      "\u001b[0;32m/usr/local/Caskroom/miniconda/base/envs/nf_base/lib/python3.8/site-packages/sqlalchemy/engine/base.py\u001b[0m in \u001b[0;36mexecute\u001b[0;34m(self, statement, *multiparams, **params)\u001b[0m\n\u001b[1;32m   1272\u001b[0m             )\n\u001b[1;32m   1273\u001b[0m \u001b[0;34m\u001b[0m\u001b[0m\n\u001b[0;32m-> 1274\u001b[0;31m             return self._exec_driver_sql(\n\u001b[0m\u001b[1;32m   1275\u001b[0m                 \u001b[0mstatement\u001b[0m\u001b[0;34m,\u001b[0m\u001b[0;34m\u001b[0m\u001b[0;34m\u001b[0m\u001b[0m\n\u001b[1;32m   1276\u001b[0m                 \u001b[0mmultiparams\u001b[0m\u001b[0;34m,\u001b[0m\u001b[0;34m\u001b[0m\u001b[0;34m\u001b[0m\u001b[0m\n",
      "\u001b[0;32m/usr/local/Caskroom/miniconda/base/envs/nf_base/lib/python3.8/site-packages/sqlalchemy/engine/base.py\u001b[0m in \u001b[0;36m_exec_driver_sql\u001b[0;34m(self, statement, multiparams, params, execution_options, future)\u001b[0m\n\u001b[1;32m   1576\u001b[0m \u001b[0;34m\u001b[0m\u001b[0m\n\u001b[1;32m   1577\u001b[0m         \u001b[0mdialect\u001b[0m \u001b[0;34m=\u001b[0m \u001b[0mself\u001b[0m\u001b[0;34m.\u001b[0m\u001b[0mdialect\u001b[0m\u001b[0;34m\u001b[0m\u001b[0;34m\u001b[0m\u001b[0m\n\u001b[0;32m-> 1578\u001b[0;31m         ret = self._execute_context(\n\u001b[0m\u001b[1;32m   1579\u001b[0m             \u001b[0mdialect\u001b[0m\u001b[0;34m,\u001b[0m\u001b[0;34m\u001b[0m\u001b[0;34m\u001b[0m\u001b[0m\n\u001b[1;32m   1580\u001b[0m             \u001b[0mdialect\u001b[0m\u001b[0;34m.\u001b[0m\u001b[0mexecution_ctx_cls\u001b[0m\u001b[0;34m.\u001b[0m\u001b[0m_init_statement\u001b[0m\u001b[0;34m,\u001b[0m\u001b[0;34m\u001b[0m\u001b[0;34m\u001b[0m\u001b[0m\n",
      "\u001b[0;32m/usr/local/Caskroom/miniconda/base/envs/nf_base/lib/python3.8/site-packages/sqlalchemy/engine/base.py\u001b[0m in \u001b[0;36m_execute_context\u001b[0;34m(self, dialect, constructor, statement, parameters, execution_options, *args, **kw)\u001b[0m\n\u001b[1;32m   1843\u001b[0m \u001b[0;34m\u001b[0m\u001b[0m\n\u001b[1;32m   1844\u001b[0m         \u001b[0;32mexcept\u001b[0m \u001b[0mBaseException\u001b[0m \u001b[0;32mas\u001b[0m \u001b[0me\u001b[0m\u001b[0;34m:\u001b[0m\u001b[0;34m\u001b[0m\u001b[0;34m\u001b[0m\u001b[0m\n\u001b[0;32m-> 1845\u001b[0;31m             self._handle_dbapi_exception(\n\u001b[0m\u001b[1;32m   1846\u001b[0m                 \u001b[0me\u001b[0m\u001b[0;34m,\u001b[0m \u001b[0mstatement\u001b[0m\u001b[0;34m,\u001b[0m \u001b[0mparameters\u001b[0m\u001b[0;34m,\u001b[0m \u001b[0mcursor\u001b[0m\u001b[0;34m,\u001b[0m \u001b[0mcontext\u001b[0m\u001b[0;34m\u001b[0m\u001b[0;34m\u001b[0m\u001b[0m\n\u001b[1;32m   1847\u001b[0m             )\n",
      "\u001b[0;32m/usr/local/Caskroom/miniconda/base/envs/nf_base/lib/python3.8/site-packages/sqlalchemy/engine/base.py\u001b[0m in \u001b[0;36m_handle_dbapi_exception\u001b[0;34m(self, e, statement, parameters, cursor, context)\u001b[0m\n\u001b[1;32m   2024\u001b[0m                 \u001b[0mutil\u001b[0m\u001b[0;34m.\u001b[0m\u001b[0mraise_\u001b[0m\u001b[0;34m(\u001b[0m\u001b[0mnewraise\u001b[0m\u001b[0;34m,\u001b[0m \u001b[0mwith_traceback\u001b[0m\u001b[0;34m=\u001b[0m\u001b[0mexc_info\u001b[0m\u001b[0;34m[\u001b[0m\u001b[0;36m2\u001b[0m\u001b[0;34m]\u001b[0m\u001b[0;34m,\u001b[0m \u001b[0mfrom_\u001b[0m\u001b[0;34m=\u001b[0m\u001b[0me\u001b[0m\u001b[0;34m)\u001b[0m\u001b[0;34m\u001b[0m\u001b[0;34m\u001b[0m\u001b[0m\n\u001b[1;32m   2025\u001b[0m             \u001b[0;32melif\u001b[0m \u001b[0mshould_wrap\u001b[0m\u001b[0;34m:\u001b[0m\u001b[0;34m\u001b[0m\u001b[0;34m\u001b[0m\u001b[0m\n\u001b[0;32m-> 2026\u001b[0;31m                 util.raise_(\n\u001b[0m\u001b[1;32m   2027\u001b[0m                     \u001b[0msqlalchemy_exception\u001b[0m\u001b[0;34m,\u001b[0m \u001b[0mwith_traceback\u001b[0m\u001b[0;34m=\u001b[0m\u001b[0mexc_info\u001b[0m\u001b[0;34m[\u001b[0m\u001b[0;36m2\u001b[0m\u001b[0;34m]\u001b[0m\u001b[0;34m,\u001b[0m \u001b[0mfrom_\u001b[0m\u001b[0;34m=\u001b[0m\u001b[0me\u001b[0m\u001b[0;34m\u001b[0m\u001b[0;34m\u001b[0m\u001b[0m\n\u001b[1;32m   2028\u001b[0m                 )\n",
      "\u001b[0;32m/usr/local/Caskroom/miniconda/base/envs/nf_base/lib/python3.8/site-packages/sqlalchemy/util/compat.py\u001b[0m in \u001b[0;36mraise_\u001b[0;34m(***failed resolving arguments***)\u001b[0m\n\u001b[1;32m    205\u001b[0m \u001b[0;34m\u001b[0m\u001b[0m\n\u001b[1;32m    206\u001b[0m         \u001b[0;32mtry\u001b[0m\u001b[0;34m:\u001b[0m\u001b[0;34m\u001b[0m\u001b[0;34m\u001b[0m\u001b[0m\n\u001b[0;32m--> 207\u001b[0;31m             \u001b[0;32mraise\u001b[0m \u001b[0mexception\u001b[0m\u001b[0;34m\u001b[0m\u001b[0;34m\u001b[0m\u001b[0m\n\u001b[0m\u001b[1;32m    208\u001b[0m         \u001b[0;32mfinally\u001b[0m\u001b[0;34m:\u001b[0m\u001b[0;34m\u001b[0m\u001b[0;34m\u001b[0m\u001b[0m\n\u001b[1;32m    209\u001b[0m             \u001b[0;31m# credit to\u001b[0m\u001b[0;34m\u001b[0m\u001b[0;34m\u001b[0m\u001b[0;34m\u001b[0m\u001b[0m\n",
      "\u001b[0;32m/usr/local/Caskroom/miniconda/base/envs/nf_base/lib/python3.8/site-packages/sqlalchemy/engine/base.py\u001b[0m in \u001b[0;36m_execute_context\u001b[0;34m(self, dialect, constructor, statement, parameters, execution_options, *args, **kw)\u001b[0m\n\u001b[1;32m   1800\u001b[0m                             \u001b[0;32mbreak\u001b[0m\u001b[0;34m\u001b[0m\u001b[0;34m\u001b[0m\u001b[0m\n\u001b[1;32m   1801\u001b[0m                 \u001b[0;32mif\u001b[0m \u001b[0;32mnot\u001b[0m \u001b[0mevt_handled\u001b[0m\u001b[0;34m:\u001b[0m\u001b[0;34m\u001b[0m\u001b[0;34m\u001b[0m\u001b[0m\n\u001b[0;32m-> 1802\u001b[0;31m                     self.dialect.do_execute(\n\u001b[0m\u001b[1;32m   1803\u001b[0m                         \u001b[0mcursor\u001b[0m\u001b[0;34m,\u001b[0m \u001b[0mstatement\u001b[0m\u001b[0;34m,\u001b[0m \u001b[0mparameters\u001b[0m\u001b[0;34m,\u001b[0m \u001b[0mcontext\u001b[0m\u001b[0;34m\u001b[0m\u001b[0;34m\u001b[0m\u001b[0m\n\u001b[1;32m   1804\u001b[0m                     )\n",
      "\u001b[0;32m/usr/local/Caskroom/miniconda/base/envs/nf_base/lib/python3.8/site-packages/sqlalchemy/engine/default.py\u001b[0m in \u001b[0;36mdo_execute\u001b[0;34m(self, cursor, statement, parameters, context)\u001b[0m\n\u001b[1;32m    717\u001b[0m \u001b[0;34m\u001b[0m\u001b[0m\n\u001b[1;32m    718\u001b[0m     \u001b[0;32mdef\u001b[0m \u001b[0mdo_execute\u001b[0m\u001b[0;34m(\u001b[0m\u001b[0mself\u001b[0m\u001b[0;34m,\u001b[0m \u001b[0mcursor\u001b[0m\u001b[0;34m,\u001b[0m \u001b[0mstatement\u001b[0m\u001b[0;34m,\u001b[0m \u001b[0mparameters\u001b[0m\u001b[0;34m,\u001b[0m \u001b[0mcontext\u001b[0m\u001b[0;34m=\u001b[0m\u001b[0;32mNone\u001b[0m\u001b[0;34m)\u001b[0m\u001b[0;34m:\u001b[0m\u001b[0;34m\u001b[0m\u001b[0;34m\u001b[0m\u001b[0m\n\u001b[0;32m--> 719\u001b[0;31m         \u001b[0mcursor\u001b[0m\u001b[0;34m.\u001b[0m\u001b[0mexecute\u001b[0m\u001b[0;34m(\u001b[0m\u001b[0mstatement\u001b[0m\u001b[0;34m,\u001b[0m \u001b[0mparameters\u001b[0m\u001b[0;34m)\u001b[0m\u001b[0;34m\u001b[0m\u001b[0;34m\u001b[0m\u001b[0m\n\u001b[0m\u001b[1;32m    720\u001b[0m \u001b[0;34m\u001b[0m\u001b[0m\n\u001b[1;32m    721\u001b[0m     \u001b[0;32mdef\u001b[0m \u001b[0mdo_execute_no_params\u001b[0m\u001b[0;34m(\u001b[0m\u001b[0mself\u001b[0m\u001b[0;34m,\u001b[0m \u001b[0mcursor\u001b[0m\u001b[0;34m,\u001b[0m \u001b[0mstatement\u001b[0m\u001b[0;34m,\u001b[0m \u001b[0mcontext\u001b[0m\u001b[0;34m=\u001b[0m\u001b[0;32mNone\u001b[0m\u001b[0;34m)\u001b[0m\u001b[0;34m:\u001b[0m\u001b[0;34m\u001b[0m\u001b[0;34m\u001b[0m\u001b[0m\n",
      "\u001b[0;31mProgrammingError\u001b[0m: (psycopg2.errors.UndefinedColumn) column \"schema\" does not exist\nLINE 4:                 AND TABLE_SCHEMA = schema\n                                           ^\n\n[SQL: SELECT COLUMN_NAME\n                FROM INFORMATION_SCHEMA.COLUMNS\n                WHERE TABLE_NAME = 'flights'\n                AND TABLE_SCHEMA = schema\n                ORDER BY ordinal_position]\n(Background on this error at: https://sqlalche.me/e/14/f405)"
     ]
    }
   ],
   "source": [
    "# The columns in the DB have different naming as in the source csv files. Lets get the names from the DB\n",
    "schema = 'muc_analytics_21_1'\n",
    "table_name_sql ='''SELECT COLUMN_NAME\n",
    "                FROM INFORMATION_SCHEMA.COLUMNS\n",
    "                WHERE TABLE_NAME = 'flights'\n",
    "                AND TABLE_SCHEMA = schema\n",
    "                ORDER BY ordinal_position'''\n",
    "c_names = engine.execute(table_name_sql).fetchall()\n",
    "c_names"
   ]
  },
  {
   "cell_type": "code",
   "execution_count": null,
   "id": "4f4720c6",
   "metadata": {},
   "outputs": [],
   "source": [
    "# we an clean up the results into clean list \n",
    "new_column_names=[]\n",
    "for name in c_names:\n",
    "    new_column_names_alternate.append([name[0])\n",
    "new_column_names"
   ]
  },
  {
   "cell_type": "code",
   "execution_count": null,
   "id": "4b85b46c",
   "metadata": {},
   "outputs": [],
   "source": [
    "# The columns in the DB have different naming as in the source csv files. Lets get the names from the DB\n",
    "table_name_sql ='''SELECT COUNT(*)N\n",
    "                FROM muc_analytics_21_1.flights'''\n",
    "    \n",
    "c_names = engine.execute(table_name_sql).fetchall()\n",
    "c_names"
   ]
  },
  {
   "cell_type": "code",
   "execution_count": null,
   "metadata": {},
   "outputs": [],
   "source": [
    "# we can clean up the results into a clean list\n",
    "new_column_names=[]\n",
    "for name in c_names:\n",
    "    new_column_names.append(name[0])\n",
    "new_column_names        "
   ]
  },
  {
   "cell_type": "code",
   "execution_count": 30,
   "metadata": {},
   "outputs": [],
   "source": [
    "# Just in case the above fails here are the results\n",
    "new_column_names_alternate = ['flight_date', 'dep_time', 'sched_dep_time', 'dep_delay', 'arr_time', 'sched_arr_time', \n",
    "                'arr_delay', 'airline', 'tail_number', 'flight_number', 'origin', 'dest', 'air_time', 'distance', 'cancelled', 'diverted' ]"
   ]
  },
  {
   "cell_type": "markdown",
   "metadata": {},
   "source": [
    "b) With the next function, we make our csv file ready to be uploaded to SQL.  \n",
    "We only keep to above specified columns and convert the datatypes."
   ]
  },
  {
   "cell_type": "code",
   "execution_count": 32,
   "metadata": {},
   "outputs": [],
   "source": [
    "def clean_airline_df(df):\n",
    "    '''\n",
    "    Transforms a df made from BTS csv file into a df that is ready to be uploaded to SQL\n",
    "    Set rows=0 for no filtering\n",
    "    '''\n",
    "\n",
    "    # Build dataframe including only the columns you want to keep\n",
    "    df_airline = df.loc[:,columns_to_keep]\n",
    "     \n",
    "    # Clean data types and NULLs\n",
    "    df_airline['FlightDate']= pd.to_datetime(df_airline['FlightDate'], yearfirst=True)\n",
    "    df_airline['CRSArrTime']= pd.to_numeric(df_airline['CRSArrTime'], downcast='integer', errors='coerce')\n",
    "    df_airline['Cancelled']= pd.to_numeric(df_airline['Cancelled'], downcast='integer')\n",
    "    df_airline['Diverted']= pd.to_numeric(df_airline['Diverted'], downcast='integer')\n",
    "    \n",
    "    # Rename columns\n",
    "    df_airline.columns = new_column_names_alternate\n",
    "    \n",
    "    return df_airline\n",
    "    test = df_airline"
   ]
  },
  {
   "cell_type": "code",
   "execution_count": 33,
   "metadata": {},
   "outputs": [
    {
     "data": {
      "text/html": [
       "<div>\n",
       "<style scoped>\n",
       "    .dataframe tbody tr th:only-of-type {\n",
       "        vertical-align: middle;\n",
       "    }\n",
       "\n",
       "    .dataframe tbody tr th {\n",
       "        vertical-align: top;\n",
       "    }\n",
       "\n",
       "    .dataframe thead th {\n",
       "        text-align: right;\n",
       "    }\n",
       "</style>\n",
       "<table border=\"1\" class=\"dataframe\">\n",
       "  <thead>\n",
       "    <tr style=\"text-align: right;\">\n",
       "      <th></th>\n",
       "      <th>flight_date</th>\n",
       "      <th>dep_time</th>\n",
       "      <th>sched_dep_time</th>\n",
       "      <th>dep_delay</th>\n",
       "      <th>arr_time</th>\n",
       "      <th>sched_arr_time</th>\n",
       "      <th>arr_delay</th>\n",
       "      <th>airline</th>\n",
       "      <th>tail_number</th>\n",
       "      <th>flight_number</th>\n",
       "      <th>origin</th>\n",
       "      <th>dest</th>\n",
       "      <th>air_time</th>\n",
       "      <th>distance</th>\n",
       "      <th>cancelled</th>\n",
       "      <th>diverted</th>\n",
       "    </tr>\n",
       "  </thead>\n",
       "  <tbody>\n",
       "    <tr>\n",
       "      <th>0</th>\n",
       "      <td>1992-08-22</td>\n",
       "      <td>1617.0</td>\n",
       "      <td>1615</td>\n",
       "      <td>2.0</td>\n",
       "      <td>1818.0</td>\n",
       "      <td>1837</td>\n",
       "      <td>-19.0</td>\n",
       "      <td>UA</td>\n",
       "      <td>NaN</td>\n",
       "      <td>55</td>\n",
       "      <td>IAD</td>\n",
       "      <td>LAX</td>\n",
       "      <td>NaN</td>\n",
       "      <td>2288.0</td>\n",
       "      <td>0</td>\n",
       "      <td>0</td>\n",
       "    </tr>\n",
       "    <tr>\n",
       "      <th>1</th>\n",
       "      <td>1992-08-23</td>\n",
       "      <td>1620.0</td>\n",
       "      <td>1615</td>\n",
       "      <td>5.0</td>\n",
       "      <td>1840.0</td>\n",
       "      <td>1837</td>\n",
       "      <td>3.0</td>\n",
       "      <td>UA</td>\n",
       "      <td>NaN</td>\n",
       "      <td>55</td>\n",
       "      <td>IAD</td>\n",
       "      <td>LAX</td>\n",
       "      <td>NaN</td>\n",
       "      <td>2288.0</td>\n",
       "      <td>0</td>\n",
       "      <td>0</td>\n",
       "    </tr>\n",
       "    <tr>\n",
       "      <th>2</th>\n",
       "      <td>1992-08-24</td>\n",
       "      <td>1614.0</td>\n",
       "      <td>1615</td>\n",
       "      <td>-1.0</td>\n",
       "      <td>1826.0</td>\n",
       "      <td>1837</td>\n",
       "      <td>-11.0</td>\n",
       "      <td>UA</td>\n",
       "      <td>NaN</td>\n",
       "      <td>55</td>\n",
       "      <td>IAD</td>\n",
       "      <td>LAX</td>\n",
       "      <td>NaN</td>\n",
       "      <td>2288.0</td>\n",
       "      <td>0</td>\n",
       "      <td>0</td>\n",
       "    </tr>\n",
       "    <tr>\n",
       "      <th>3</th>\n",
       "      <td>1992-08-25</td>\n",
       "      <td>1617.0</td>\n",
       "      <td>1615</td>\n",
       "      <td>2.0</td>\n",
       "      <td>1831.0</td>\n",
       "      <td>1837</td>\n",
       "      <td>-6.0</td>\n",
       "      <td>UA</td>\n",
       "      <td>NaN</td>\n",
       "      <td>55</td>\n",
       "      <td>IAD</td>\n",
       "      <td>LAX</td>\n",
       "      <td>NaN</td>\n",
       "      <td>2288.0</td>\n",
       "      <td>0</td>\n",
       "      <td>0</td>\n",
       "    </tr>\n",
       "    <tr>\n",
       "      <th>4</th>\n",
       "      <td>1992-08-26</td>\n",
       "      <td>1622.0</td>\n",
       "      <td>1615</td>\n",
       "      <td>7.0</td>\n",
       "      <td>1858.0</td>\n",
       "      <td>1837</td>\n",
       "      <td>21.0</td>\n",
       "      <td>UA</td>\n",
       "      <td>NaN</td>\n",
       "      <td>55</td>\n",
       "      <td>IAD</td>\n",
       "      <td>LAX</td>\n",
       "      <td>NaN</td>\n",
       "      <td>2288.0</td>\n",
       "      <td>0</td>\n",
       "      <td>0</td>\n",
       "    </tr>\n",
       "  </tbody>\n",
       "</table>\n",
       "</div>"
      ],
      "text/plain": [
       "  flight_date  dep_time  sched_dep_time  dep_delay  arr_time  sched_arr_time  \\\n",
       "0  1992-08-22    1617.0            1615        2.0    1818.0            1837   \n",
       "1  1992-08-23    1620.0            1615        5.0    1840.0            1837   \n",
       "2  1992-08-24    1614.0            1615       -1.0    1826.0            1837   \n",
       "3  1992-08-25    1617.0            1615        2.0    1831.0            1837   \n",
       "4  1992-08-26    1622.0            1615        7.0    1858.0            1837   \n",
       "\n",
       "   arr_delay airline  tail_number  flight_number origin dest  air_time  \\\n",
       "0      -19.0      UA          NaN             55    IAD  LAX       NaN   \n",
       "1        3.0      UA          NaN             55    IAD  LAX       NaN   \n",
       "2      -11.0      UA          NaN             55    IAD  LAX       NaN   \n",
       "3       -6.0      UA          NaN             55    IAD  LAX       NaN   \n",
       "4       21.0      UA          NaN             55    IAD  LAX       NaN   \n",
       "\n",
       "   distance  cancelled  diverted  \n",
       "0    2288.0          0         0  \n",
       "1    2288.0          0         0  \n",
       "2    2288.0          0         0  \n",
       "3    2288.0          0         0  \n",
       "4    2288.0          0         0  "
      ]
     },
     "execution_count": 33,
     "metadata": {},
     "output_type": "execute_result"
    }
   ],
   "source": [
    "# Call function and check resulting dataframe\n",
    "df_clean = clean_airline_df(df)\n",
    "df_clean.head()"
   ]
  },
  {
   "cell_type": "markdown",
   "metadata": {},
   "source": [
    "If you decide to only look at specific airports, it is a good decision to filter for them in advance.  \n",
    "This function does the filtering. "
   ]
  },
  {
   "cell_type": "code",
   "execution_count": 34,
   "metadata": {},
   "outputs": [],
   "source": [
    "# Specify the airports you are interested in and put them as a list in the function.\n",
    "def select_airport(df, airports):\n",
    "    ''' Helper function for filtering airline df for a subset of airports'''\n",
    "    df_out = df.loc[(df.origin.isin(airports)) | (df.dest.isin(airports))]\n",
    "    return df_out"
   ]
  },
  {
   "cell_type": "markdown",
   "id": "3fe3c1e8",
   "metadata": {},
   "source": [
    "Affected Area:\n",
    "\n",
    "Tennesse = TYS, MEM, BNA\n",
    "Alabama = BHM, HSV, MOB \n",
    "Mississippi = GTR, GPT, JAN\n",
    "Louisiana = MSY, BTR, SHV\n",
    "Florida = MIA, FLL, PBI\n",
    "Bahamas = NAS, FPO, CCZ"
   ]
  },
  {
   "cell_type": "code",
   "execution_count": 35,
   "metadata": {},
   "outputs": [
    {
     "data": {
      "text/html": [
       "<div>\n",
       "<style scoped>\n",
       "    .dataframe tbody tr th:only-of-type {\n",
       "        vertical-align: middle;\n",
       "    }\n",
       "\n",
       "    .dataframe tbody tr th {\n",
       "        vertical-align: top;\n",
       "    }\n",
       "\n",
       "    .dataframe thead th {\n",
       "        text-align: right;\n",
       "    }\n",
       "</style>\n",
       "<table border=\"1\" class=\"dataframe\">\n",
       "  <thead>\n",
       "    <tr style=\"text-align: right;\">\n",
       "      <th></th>\n",
       "      <th>flight_date</th>\n",
       "      <th>dep_time</th>\n",
       "      <th>sched_dep_time</th>\n",
       "      <th>dep_delay</th>\n",
       "      <th>arr_time</th>\n",
       "      <th>sched_arr_time</th>\n",
       "      <th>arr_delay</th>\n",
       "      <th>airline</th>\n",
       "      <th>tail_number</th>\n",
       "      <th>flight_number</th>\n",
       "      <th>origin</th>\n",
       "      <th>dest</th>\n",
       "      <th>air_time</th>\n",
       "      <th>distance</th>\n",
       "      <th>cancelled</th>\n",
       "      <th>diverted</th>\n",
       "    </tr>\n",
       "  </thead>\n",
       "  <tbody>\n",
       "    <tr>\n",
       "      <th>5835</th>\n",
       "      <td>1992-08-01</td>\n",
       "      <td>1122.0</td>\n",
       "      <td>1112</td>\n",
       "      <td>10.0</td>\n",
       "      <td>1147.0</td>\n",
       "      <td>1145</td>\n",
       "      <td>2.0</td>\n",
       "      <td>UA</td>\n",
       "      <td>NaN</td>\n",
       "      <td>203</td>\n",
       "      <td>TYS</td>\n",
       "      <td>ORD</td>\n",
       "      <td>NaN</td>\n",
       "      <td>475.0</td>\n",
       "      <td>0</td>\n",
       "      <td>0</td>\n",
       "    </tr>\n",
       "    <tr>\n",
       "      <th>5836</th>\n",
       "      <td>1992-08-02</td>\n",
       "      <td>1119.0</td>\n",
       "      <td>1112</td>\n",
       "      <td>7.0</td>\n",
       "      <td>1143.0</td>\n",
       "      <td>1145</td>\n",
       "      <td>-2.0</td>\n",
       "      <td>UA</td>\n",
       "      <td>NaN</td>\n",
       "      <td>203</td>\n",
       "      <td>TYS</td>\n",
       "      <td>ORD</td>\n",
       "      <td>NaN</td>\n",
       "      <td>475.0</td>\n",
       "      <td>0</td>\n",
       "      <td>0</td>\n",
       "    </tr>\n",
       "    <tr>\n",
       "      <th>5837</th>\n",
       "      <td>1992-08-03</td>\n",
       "      <td>1111.0</td>\n",
       "      <td>1112</td>\n",
       "      <td>-1.0</td>\n",
       "      <td>1135.0</td>\n",
       "      <td>1145</td>\n",
       "      <td>-10.0</td>\n",
       "      <td>UA</td>\n",
       "      <td>NaN</td>\n",
       "      <td>203</td>\n",
       "      <td>TYS</td>\n",
       "      <td>ORD</td>\n",
       "      <td>NaN</td>\n",
       "      <td>475.0</td>\n",
       "      <td>0</td>\n",
       "      <td>0</td>\n",
       "    </tr>\n",
       "    <tr>\n",
       "      <th>5838</th>\n",
       "      <td>1992-08-04</td>\n",
       "      <td>1112.0</td>\n",
       "      <td>1112</td>\n",
       "      <td>0.0</td>\n",
       "      <td>1153.0</td>\n",
       "      <td>1145</td>\n",
       "      <td>8.0</td>\n",
       "      <td>UA</td>\n",
       "      <td>NaN</td>\n",
       "      <td>203</td>\n",
       "      <td>TYS</td>\n",
       "      <td>ORD</td>\n",
       "      <td>NaN</td>\n",
       "      <td>475.0</td>\n",
       "      <td>0</td>\n",
       "      <td>0</td>\n",
       "    </tr>\n",
       "    <tr>\n",
       "      <th>5839</th>\n",
       "      <td>1992-08-05</td>\n",
       "      <td>1111.0</td>\n",
       "      <td>1112</td>\n",
       "      <td>-1.0</td>\n",
       "      <td>1145.0</td>\n",
       "      <td>1145</td>\n",
       "      <td>0.0</td>\n",
       "      <td>UA</td>\n",
       "      <td>NaN</td>\n",
       "      <td>203</td>\n",
       "      <td>TYS</td>\n",
       "      <td>ORD</td>\n",
       "      <td>NaN</td>\n",
       "      <td>475.0</td>\n",
       "      <td>0</td>\n",
       "      <td>0</td>\n",
       "    </tr>\n",
       "  </tbody>\n",
       "</table>\n",
       "</div>"
      ],
      "text/plain": [
       "     flight_date  dep_time  sched_dep_time  dep_delay  arr_time  \\\n",
       "5835  1992-08-01    1122.0            1112       10.0    1147.0   \n",
       "5836  1992-08-02    1119.0            1112        7.0    1143.0   \n",
       "5837  1992-08-03    1111.0            1112       -1.0    1135.0   \n",
       "5838  1992-08-04    1112.0            1112        0.0    1153.0   \n",
       "5839  1992-08-05    1111.0            1112       -1.0    1145.0   \n",
       "\n",
       "      sched_arr_time  arr_delay airline  tail_number  flight_number origin  \\\n",
       "5835            1145        2.0      UA          NaN            203    TYS   \n",
       "5836            1145       -2.0      UA          NaN            203    TYS   \n",
       "5837            1145      -10.0      UA          NaN            203    TYS   \n",
       "5838            1145        8.0      UA          NaN            203    TYS   \n",
       "5839            1145        0.0      UA          NaN            203    TYS   \n",
       "\n",
       "     dest  air_time  distance  cancelled  diverted  \n",
       "5835  ORD       NaN     475.0          0         0  \n",
       "5836  ORD       NaN     475.0          0         0  \n",
       "5837  ORD       NaN     475.0          0         0  \n",
       "5838  ORD       NaN     475.0          0         0  \n",
       "5839  ORD       NaN     475.0          0         0  "
      ]
     },
     "execution_count": 35,
     "metadata": {},
     "output_type": "execute_result"
    }
   ],
   "source": [
    "# Execute function, filtering for New York area airports\n",
    "airports=['TYS', 'MEM', 'BNA', 'BHM', 'HSV', 'MOB', 'GTR', 'GPT', 'JAN', 'MSY', 'BTR', 'SHV ', 'MIA', 'FLL', 'PBI', 'NAS', 'FPO', 'CCZ']\n",
    "if len(airports) > 0:\n",
    "    df_selected_airports = select_airport(df_clean, airports)\n",
    "else:\n",
    "    df_selected_airports = df_clean\n",
    "    \n",
    "df_selected_airports.head()"
   ]
  },
  {
   "cell_type": "code",
   "execution_count": 36,
   "id": "7dbd407d",
   "metadata": {},
   "outputs": [
    {
     "data": {
      "text/plain": [
       "MIA    5953\n",
       "BNA    5672\n",
       "MEM    4413\n",
       "MSY    3342\n",
       "ATL    2927\n",
       "       ... \n",
       "STT      31\n",
       "LEX      30\n",
       "OMA      30\n",
       "CMH      30\n",
       "RSW      29\n",
       "Name: dest, Length: 71, dtype: int64"
      ]
     },
     "execution_count": 36,
     "metadata": {},
     "output_type": "execute_result"
    }
   ],
   "source": [
    "df_selected_airports['dest'].value_counts()"
   ]
  },
  {
   "cell_type": "code",
   "execution_count": 37,
   "id": "acabaea4",
   "metadata": {},
   "outputs": [
    {
     "data": {
      "text/plain": [
       "<bound method Series.count of 5835     1992-08-01\n",
       "5836     1992-08-02\n",
       "5837     1992-08-03\n",
       "5838     1992-08-04\n",
       "5839     1992-08-05\n",
       "            ...    \n",
       "440383   1992-08-27\n",
       "440384   1992-08-28\n",
       "440385   1992-08-29\n",
       "440386   1992-08-30\n",
       "440387   1992-08-31\n",
       "Name: flight_date, Length: 53162, dtype: datetime64[ns]>"
      ]
     },
     "execution_count": 37,
     "metadata": {},
     "output_type": "execute_result"
    }
   ],
   "source": [
    "df_selected_airports.flight_date.count"
   ]
  },
  {
   "cell_type": "code",
   "execution_count": 38,
   "id": "d7860f10",
   "metadata": {},
   "outputs": [
    {
     "name": "stdout",
     "output_type": "stream",
     "text": [
      "<class 'pandas.core.frame.DataFrame'>\n",
      "Int64Index: 53162 entries, 5835 to 440387\n",
      "Data columns (total 16 columns):\n",
      " #   Column          Non-Null Count  Dtype         \n",
      "---  ------          --------------  -----         \n",
      " 0   flight_date     53162 non-null  datetime64[ns]\n",
      " 1   dep_time        51311 non-null  float64       \n",
      " 2   sched_dep_time  53162 non-null  int64         \n",
      " 3   dep_delay       51311 non-null  float64       \n",
      " 4   arr_time        51151 non-null  float64       \n",
      " 5   sched_arr_time  53162 non-null  int16         \n",
      " 6   arr_delay       51151 non-null  float64       \n",
      " 7   airline         53162 non-null  object        \n",
      " 8   tail_number     0 non-null      float64       \n",
      " 9   flight_number   53162 non-null  int64         \n",
      " 10  origin          53162 non-null  object        \n",
      " 11  dest            53162 non-null  object        \n",
      " 12  air_time        0 non-null      float64       \n",
      " 13  distance        53162 non-null  float64       \n",
      " 14  cancelled       53162 non-null  int8          \n",
      " 15  diverted        53162 non-null  int8          \n",
      "dtypes: datetime64[ns](1), float64(7), int16(1), int64(2), int8(2), object(3)\n",
      "memory usage: 5.9+ MB\n"
     ]
    }
   ],
   "source": [
    "df_selected_airports.info()"
   ]
  },
  {
   "cell_type": "code",
   "execution_count": 39,
   "id": "c8b9c74c",
   "metadata": {},
   "outputs": [
    {
     "data": {
      "text/html": [
       "<div>\n",
       "<style scoped>\n",
       "    .dataframe tbody tr th:only-of-type {\n",
       "        vertical-align: middle;\n",
       "    }\n",
       "\n",
       "    .dataframe tbody tr th {\n",
       "        vertical-align: top;\n",
       "    }\n",
       "\n",
       "    .dataframe thead th {\n",
       "        text-align: right;\n",
       "    }\n",
       "</style>\n",
       "<table border=\"1\" class=\"dataframe\">\n",
       "  <thead>\n",
       "    <tr style=\"text-align: right;\">\n",
       "      <th></th>\n",
       "      <th>dep_time</th>\n",
       "      <th>sched_dep_time</th>\n",
       "      <th>dep_delay</th>\n",
       "      <th>arr_time</th>\n",
       "      <th>sched_arr_time</th>\n",
       "      <th>arr_delay</th>\n",
       "      <th>tail_number</th>\n",
       "      <th>flight_number</th>\n",
       "      <th>air_time</th>\n",
       "      <th>distance</th>\n",
       "      <th>cancelled</th>\n",
       "      <th>diverted</th>\n",
       "    </tr>\n",
       "  </thead>\n",
       "  <tbody>\n",
       "    <tr>\n",
       "      <th>count</th>\n",
       "      <td>51311.000000</td>\n",
       "      <td>53162.000000</td>\n",
       "      <td>51311.000000</td>\n",
       "      <td>51151.000000</td>\n",
       "      <td>53162.000000</td>\n",
       "      <td>51151.000000</td>\n",
       "      <td>0.0</td>\n",
       "      <td>53162.000000</td>\n",
       "      <td>0.0</td>\n",
       "      <td>53162.000000</td>\n",
       "      <td>53162.000000</td>\n",
       "      <td>53162.000000</td>\n",
       "    </tr>\n",
       "    <tr>\n",
       "      <th>mean</th>\n",
       "      <td>1352.435910</td>\n",
       "      <td>1341.200068</td>\n",
       "      <td>7.973631</td>\n",
       "      <td>1509.866630</td>\n",
       "      <td>1510.047666</td>\n",
       "      <td>9.010655</td>\n",
       "      <td>NaN</td>\n",
       "      <td>925.328994</td>\n",
       "      <td>NaN</td>\n",
       "      <td>651.678022</td>\n",
       "      <td>0.034818</td>\n",
       "      <td>0.003010</td>\n",
       "    </tr>\n",
       "    <tr>\n",
       "      <th>std</th>\n",
       "      <td>469.846098</td>\n",
       "      <td>461.960612</td>\n",
       "      <td>26.087003</td>\n",
       "      <td>488.431142</td>\n",
       "      <td>472.282264</td>\n",
       "      <td>27.013138</td>\n",
       "      <td>NaN</td>\n",
       "      <td>505.268079</td>\n",
       "      <td>NaN</td>\n",
       "      <td>424.078586</td>\n",
       "      <td>0.183321</td>\n",
       "      <td>0.054778</td>\n",
       "    </tr>\n",
       "    <tr>\n",
       "      <th>min</th>\n",
       "      <td>1.000000</td>\n",
       "      <td>3.000000</td>\n",
       "      <td>-32.000000</td>\n",
       "      <td>1.000000</td>\n",
       "      <td>5.000000</td>\n",
       "      <td>-39.000000</td>\n",
       "      <td>NaN</td>\n",
       "      <td>4.000000</td>\n",
       "      <td>NaN</td>\n",
       "      <td>21.000000</td>\n",
       "      <td>0.000000</td>\n",
       "      <td>0.000000</td>\n",
       "    </tr>\n",
       "    <tr>\n",
       "      <th>25%</th>\n",
       "      <td>923.000000</td>\n",
       "      <td>920.000000</td>\n",
       "      <td>-1.000000</td>\n",
       "      <td>1120.000000</td>\n",
       "      <td>1120.000000</td>\n",
       "      <td>-4.000000</td>\n",
       "      <td>NaN</td>\n",
       "      <td>503.000000</td>\n",
       "      <td>NaN</td>\n",
       "      <td>332.000000</td>\n",
       "      <td>0.000000</td>\n",
       "      <td>0.000000</td>\n",
       "    </tr>\n",
       "    <tr>\n",
       "      <th>50%</th>\n",
       "      <td>1337.000000</td>\n",
       "      <td>1330.000000</td>\n",
       "      <td>1.000000</td>\n",
       "      <td>1526.000000</td>\n",
       "      <td>1525.000000</td>\n",
       "      <td>3.000000</td>\n",
       "      <td>NaN</td>\n",
       "      <td>881.000000</td>\n",
       "      <td>NaN</td>\n",
       "      <td>581.000000</td>\n",
       "      <td>0.000000</td>\n",
       "      <td>0.000000</td>\n",
       "    </tr>\n",
       "    <tr>\n",
       "      <th>75%</th>\n",
       "      <td>1747.000000</td>\n",
       "      <td>1740.000000</td>\n",
       "      <td>7.000000</td>\n",
       "      <td>1923.000000</td>\n",
       "      <td>1918.000000</td>\n",
       "      <td>13.000000</td>\n",
       "      <td>NaN</td>\n",
       "      <td>1297.000000</td>\n",
       "      <td>NaN</td>\n",
       "      <td>963.000000</td>\n",
       "      <td>0.000000</td>\n",
       "      <td>0.000000</td>\n",
       "    </tr>\n",
       "    <tr>\n",
       "      <th>max</th>\n",
       "      <td>2400.000000</td>\n",
       "      <td>2345.000000</td>\n",
       "      <td>1438.000000</td>\n",
       "      <td>2400.000000</td>\n",
       "      <td>2357.000000</td>\n",
       "      <td>1433.000000</td>\n",
       "      <td>NaN</td>\n",
       "      <td>2593.000000</td>\n",
       "      <td>NaN</td>\n",
       "      <td>2724.000000</td>\n",
       "      <td>1.000000</td>\n",
       "      <td>1.000000</td>\n",
       "    </tr>\n",
       "  </tbody>\n",
       "</table>\n",
       "</div>"
      ],
      "text/plain": [
       "           dep_time  sched_dep_time     dep_delay      arr_time  \\\n",
       "count  51311.000000    53162.000000  51311.000000  51151.000000   \n",
       "mean    1352.435910     1341.200068      7.973631   1509.866630   \n",
       "std      469.846098      461.960612     26.087003    488.431142   \n",
       "min        1.000000        3.000000    -32.000000      1.000000   \n",
       "25%      923.000000      920.000000     -1.000000   1120.000000   \n",
       "50%     1337.000000     1330.000000      1.000000   1526.000000   \n",
       "75%     1747.000000     1740.000000      7.000000   1923.000000   \n",
       "max     2400.000000     2345.000000   1438.000000   2400.000000   \n",
       "\n",
       "       sched_arr_time     arr_delay  tail_number  flight_number  air_time  \\\n",
       "count    53162.000000  51151.000000          0.0   53162.000000       0.0   \n",
       "mean      1510.047666      9.010655          NaN     925.328994       NaN   \n",
       "std        472.282264     27.013138          NaN     505.268079       NaN   \n",
       "min          5.000000    -39.000000          NaN       4.000000       NaN   \n",
       "25%       1120.000000     -4.000000          NaN     503.000000       NaN   \n",
       "50%       1525.000000      3.000000          NaN     881.000000       NaN   \n",
       "75%       1918.000000     13.000000          NaN    1297.000000       NaN   \n",
       "max       2357.000000   1433.000000          NaN    2593.000000       NaN   \n",
       "\n",
       "           distance     cancelled      diverted  \n",
       "count  53162.000000  53162.000000  53162.000000  \n",
       "mean     651.678022      0.034818      0.003010  \n",
       "std      424.078586      0.183321      0.054778  \n",
       "min       21.000000      0.000000      0.000000  \n",
       "25%      332.000000      0.000000      0.000000  \n",
       "50%      581.000000      0.000000      0.000000  \n",
       "75%      963.000000      0.000000      0.000000  \n",
       "max     2724.000000      1.000000      1.000000  "
      ]
     },
     "execution_count": 39,
     "metadata": {},
     "output_type": "execute_result"
    }
   ],
   "source": [
    "df_selected_airports.describe()"
   ]
  },
  {
   "cell_type": "code",
   "execution_count": 40,
   "id": "80e79c9a",
   "metadata": {},
   "outputs": [
    {
     "name": "stdout",
     "output_type": "stream",
     "text": [
      "Total number of flights: 53162\n",
      "Number of cancelled flights: 1851\n",
      "Number of delayed flights: 42748\n",
      "Number of diverted flights: 160\n",
      "Number of not cancelled flights: 51311\n",
      "Number of not delayed flights: 10414\n",
      "The number of missing data: 1851\n",
      "Percentage of cancelled flights: 3.4818103156389903%\n",
      "Percentage of delayed flights: 80.41081975847409%\n"
     ]
    }
   ],
   "source": [
    "# General Info flights data August 1992\n",
    "\n",
    "number_of_delayed = df_selected_airports[\"dep_delay\"].apply(lambda s: 1 if s!=0 else 0);\n",
    "print(\"Total number of flights: \"+str(len(df_selected_airports)))\n",
    "print(\"Number of cancelled flights: \"+str(sum(df_selected_airports[\"cancelled\"])))\n",
    "print(\"Number of delayed flights: \"+str(sum(number_of_delayed)))\n",
    "print(\"Number of diverted flights: \"+str(sum(df_selected_airports[\"diverted\"])))\n",
    "print(\"Number of not cancelled flights: \"+str(len(df_selected_airports)-sum(df_selected_airports[\"cancelled\"])))\n",
    "print(\"Number of not delayed flights: \"+str(len(df_selected_airports)-sum(number_of_delayed)))\n",
    "print(\"The number of missing data: \"+str(df_selected_airports[\"dep_time\"].isnull().sum()));\n",
    "print(\"Percentage of cancelled flights: \"+str((sum(df_selected_airports[\"cancelled\"])*1.0/len(df_selected_airports))*100)+\"%\")\n",
    "print(\"Percentage of delayed flights: \"+str((sum(number_of_delayed)*1.0/len(df_selected_airports))*100)+\"%\")\n"
   ]
  },
  {
   "cell_type": "markdown",
   "id": "4efbd8b5",
   "metadata": {},
   "source": [
    "sdasda"
   ]
  },
  {
   "cell_type": "code",
   "execution_count": 46,
   "id": "c24024da",
   "metadata": {},
   "outputs": [
    {
     "ename": "NameError",
     "evalue": "name 'merged' is not defined",
     "output_type": "error",
     "traceback": [
      "\u001b[0;31m---------------------------------------------------------------------------\u001b[0m",
      "\u001b[0;31mNameError\u001b[0m                                 Traceback (most recent call last)",
      "\u001b[0;32m/var/folders/xs/t09nlgmn7v1c138x7zylb7lr0000gn/T/ipykernel_10012/2072625100.py\u001b[0m in \u001b[0;36m<module>\u001b[0;34m\u001b[0m\n\u001b[1;32m      1\u001b[0m \u001b[0;31m# on_time\u001b[0m\u001b[0;34m\u001b[0m\u001b[0;34m\u001b[0m\u001b[0;34m\u001b[0m\u001b[0m\n\u001b[1;32m      2\u001b[0m \u001b[0;34m\u001b[0m\u001b[0m\n\u001b[0;32m----> 3\u001b[0;31m \u001b[0mmerged\u001b[0m\u001b[0;34m[\u001b[0m\u001b[0;34m\"On_Time\"\u001b[0m\u001b[0;34m]\u001b[0m\u001b[0;34m=\u001b[0m\u001b[0mmerged\u001b[0m\u001b[0;34m[\u001b[0m\u001b[0;34m\"arr_delay\"\u001b[0m\u001b[0;34m]\u001b[0m\u001b[0;34m.\u001b[0m\u001b[0mapply\u001b[0m\u001b[0;34m(\u001b[0m\u001b[0;32mlambda\u001b[0m \u001b[0mrow\u001b[0m\u001b[0;34m:\u001b[0m \u001b[0;36m1\u001b[0m \u001b[0;32mif\u001b[0m \u001b[0mrow\u001b[0m\u001b[0;34m==\u001b[0m\u001b[0;36m0\u001b[0m \u001b[0;32melse\u001b[0m \u001b[0;36m0\u001b[0m\u001b[0;34m)\u001b[0m\u001b[0;34m\u001b[0m\u001b[0;34m\u001b[0m\u001b[0m\n\u001b[0m\u001b[1;32m      4\u001b[0m \u001b[0mprint\u001b[0m\u001b[0;34m(\u001b[0m\u001b[0;34m\"On_Time:\"\u001b[0m \u001b[0;34m+\u001b[0m\u001b[0mst\u001b[0m\u001b[0;34m(\u001b[0m\u001b[0mmerged\u001b[0m\u001b[0;34m[\u001b[0m\u001b[0;34m\"On_Time\"\u001b[0m\u001b[0;34m]\u001b[0m\u001b[0;34m.\u001b[0m\u001b[0msum\u001b[0m\u001b[0;34m(\u001b[0m\u001b[0;34m)\u001b[0m\u001b[0;34m)\u001b[0m\u001b[0;34m)\u001b[0m\u001b[0;34m\u001b[0m\u001b[0;34m\u001b[0m\u001b[0m\n",
      "\u001b[0;31mNameError\u001b[0m: name 'merged' is not defined"
     ]
    }
   ],
   "source": [
    "# on_time\n",
    "\n",
    "merged[\"On_Time\"]=merged[\"arr_delay\"].apply(lambda row: 1 if row==0 else 0)\n",
    "print(\"On_Time:\" +st(merged[\"On_Time\"].sum()))"
   ]
  },
  {
   "cell_type": "code",
   "execution_count": 79,
   "id": "de5c4ec3",
   "metadata": {},
   "outputs": [
    {
     "name": "stdout",
     "output_type": "stream",
     "text": [
      "Origin Airports:  70\n",
      "Destination Airports:  71\n"
     ]
    }
   ],
   "source": [
    "# origin airports\n",
    "orig_arp=len(merged.origin.unique())\n",
    "\n",
    "# destination airports?\n",
    "dest_arp=len(merged.dest.unique())\n",
    "print(\"Origin Airports: \", orig_arp)\n",
    "print(\"Destination Airports: \", dest_arp)\n"
   ]
  },
  {
   "cell_type": "code",
   "execution_count": 80,
   "id": "eb6e15f9",
   "metadata": {},
   "outputs": [
    {
     "ename": "SyntaxError",
     "evalue": "invalid character in identifier (1735229767.py, line 3)",
     "output_type": "error",
     "traceback": [
      "\u001b[0;36m  File \u001b[0;32m\"/var/folders/xs/t09nlgmn7v1c138x7zylb7lr0000gn/T/ipykernel_10012/1735229767.py\"\u001b[0;36m, line \u001b[0;32m3\u001b[0m\n\u001b[0;31m    grouped_cancelled_flights=cancelled_flights[[“airline”,“cancelled”,“On_Time”]].groupby(['airline']).sum().reset_index()\u001b[0m\n\u001b[0m                                                         ^\u001b[0m\n\u001b[0;31mSyntaxError\u001b[0m\u001b[0;31m:\u001b[0m invalid character in identifier\n"
     ]
    }
   ],
   "source": [
    "#airline name is missing -- wait for merging\n",
    "cancelled_flights = df_selected_airports\n",
    "grouped_cancelled_flights=cancelled_flights[[“airline”,“cancelled”,“On_Time”]].groupby(['airline']).sum().reset_index()\n",
    "grouped_cancelled_flights[“flights_count”]=cancelled_flights[[“airline”,“On_Time”]].groupby(['airline']).count().reset_index()[“On_Time”]\n",
    "grouped_cancelled_flights[“cancelled_percentage”]=grouped_cancelled_flights[“cancelled”]*1.0/grouped_cancelled_flights[“flights_count”]*100\n",
    "grouped_cancelled_flights[“on_time_percentage”]=grouped_cancelled_flights[“On_Time”]*1.0/grouped_cancelled_flights[“flights_count”]*100\n",
    "grouped_cancelled_flights[[“airline”,“flights_count”,“cancelled”,“On_Time”,“cancelled_percentage”,“on_time_percentage”]].sort_values(by=[cancelled_percentage],ascending=[False])"
   ]
  },
  {
   "cell_type": "code",
   "execution_count": null,
   "id": "e28b46ed",
   "metadata": {},
   "outputs": [],
   "source": []
  },
  {
   "cell_type": "markdown",
   "metadata": {},
   "source": [
    "# 3. Push the prepared data to a table in the database"
   ]
  },
  {
   "cell_type": "code",
   "execution_count": 81,
   "metadata": {},
   "outputs": [
    {
     "name": "stdout",
     "output_type": "stream",
     "text": [
      "The test_jan table was imported successfully.\n"
     ]
    }
   ],
   "source": [
    "# Specify which table within your database you want to push your data to. Give your table an unambiguous name.\n",
    "# Example: flights_sp for Sina's flights table\n",
    "table_name = 'test_jan'\n",
    "# If the specified table doesn't exist yet, it will be created\n",
    "# With 'replace', your data will be replaced if the table already exists.\n",
    "# This will take a minute or two...\n",
    "\n",
    "# Write records stored in a dataframe to SQL database\n",
    "if engine!=None:\n",
    "    try:\n",
    "        \n",
    "        df_selected_airports.to_sql(name=table_name, # Name of SQL table\n",
    "                        con=engine, # Engine or connection\n",
    "                        if_exists='replace',\n",
    "                        schema='muc_analytics_21_1', # Drop the table before inserting new values \n",
    "                        index=False, # Write DataFrame index as a column\n",
    "                        chunksize=5000, # Specify the number of rows in each batch to be written at a time\n",
    "                        method='multi') # Pass multiple values in a single INSERT clause\n",
    "        print(f\"The {table_name} table was imported successfully.\")\n",
    "    # Error handling\n",
    "    except (Exception, psycopg2.DatabaseError) as error:\n",
    "        print(error)\n",
    "        engine = None"
   ]
  },
  {
   "cell_type": "code",
   "execution_count": 52,
   "id": "4ac06959",
   "metadata": {},
   "outputs": [
    {
     "data": {
      "text/html": [
       "<div>\n",
       "<style scoped>\n",
       "    .dataframe tbody tr th:only-of-type {\n",
       "        vertical-align: middle;\n",
       "    }\n",
       "\n",
       "    .dataframe tbody tr th {\n",
       "        vertical-align: top;\n",
       "    }\n",
       "\n",
       "    .dataframe thead th {\n",
       "        text-align: right;\n",
       "    }\n",
       "</style>\n",
       "<table border=\"1\" class=\"dataframe\">\n",
       "  <thead>\n",
       "    <tr style=\"text-align: right;\">\n",
       "      <th></th>\n",
       "      <th>flight_date</th>\n",
       "      <th>dep_time</th>\n",
       "      <th>sched_dep_time</th>\n",
       "      <th>dep_delay</th>\n",
       "      <th>arr_time</th>\n",
       "      <th>sched_arr_time</th>\n",
       "      <th>arr_delay</th>\n",
       "      <th>airline</th>\n",
       "      <th>tail_number</th>\n",
       "      <th>flight_number</th>\n",
       "      <th>origin</th>\n",
       "      <th>dest</th>\n",
       "      <th>air_time</th>\n",
       "      <th>distance</th>\n",
       "      <th>cancelled</th>\n",
       "      <th>diverted</th>\n",
       "    </tr>\n",
       "  </thead>\n",
       "  <tbody>\n",
       "    <tr>\n",
       "      <th>5835</th>\n",
       "      <td>1992-08-01</td>\n",
       "      <td>1122.0</td>\n",
       "      <td>1112</td>\n",
       "      <td>10.0</td>\n",
       "      <td>1147.0</td>\n",
       "      <td>1145</td>\n",
       "      <td>2.0</td>\n",
       "      <td>UA</td>\n",
       "      <td>NaN</td>\n",
       "      <td>203</td>\n",
       "      <td>TYS</td>\n",
       "      <td>ORD</td>\n",
       "      <td>NaN</td>\n",
       "      <td>475.0</td>\n",
       "      <td>0</td>\n",
       "      <td>0</td>\n",
       "    </tr>\n",
       "    <tr>\n",
       "      <th>5836</th>\n",
       "      <td>1992-08-02</td>\n",
       "      <td>1119.0</td>\n",
       "      <td>1112</td>\n",
       "      <td>7.0</td>\n",
       "      <td>1143.0</td>\n",
       "      <td>1145</td>\n",
       "      <td>-2.0</td>\n",
       "      <td>UA</td>\n",
       "      <td>NaN</td>\n",
       "      <td>203</td>\n",
       "      <td>TYS</td>\n",
       "      <td>ORD</td>\n",
       "      <td>NaN</td>\n",
       "      <td>475.0</td>\n",
       "      <td>0</td>\n",
       "      <td>0</td>\n",
       "    </tr>\n",
       "    <tr>\n",
       "      <th>5837</th>\n",
       "      <td>1992-08-03</td>\n",
       "      <td>1111.0</td>\n",
       "      <td>1112</td>\n",
       "      <td>-1.0</td>\n",
       "      <td>1135.0</td>\n",
       "      <td>1145</td>\n",
       "      <td>-10.0</td>\n",
       "      <td>UA</td>\n",
       "      <td>NaN</td>\n",
       "      <td>203</td>\n",
       "      <td>TYS</td>\n",
       "      <td>ORD</td>\n",
       "      <td>NaN</td>\n",
       "      <td>475.0</td>\n",
       "      <td>0</td>\n",
       "      <td>0</td>\n",
       "    </tr>\n",
       "    <tr>\n",
       "      <th>5838</th>\n",
       "      <td>1992-08-04</td>\n",
       "      <td>1112.0</td>\n",
       "      <td>1112</td>\n",
       "      <td>0.0</td>\n",
       "      <td>1153.0</td>\n",
       "      <td>1145</td>\n",
       "      <td>8.0</td>\n",
       "      <td>UA</td>\n",
       "      <td>NaN</td>\n",
       "      <td>203</td>\n",
       "      <td>TYS</td>\n",
       "      <td>ORD</td>\n",
       "      <td>NaN</td>\n",
       "      <td>475.0</td>\n",
       "      <td>0</td>\n",
       "      <td>0</td>\n",
       "    </tr>\n",
       "    <tr>\n",
       "      <th>5839</th>\n",
       "      <td>1992-08-05</td>\n",
       "      <td>1111.0</td>\n",
       "      <td>1112</td>\n",
       "      <td>-1.0</td>\n",
       "      <td>1145.0</td>\n",
       "      <td>1145</td>\n",
       "      <td>0.0</td>\n",
       "      <td>UA</td>\n",
       "      <td>NaN</td>\n",
       "      <td>203</td>\n",
       "      <td>TYS</td>\n",
       "      <td>ORD</td>\n",
       "      <td>NaN</td>\n",
       "      <td>475.0</td>\n",
       "      <td>0</td>\n",
       "      <td>0</td>\n",
       "    </tr>\n",
       "  </tbody>\n",
       "</table>\n",
       "</div>"
      ],
      "text/plain": [
       "     flight_date  dep_time  sched_dep_time  dep_delay  arr_time  \\\n",
       "5835  1992-08-01    1122.0            1112       10.0    1147.0   \n",
       "5836  1992-08-02    1119.0            1112        7.0    1143.0   \n",
       "5837  1992-08-03    1111.0            1112       -1.0    1135.0   \n",
       "5838  1992-08-04    1112.0            1112        0.0    1153.0   \n",
       "5839  1992-08-05    1111.0            1112       -1.0    1145.0   \n",
       "\n",
       "      sched_arr_time  arr_delay airline  tail_number  flight_number origin  \\\n",
       "5835            1145        2.0      UA          NaN            203    TYS   \n",
       "5836            1145       -2.0      UA          NaN            203    TYS   \n",
       "5837            1145      -10.0      UA          NaN            203    TYS   \n",
       "5838            1145        8.0      UA          NaN            203    TYS   \n",
       "5839            1145        0.0      UA          NaN            203    TYS   \n",
       "\n",
       "     dest  air_time  distance  cancelled  diverted  \n",
       "5835  ORD       NaN     475.0          0         0  \n",
       "5836  ORD       NaN     475.0          0         0  \n",
       "5837  ORD       NaN     475.0          0         0  \n",
       "5838  ORD       NaN     475.0          0         0  \n",
       "5839  ORD       NaN     475.0          0         0  "
      ]
     },
     "execution_count": 52,
     "metadata": {},
     "output_type": "execute_result"
    }
   ],
   "source": [
    "df_selected_airports.head()"
   ]
  },
  {
   "cell_type": "code",
   "execution_count": 53,
   "id": "794c1a88",
   "metadata": {},
   "outputs": [
    {
     "data": {
      "text/plain": [
       "MIA    5953\n",
       "BNA    5672\n",
       "MEM    4413\n",
       "MSY    3342\n",
       "ATL    2927\n",
       "       ... \n",
       "STT      31\n",
       "LEX      30\n",
       "OMA      30\n",
       "CMH      30\n",
       "RSW      29\n",
       "Name: dest, Length: 71, dtype: int64"
      ]
     },
     "execution_count": 53,
     "metadata": {},
     "output_type": "execute_result"
    }
   ],
   "source": [
    "df_selected_airports['dest'].value_counts()"
   ]
  },
  {
   "cell_type": "code",
   "execution_count": null,
   "metadata": {},
   "outputs": [],
   "source": [
    "# Check the number of rows match\n",
    "table_name_sql = f'''SELECT count(*) \n",
    "                    FROM {table_name}\n",
    "                    '''\n",
    "engine.execute(table_name_sql).fetchall()[0][0] == df_selected_airports.shape[0]"
   ]
  },
  {
   "cell_type": "code",
   "execution_count": 47,
   "id": "4f7993ef",
   "metadata": {},
   "outputs": [],
   "source": [
    "import psycopg2\n",
    "from sql import host, port, database, user, password"
   ]
  },
  {
   "cell_type": "code",
   "execution_count": 48,
   "id": "4fe86db1",
   "metadata": {},
   "outputs": [],
   "source": [
    "def get_data(query):\n",
    "    #connect to SQL database\n",
    "    conn = None\n",
    "    try:\n",
    "        # create a connection to the PostgreSQL\n",
    "        conn = psycopg2.connect(host=host,\n",
    "                                port=port,\n",
    "                                database=database,\n",
    "                                user=user,\n",
    "                                password=password)\n",
    "\n",
    "        # create a cursor \n",
    "        cur = conn.cursor()\n",
    "\n",
    "        #import pandas\n",
    "        import pandas as pd\n",
    "\n",
    "        # Print tabele using read_sql_query()\n",
    "        df = pd.read_sql_query(query, conn)\n",
    "\n",
    "        # close the connection to the PostgreSQL database\n",
    "        conn.close()\n",
    "\n",
    "        return df\n",
    "    #the code below makes the function more robust, you can ignore this part\n",
    "    except (Exception, psycopg2.DatabaseError) as  error:\n",
    "        print(error)\n",
    "    finally:\n",
    "        if conn is not None:\n",
    "            conn.close()\n"
   ]
  },
  {
   "cell_type": "code",
   "execution_count": 95,
   "id": "d3b8a3d5",
   "metadata": {},
   "outputs": [
    {
     "data": {
      "text/html": [
       "<div>\n",
       "<style scoped>\n",
       "    .dataframe tbody tr th:only-of-type {\n",
       "        vertical-align: middle;\n",
       "    }\n",
       "\n",
       "    .dataframe tbody tr th {\n",
       "        vertical-align: top;\n",
       "    }\n",
       "\n",
       "    .dataframe thead th {\n",
       "        text-align: right;\n",
       "    }\n",
       "</style>\n",
       "<table border=\"1\" class=\"dataframe\">\n",
       "  <thead>\n",
       "    <tr style=\"text-align: right;\">\n",
       "      <th></th>\n",
       "      <th>origin</th>\n",
       "      <th>name</th>\n",
       "      <th>lat</th>\n",
       "      <th>lon</th>\n",
       "      <th>alt</th>\n",
       "      <th>tz</th>\n",
       "      <th>dst</th>\n",
       "      <th>city</th>\n",
       "      <th>country</th>\n",
       "    </tr>\n",
       "  </thead>\n",
       "  <tbody>\n",
       "    <tr>\n",
       "      <th>0</th>\n",
       "      <td>GKA</td>\n",
       "      <td>Goroka Airport</td>\n",
       "      <td>-6</td>\n",
       "      <td>145</td>\n",
       "      <td>5282</td>\n",
       "      <td>10</td>\n",
       "      <td>U</td>\n",
       "      <td>Goroka</td>\n",
       "      <td>Papua New Guinea</td>\n",
       "    </tr>\n",
       "    <tr>\n",
       "      <th>1</th>\n",
       "      <td>MAG</td>\n",
       "      <td>Madang Airport</td>\n",
       "      <td>-5</td>\n",
       "      <td>146</td>\n",
       "      <td>20</td>\n",
       "      <td>10</td>\n",
       "      <td>U</td>\n",
       "      <td>Madang</td>\n",
       "      <td>Papua New Guinea</td>\n",
       "    </tr>\n",
       "    <tr>\n",
       "      <th>2</th>\n",
       "      <td>HGU</td>\n",
       "      <td>Mount Hagen Kagamuga Airport</td>\n",
       "      <td>-6</td>\n",
       "      <td>144</td>\n",
       "      <td>5388</td>\n",
       "      <td>10</td>\n",
       "      <td>U</td>\n",
       "      <td>Mount Hagen</td>\n",
       "      <td>Papua New Guinea</td>\n",
       "    </tr>\n",
       "    <tr>\n",
       "      <th>3</th>\n",
       "      <td>LAE</td>\n",
       "      <td>Nadzab Airport</td>\n",
       "      <td>-7</td>\n",
       "      <td>147</td>\n",
       "      <td>239</td>\n",
       "      <td>10</td>\n",
       "      <td>U</td>\n",
       "      <td>Nadzab</td>\n",
       "      <td>Papua New Guinea</td>\n",
       "    </tr>\n",
       "    <tr>\n",
       "      <th>4</th>\n",
       "      <td>POM</td>\n",
       "      <td>Port Moresby Jacksons International Airport</td>\n",
       "      <td>-9</td>\n",
       "      <td>147</td>\n",
       "      <td>146</td>\n",
       "      <td>10</td>\n",
       "      <td>U</td>\n",
       "      <td>Port Moresby</td>\n",
       "      <td>Papua New Guinea</td>\n",
       "    </tr>\n",
       "    <tr>\n",
       "      <th>...</th>\n",
       "      <td>...</td>\n",
       "      <td>...</td>\n",
       "      <td>...</td>\n",
       "      <td>...</td>\n",
       "      <td>...</td>\n",
       "      <td>...</td>\n",
       "      <td>...</td>\n",
       "      <td>...</td>\n",
       "      <td>...</td>\n",
       "    </tr>\n",
       "    <tr>\n",
       "      <th>6067</th>\n",
       "      <td>UGU</td>\n",
       "      <td>Bilogai-Sugapa Airport</td>\n",
       "      <td>-4</td>\n",
       "      <td>137</td>\n",
       "      <td>7348</td>\n",
       "      <td>NaN</td>\n",
       "      <td>None</td>\n",
       "      <td>Sugapa-Papua Island</td>\n",
       "      <td>Indonesia</td>\n",
       "    </tr>\n",
       "    <tr>\n",
       "      <th>6068</th>\n",
       "      <td>ETM</td>\n",
       "      <td>Ramon Airport</td>\n",
       "      <td>30</td>\n",
       "      <td>35</td>\n",
       "      <td>288</td>\n",
       "      <td>NaN</td>\n",
       "      <td>None</td>\n",
       "      <td>Eilat</td>\n",
       "      <td>Israel</td>\n",
       "    </tr>\n",
       "    <tr>\n",
       "      <th>6069</th>\n",
       "      <td>MNH</td>\n",
       "      <td>Rustaq Airport</td>\n",
       "      <td>24</td>\n",
       "      <td>57</td>\n",
       "      <td>349</td>\n",
       "      <td>NaN</td>\n",
       "      <td>None</td>\n",
       "      <td>Al Masna'ah</td>\n",
       "      <td>Oman</td>\n",
       "    </tr>\n",
       "    <tr>\n",
       "      <th>6070</th>\n",
       "      <td>CGY</td>\n",
       "      <td>Laguindingan Airport</td>\n",
       "      <td>9</td>\n",
       "      <td>124</td>\n",
       "      <td>190</td>\n",
       "      <td>NaN</td>\n",
       "      <td>None</td>\n",
       "      <td>Cagayan de Oro City</td>\n",
       "      <td>Philippines</td>\n",
       "    </tr>\n",
       "    <tr>\n",
       "      <th>6071</th>\n",
       "      <td>CPO</td>\n",
       "      <td>Desierto de Atacama Airport</td>\n",
       "      <td>-27</td>\n",
       "      <td>-71</td>\n",
       "      <td>670</td>\n",
       "      <td>NaN</td>\n",
       "      <td>None</td>\n",
       "      <td>Copiapo</td>\n",
       "      <td>Chile</td>\n",
       "    </tr>\n",
       "  </tbody>\n",
       "</table>\n",
       "<p>6072 rows × 9 columns</p>\n",
       "</div>"
      ],
      "text/plain": [
       "     origin                                         name  lat  lon   alt  tz  \\\n",
       "0       GKA                               Goroka Airport   -6  145  5282  10   \n",
       "1       MAG                               Madang Airport   -5  146    20  10   \n",
       "2       HGU                 Mount Hagen Kagamuga Airport   -6  144  5388  10   \n",
       "3       LAE                               Nadzab Airport   -7  147   239  10   \n",
       "4       POM  Port Moresby Jacksons International Airport   -9  147   146  10   \n",
       "...     ...                                          ...  ...  ...   ...  ..   \n",
       "6067    UGU                       Bilogai-Sugapa Airport   -4  137  7348 NaN   \n",
       "6068    ETM                                Ramon Airport   30   35   288 NaN   \n",
       "6069    MNH                               Rustaq Airport   24   57   349 NaN   \n",
       "6070    CGY                         Laguindingan Airport    9  124   190 NaN   \n",
       "6071    CPO                  Desierto de Atacama Airport  -27  -71   670 NaN   \n",
       "\n",
       "       dst                 city           country  \n",
       "0        U               Goroka  Papua New Guinea  \n",
       "1        U               Madang  Papua New Guinea  \n",
       "2        U          Mount Hagen  Papua New Guinea  \n",
       "3        U               Nadzab  Papua New Guinea  \n",
       "4        U         Port Moresby  Papua New Guinea  \n",
       "...    ...                  ...               ...  \n",
       "6067  None  Sugapa-Papua Island         Indonesia  \n",
       "6068  None                Eilat            Israel  \n",
       "6069  None          Al Masna'ah              Oman  \n",
       "6070  None  Cagayan de Oro City       Philippines  \n",
       "6071  None              Copiapo             Chile  \n",
       "\n",
       "[6072 rows x 9 columns]"
      ]
     },
     "execution_count": 95,
     "metadata": {},
     "output_type": "execute_result"
    }
   ],
   "source": [
    "airports = get_data('SELECT * FROM muc_analytics_21_1.airports')\n",
    "airports.rename({'faa':'origin'}, axis='columns', inplace=True)\n",
    "airports"
   ]
  },
  {
   "cell_type": "code",
   "execution_count": 50,
   "id": "af0b4a4d",
   "metadata": {},
   "outputs": [
    {
     "name": "stdout",
     "output_type": "stream",
     "text": [
      "<class 'pandas.core.frame.DataFrame'>\n",
      "Int64Index: 53162 entries, 0 to 53161\n",
      "Data columns (total 24 columns):\n",
      " #   Column          Non-Null Count  Dtype         \n",
      "---  ------          --------------  -----         \n",
      " 0   flight_date     53162 non-null  datetime64[ns]\n",
      " 1   dep_time        51311 non-null  float64       \n",
      " 2   sched_dep_time  53162 non-null  int64         \n",
      " 3   dep_delay       51311 non-null  float64       \n",
      " 4   arr_time        51151 non-null  float64       \n",
      " 5   sched_arr_time  53162 non-null  int16         \n",
      " 6   arr_delay       51151 non-null  float64       \n",
      " 7   airline         53162 non-null  object        \n",
      " 8   tail_number     0 non-null      float64       \n",
      " 9   flight_number   53162 non-null  int64         \n",
      " 10  origin          53162 non-null  object        \n",
      " 11  dest            53162 non-null  object        \n",
      " 12  air_time        0 non-null      float64       \n",
      " 13  distance        53162 non-null  float64       \n",
      " 14  cancelled       53162 non-null  int8          \n",
      " 15  diverted        53162 non-null  int8          \n",
      " 16  name            53162 non-null  object        \n",
      " 17  lat             53162 non-null  float64       \n",
      " 18  lon             53162 non-null  float64       \n",
      " 19  alt             53162 non-null  int64         \n",
      " 20  tz              53162 non-null  float64       \n",
      " 21  dst             53162 non-null  object        \n",
      " 22  city            53162 non-null  object        \n",
      " 23  country         53162 non-null  object        \n",
      "dtypes: datetime64[ns](1), float64(10), int16(1), int64(3), int8(2), object(7)\n",
      "memory usage: 9.1+ MB\n"
     ]
    }
   ],
   "source": [
    "merged = df_selected_airports.merge(airports, how='inner', on='origin')\n",
    "merged.head()\n",
    "merged.info()\n"
   ]
  },
  {
   "cell_type": "code",
   "execution_count": 51,
   "metadata": {},
   "outputs": [
    {
     "ename": "KeyError",
     "evalue": "\"['On_Time'] not in index\"",
     "output_type": "error",
     "traceback": [
      "\u001b[0;31m---------------------------------------------------------------------------\u001b[0m",
      "\u001b[0;31mKeyError\u001b[0m                                  Traceback (most recent call last)",
      "\u001b[0;32m/var/folders/xs/t09nlgmn7v1c138x7zylb7lr0000gn/T/ipykernel_10012/4067288191.py\u001b[0m in \u001b[0;36m<module>\u001b[0;34m\u001b[0m\n\u001b[1;32m      2\u001b[0m \u001b[0;34m\u001b[0m\u001b[0m\n\u001b[1;32m      3\u001b[0m \u001b[0mcancelled_flights\u001b[0m \u001b[0;34m=\u001b[0m \u001b[0mmerged\u001b[0m\u001b[0;34m\u001b[0m\u001b[0;34m\u001b[0m\u001b[0m\n\u001b[0;32m----> 4\u001b[0;31m \u001b[0mgrouped_cancelled_flights\u001b[0m\u001b[0;34m=\u001b[0m\u001b[0mcancelled_flights\u001b[0m\u001b[0;34m[\u001b[0m\u001b[0;34m[\u001b[0m\u001b[0;34m\"origin\"\u001b[0m\u001b[0;34m,\u001b[0m \u001b[0;34m\"cancelled\"\u001b[0m\u001b[0;34m,\u001b[0m\u001b[0;34m\"On_Time\"\u001b[0m\u001b[0;34m]\u001b[0m\u001b[0;34m]\u001b[0m\u001b[0;34m.\u001b[0m\u001b[0mgroupby\u001b[0m\u001b[0;34m(\u001b[0m\u001b[0;34m[\u001b[0m\u001b[0;34m'origin'\u001b[0m\u001b[0;34m]\u001b[0m\u001b[0;34m)\u001b[0m\u001b[0;34m.\u001b[0m\u001b[0msum\u001b[0m\u001b[0;34m(\u001b[0m\u001b[0;34m)\u001b[0m\u001b[0;34m.\u001b[0m\u001b[0mreset_index\u001b[0m\u001b[0;34m(\u001b[0m\u001b[0;34m)\u001b[0m\u001b[0;34m\u001b[0m\u001b[0;34m\u001b[0m\u001b[0m\n\u001b[0m\u001b[1;32m      5\u001b[0m \u001b[0mgrouped_cancelled_flights\u001b[0m\u001b[0;34m[\u001b[0m\u001b[0;34m\"flights_count\"\u001b[0m\u001b[0;34m]\u001b[0m\u001b[0;34m=\u001b[0m\u001b[0mcancelled_flights\u001b[0m\u001b[0;34m[\u001b[0m\u001b[0;34m[\u001b[0m\u001b[0;34m\"origin\"\u001b[0m\u001b[0;34m,\u001b[0m\u001b[0;34m\"On_Time\"\u001b[0m\u001b[0;34m]\u001b[0m\u001b[0;34m]\u001b[0m\u001b[0;34m.\u001b[0m\u001b[0mgroupby\u001b[0m\u001b[0;34m(\u001b[0m\u001b[0;34m[\u001b[0m\u001b[0;34m'origin'\u001b[0m\u001b[0;34m]\u001b[0m\u001b[0;34m)\u001b[0m\u001b[0;34m.\u001b[0m\u001b[0mcount\u001b[0m\u001b[0;34m(\u001b[0m\u001b[0;34m)\u001b[0m\u001b[0;34m.\u001b[0m\u001b[0mreset_index\u001b[0m\u001b[0;34m(\u001b[0m\u001b[0;34m)\u001b[0m\u001b[0;34m[\u001b[0m\u001b[0;34m\"On_Time\"\u001b[0m\u001b[0;34m]\u001b[0m\u001b[0;34m\u001b[0m\u001b[0;34m\u001b[0m\u001b[0m\n\u001b[1;32m      6\u001b[0m \u001b[0mgrouped_cancelled_flights\u001b[0m\u001b[0;34m[\u001b[0m\u001b[0;34m\"cancelled_percentage\"\u001b[0m\u001b[0;34m]\u001b[0m\u001b[0;34m=\u001b[0m\u001b[0mgrouped_cancelled_flights\u001b[0m\u001b[0;34m[\u001b[0m\u001b[0;34m\"cancelled\"\u001b[0m\u001b[0;34m]\u001b[0m\u001b[0;34m*\u001b[0m\u001b[0;36m1.0\u001b[0m\u001b[0;34m/\u001b[0m\u001b[0mgrouped_cancelled_flights\u001b[0m\u001b[0;34m[\u001b[0m\u001b[0;34m\"flights_count\"\u001b[0m\u001b[0;34m]\u001b[0m\u001b[0;34m*\u001b[0m\u001b[0;36m100\u001b[0m\u001b[0;34m\u001b[0m\u001b[0;34m\u001b[0m\u001b[0m\n",
      "\u001b[0;32m/usr/local/Caskroom/miniconda/base/envs/nf_base/lib/python3.8/site-packages/pandas/core/frame.py\u001b[0m in \u001b[0;36m__getitem__\u001b[0;34m(self, key)\u001b[0m\n\u001b[1;32m   3462\u001b[0m             \u001b[0;32mif\u001b[0m \u001b[0mis_iterator\u001b[0m\u001b[0;34m(\u001b[0m\u001b[0mkey\u001b[0m\u001b[0;34m)\u001b[0m\u001b[0;34m:\u001b[0m\u001b[0;34m\u001b[0m\u001b[0;34m\u001b[0m\u001b[0m\n\u001b[1;32m   3463\u001b[0m                 \u001b[0mkey\u001b[0m \u001b[0;34m=\u001b[0m \u001b[0mlist\u001b[0m\u001b[0;34m(\u001b[0m\u001b[0mkey\u001b[0m\u001b[0;34m)\u001b[0m\u001b[0;34m\u001b[0m\u001b[0;34m\u001b[0m\u001b[0m\n\u001b[0;32m-> 3464\u001b[0;31m             \u001b[0mindexer\u001b[0m \u001b[0;34m=\u001b[0m \u001b[0mself\u001b[0m\u001b[0;34m.\u001b[0m\u001b[0mloc\u001b[0m\u001b[0;34m.\u001b[0m\u001b[0m_get_listlike_indexer\u001b[0m\u001b[0;34m(\u001b[0m\u001b[0mkey\u001b[0m\u001b[0;34m,\u001b[0m \u001b[0maxis\u001b[0m\u001b[0;34m=\u001b[0m\u001b[0;36m1\u001b[0m\u001b[0;34m)\u001b[0m\u001b[0;34m[\u001b[0m\u001b[0;36m1\u001b[0m\u001b[0;34m]\u001b[0m\u001b[0;34m\u001b[0m\u001b[0;34m\u001b[0m\u001b[0m\n\u001b[0m\u001b[1;32m   3465\u001b[0m \u001b[0;34m\u001b[0m\u001b[0m\n\u001b[1;32m   3466\u001b[0m         \u001b[0;31m# take() does not accept boolean indexers\u001b[0m\u001b[0;34m\u001b[0m\u001b[0;34m\u001b[0m\u001b[0;34m\u001b[0m\u001b[0m\n",
      "\u001b[0;32m/usr/local/Caskroom/miniconda/base/envs/nf_base/lib/python3.8/site-packages/pandas/core/indexing.py\u001b[0m in \u001b[0;36m_get_listlike_indexer\u001b[0;34m(self, key, axis)\u001b[0m\n\u001b[1;32m   1312\u001b[0m             \u001b[0mkeyarr\u001b[0m\u001b[0;34m,\u001b[0m \u001b[0mindexer\u001b[0m\u001b[0;34m,\u001b[0m \u001b[0mnew_indexer\u001b[0m \u001b[0;34m=\u001b[0m \u001b[0max\u001b[0m\u001b[0;34m.\u001b[0m\u001b[0m_reindex_non_unique\u001b[0m\u001b[0;34m(\u001b[0m\u001b[0mkeyarr\u001b[0m\u001b[0;34m)\u001b[0m\u001b[0;34m\u001b[0m\u001b[0;34m\u001b[0m\u001b[0m\n\u001b[1;32m   1313\u001b[0m \u001b[0;34m\u001b[0m\u001b[0m\n\u001b[0;32m-> 1314\u001b[0;31m         \u001b[0mself\u001b[0m\u001b[0;34m.\u001b[0m\u001b[0m_validate_read_indexer\u001b[0m\u001b[0;34m(\u001b[0m\u001b[0mkeyarr\u001b[0m\u001b[0;34m,\u001b[0m \u001b[0mindexer\u001b[0m\u001b[0;34m,\u001b[0m \u001b[0maxis\u001b[0m\u001b[0;34m)\u001b[0m\u001b[0;34m\u001b[0m\u001b[0;34m\u001b[0m\u001b[0m\n\u001b[0m\u001b[1;32m   1315\u001b[0m \u001b[0;34m\u001b[0m\u001b[0m\n\u001b[1;32m   1316\u001b[0m         if needs_i8_conversion(ax.dtype) or isinstance(\n",
      "\u001b[0;32m/usr/local/Caskroom/miniconda/base/envs/nf_base/lib/python3.8/site-packages/pandas/core/indexing.py\u001b[0m in \u001b[0;36m_validate_read_indexer\u001b[0;34m(self, key, indexer, axis)\u001b[0m\n\u001b[1;32m   1375\u001b[0m \u001b[0;34m\u001b[0m\u001b[0m\n\u001b[1;32m   1376\u001b[0m             \u001b[0mnot_found\u001b[0m \u001b[0;34m=\u001b[0m \u001b[0mlist\u001b[0m\u001b[0;34m(\u001b[0m\u001b[0mensure_index\u001b[0m\u001b[0;34m(\u001b[0m\u001b[0mkey\u001b[0m\u001b[0;34m)\u001b[0m\u001b[0;34m[\u001b[0m\u001b[0mmissing_mask\u001b[0m\u001b[0;34m.\u001b[0m\u001b[0mnonzero\u001b[0m\u001b[0;34m(\u001b[0m\u001b[0;34m)\u001b[0m\u001b[0;34m[\u001b[0m\u001b[0;36m0\u001b[0m\u001b[0;34m]\u001b[0m\u001b[0;34m]\u001b[0m\u001b[0;34m.\u001b[0m\u001b[0munique\u001b[0m\u001b[0;34m(\u001b[0m\u001b[0;34m)\u001b[0m\u001b[0;34m)\u001b[0m\u001b[0;34m\u001b[0m\u001b[0;34m\u001b[0m\u001b[0m\n\u001b[0;32m-> 1377\u001b[0;31m             \u001b[0;32mraise\u001b[0m \u001b[0mKeyError\u001b[0m\u001b[0;34m(\u001b[0m\u001b[0;34mf\"{not_found} not in index\"\u001b[0m\u001b[0;34m)\u001b[0m\u001b[0;34m\u001b[0m\u001b[0;34m\u001b[0m\u001b[0m\n\u001b[0m\u001b[1;32m   1378\u001b[0m \u001b[0;34m\u001b[0m\u001b[0m\n\u001b[1;32m   1379\u001b[0m \u001b[0;34m\u001b[0m\u001b[0m\n",
      "\u001b[0;31mKeyError\u001b[0m: \"['On_Time'] not in index\""
     ]
    }
   ],
   "source": [
    "#Percentage of cancelled and delayed flights for each airline\n",
    "\n",
    "cancelled_flights = merged\n",
    "grouped_cancelled_flights=cancelled_flights[[\"origin\", \"cancelled\",\"On_Time\"]].groupby(['origin']).sum().reset_index()\n",
    "grouped_cancelled_flights[\"flights_count\"]=cancelled_flights[[\"origin\",\"On_Time\"]].groupby(['origin']).count().reset_index()[\"On_Time\"]\n",
    "grouped_cancelled_flights[\"cancelled_percentage\"]=grouped_cancelled_flights[\"cancelled\"]*1.0/grouped_cancelled_flights[\"flights_count\"]*100\n",
    "grouped_cancelled_flights[\"on_time_percentage\"]=grouped_cancelled_flights[\"On_Time\"]*1.0/grouped_cancelled_flights[\"flights_count\"]*100\n",
    "grouped_cancelled_flights[[\"origin\",\"flights_count\",\"cancelled\",\"On_Time\",\"cancelled_percentage\",\"on_time_percentage\"]].sort_values(by=['cancelled_percentage'],ascending=[False])"
   ]
  },
  {
   "cell_type": "code",
   "execution_count": 54,
   "id": "dc1c1c64",
   "metadata": {},
   "outputs": [
    {
     "data": {
      "text/plain": [
       "Index(['flight_date', 'dep_time', 'sched_dep_time', 'dep_delay', 'arr_time',\n",
       "       'sched_arr_time', 'arr_delay', 'airline', 'tail_number',\n",
       "       'flight_number', 'origin', 'dest', 'air_time', 'distance', 'cancelled',\n",
       "       'diverted', 'name', 'lat', 'lon', 'alt', 'tz', 'dst', 'city', 'country',\n",
       "       'Status'],\n",
       "      dtype='object')"
      ]
     },
     "execution_count": 54,
     "metadata": {},
     "output_type": "execute_result"
    }
   ],
   "source": [
    "# status representing whetever the flight was on time(0)\n",
    "# slightly delayed (1)\n",
    "# highly delayed (2)\n",
    "# diverted (3)\n",
    "# cancelled (4)\n",
    "\n",
    "for dataset in merged:\n",
    "    merged.loc[merged['arr_delay'] <= 15, 'Status'] = 0\n",
    "    merged.loc[merged['arr_delay'] >= 15, 'Status'] = 1\n",
    "    merged.loc[merged['arr_delay'] >= 60, 'Status'] = 2\n",
    "    merged.loc[merged['diverted'] == 1, 'Status'] = 3\n",
    "    merged.loc[merged['cancelled'] == 1, 'Status'] = 4\n",
    "\n",
    "merged.columns "
   ]
  },
  {
   "cell_type": "code",
   "execution_count": null,
   "id": "adef68bd",
   "metadata": {},
   "outputs": [],
   "source": [
    "f, ax=plt.subplots(1,2,figsize=(20,8))\n",
    "merged['Status'].value_counts().plot.pie(explode=[0.05, 0.05, 0.05, 0, 0], autopct='%1.1f%%', ax=ax[0], shadow=True)\n",
    "ax[0].set_title('Status')\n",
    "ax[0].set_ylabel('')\n",
    "sns.countplot('Status', order=merged['Status'].value_counts().index, data=merged,ax=ax[1])\n",
    "ax[1].set_title('Status representing whetever the flight was on time (0), slightly delayed (1), highly delayed (2), diverted (3), or cancelled (4)')\n",
    "plt.show()"
   ]
  },
  {
   "cell_type": "code",
   "execution_count": 55,
   "id": "dda0206b",
   "metadata": {},
   "outputs": [],
   "source": [
    "import pandas as pd\n",
    "import numpy as np\n",
    "import matplotlib.pyplot as plt\n",
    "import seaborn as sns\n",
    "import datetime as dt\n",
    "from scipy import stats\n",
    "from scipy.stats import norm\n",
    "\n",
    "pd.options.display.float_format = '{:.0f}'.format\n"
   ]
  },
  {
   "cell_type": "code",
   "execution_count": 66,
   "id": "8e60387f",
   "metadata": {},
   "outputs": [
    {
     "name": "stderr",
     "output_type": "stream",
     "text": [
      "/usr/local/Caskroom/miniconda/base/envs/nf_base/lib/python3.8/site-packages/seaborn/_decorators.py:36: FutureWarning: Pass the following variable as a keyword arg: x. From version 0.12, the only valid positional argument will be `data`, and passing other arguments without an explicit keyword will result in an error or misinterpretation.\n",
      "  warnings.warn(\n"
     ]
    },
    {
     "data": {
      "image/png": "[encoded data removed]",
      "text/plain": [
       "<Figure size 1440x576 with 2 Axes>"
      ]
     },
     "metadata": {
      "needs_background": "light"
     },
     "output_type": "display_data"
    }
   ],
   "source": [
    "f, ax=plt.subplots(1,2,figsize=(20,8))\n",
    "merged['Status'].value_counts().plot.pie(explode=[0.05, 0.05, 0.05, 0, 0], autopct='%1.1f%%', ax=ax[0], shadow=True)\n",
    "ax[0].set_title('Status')\n",
    "ax[0].set_ylabel('')\n",
    "sns.countplot('Status', order=merged['Status'].value_counts().index, data=merged,ax=ax[1])\n",
    "ax[1].set_title('Status representing whetever the flight was on time (0), slightly delayed (1), highly delayed (2), diverted (3), or cancelled (4)')\n",
    "plt.show()"
   ]
  },
  {
   "cell_type": "code",
   "execution_count": 74,
   "id": "76a0535a",
   "metadata": {},
   "outputs": [
    {
     "data": {
      "image/png": "[encoded data removed]",
      "text/plain": [
       "<Figure size 432x288 with 1 Axes>"
      ]
     },
     "metadata": {
      "needs_background": "light"
     },
     "output_type": "display_data"
    }
   ],
   "source": [
    "def cancel_func(column):\n",
    "    org_cancel = merged.groupby(column)['cancelled'].count()\n",
    "    org_cancel = org_cancel[org_cancel >400]\n",
    "    sns.barplot(x = org_cancel.index, y = org_cancel.values)\n",
    "\n",
    "cancel_func('origin')\n",
    "#cancel_func('dest')"
   ]
  },
  {
   "cell_type": "code",
   "execution_count": 75,
   "id": "18826b23",
   "metadata": {},
   "outputs": [
    {
     "data": {
      "text/plain": [
       "<AxesSubplot:xlabel='airline'>"
      ]
     },
     "execution_count": 75,
     "metadata": {},
     "output_type": "execute_result"
    },
    {
     "data": {
      "image/png": "[encoded data removed]",
      "text/plain": [
       "<Figure size 432x288 with 1 Axes>"
      ]
     },
     "metadata": {
      "needs_background": "light"
     },
     "output_type": "display_data"
    }
   ],
   "source": [
    "#cancelation by airline\n",
    "airline_cancel = merged.groupby('airline')['cancelled'].count()\n",
    "sns.barplot(x = airline_cancel.index, y = airline_cancel.values, palette = 'Wistia')"
   ]
  },
  {
   "cell_type": "code",
   "execution_count": 76,
   "id": "142c3f39",
   "metadata": {},
   "outputs": [
    {
     "ename": "NameError",
     "evalue": "name 'delayed_flights' is not defined",
     "output_type": "error",
     "traceback": [
      "\u001b[0;31m---------------------------------------------------------------------------\u001b[0m",
      "\u001b[0;31mNameError\u001b[0m                                 Traceback (most recent call last)",
      "\u001b[0;32m/var/folders/xs/t09nlgmn7v1c138x7zylb7lr0000gn/T/ipykernel_10012/2370260445.py\u001b[0m in \u001b[0;36m<module>\u001b[0;34m\u001b[0m\n\u001b[1;32m      2\u001b[0m \u001b[0;34m\u001b[0m\u001b[0m\n\u001b[1;32m      3\u001b[0m \u001b[0mf\u001b[0m\u001b[0;34m,\u001b[0m\u001b[0max\u001b[0m\u001b[0;34m=\u001b[0m\u001b[0mplt\u001b[0m\u001b[0;34m.\u001b[0m\u001b[0msubplots\u001b[0m\u001b[0;34m(\u001b[0m\u001b[0;36m1\u001b[0m\u001b[0;34m,\u001b[0m\u001b[0;36m2\u001b[0m\u001b[0;34m,\u001b[0m\u001b[0mfigsize\u001b[0m\u001b[0;34m=\u001b[0m\u001b[0;34m(\u001b[0m\u001b[0;36m20\u001b[0m\u001b[0;34m,\u001b[0m\u001b[0;36m8\u001b[0m\u001b[0;34m)\u001b[0m\u001b[0;34m)\u001b[0m\u001b[0;34m\u001b[0m\u001b[0;34m\u001b[0m\u001b[0m\n\u001b[0;32m----> 4\u001b[0;31m \u001b[0mdelayed_flights\u001b[0m\u001b[0;34m[\u001b[0m\u001b[0;34m[\u001b[0m\u001b[0;34m'flight_date'\u001b[0m\u001b[0;34m,\u001b[0m\u001b[0;34m'arr_delay'\u001b[0m\u001b[0;34m]\u001b[0m\u001b[0;34m]\u001b[0m\u001b[0;34m.\u001b[0m\u001b[0mgroupby\u001b[0m\u001b[0;34m(\u001b[0m\u001b[0;34m[\u001b[0m\u001b[0;34m'flight_date'\u001b[0m\u001b[0;34m]\u001b[0m\u001b[0;34m)\u001b[0m\u001b[0;34m.\u001b[0m\u001b[0mmean\u001b[0m\u001b[0;34m(\u001b[0m\u001b[0;34m)\u001b[0m\u001b[0;34m.\u001b[0m\u001b[0mplot\u001b[0m\u001b[0;34m(\u001b[0m\u001b[0max\u001b[0m\u001b[0;34m=\u001b[0m\u001b[0max\u001b[0m\u001b[0;34m[\u001b[0m\u001b[0;36m0\u001b[0m\u001b[0;34m]\u001b[0m\u001b[0;34m)\u001b[0m\u001b[0;34m\u001b[0m\u001b[0;34m\u001b[0m\u001b[0m\n\u001b[0m\u001b[1;32m      5\u001b[0m \u001b[0max\u001b[0m\u001b[0;34m[\u001b[0m\u001b[0;36m0\u001b[0m\u001b[0;34m]\u001b[0m\u001b[0;34m.\u001b[0m\u001b[0mset_title\u001b[0m\u001b[0;34m(\u001b[0m\u001b[0;34m'Average arrival delay during the month'\u001b[0m\u001b[0;34m)\u001b[0m\u001b[0;34m\u001b[0m\u001b[0;34m\u001b[0m\u001b[0m\n\u001b[1;32m      6\u001b[0m \u001b[0mdelayed_flights\u001b[0m\u001b[0;34m[\u001b[0m\u001b[0;34m[\u001b[0m\u001b[0;34m'flight_date'\u001b[0m\u001b[0;34m,\u001b[0m \u001b[0;34m'arr_delay'\u001b[0m\u001b[0;34m]\u001b[0m\u001b[0;34m]\u001b[0m\u001b[0;34m.\u001b[0m\u001b[0mgroupby\u001b[0m\u001b[0;34m(\u001b[0m\u001b[0;34m[\u001b[0m\u001b[0;34m'flight_date'\u001b[0m\u001b[0;34m]\u001b[0m\u001b[0;34m)\u001b[0m\u001b[0;34m.\u001b[0m\u001b[0msum\u001b[0m\u001b[0;34m(\u001b[0m\u001b[0;34m)\u001b[0m\u001b[0;34m.\u001b[0m\u001b[0mplot\u001b[0m\u001b[0;34m(\u001b[0m\u001b[0max\u001b[0m\u001b[0;34m=\u001b[0m\u001b[0max\u001b[0m\u001b[0;34m[\u001b[0m\u001b[0;36m1\u001b[0m\u001b[0;34m]\u001b[0m\u001b[0;34m)\u001b[0m\u001b[0;34m\u001b[0m\u001b[0;34m\u001b[0m\u001b[0m\n",
      "\u001b[0;31mNameError\u001b[0m: name 'delayed_flights' is not defined"
     ]
    },
    {
     "data": {
      "image/png": "[encoded data removed]",
      "text/plain": [
       "<Figure size 1440x576 with 2 Axes>"
      ]
     },
     "metadata": {
      "needs_background": "light"
     },
     "output_type": "display_data"
    }
   ],
   "source": [
    "# average arrival delay of airports selected\n",
    "\n",
    "f,ax=plt.subplots(1,2,figsize=(20,8))\n",
    "delayed_flights[['flight_date','arr_delay']].groupby(['flight_date']).mean().plot(ax=ax[0])\n",
    "ax[0].set_title('Average arrival delay during the month')\n",
    "delayed_flights[['flight_date', 'arr_delay']].groupby(['flight_date']).sum().plot(ax=ax[1])\n",
    "ax[1].set_title('Number of minutes of delayed during the month')\n",
    "plt.show()"
   ]
  },
  {
   "cell_type": "code",
   "execution_count": 77,
   "id": "90eb0260",
   "metadata": {},
   "outputs": [
    {
     "ename": "NameError",
     "evalue": "name 'delayed_flights' is not defined",
     "output_type": "error",
     "traceback": [
      "\u001b[0;31m---------------------------------------------------------------------------\u001b[0m",
      "\u001b[0;31mNameError\u001b[0m                                 Traceback (most recent call last)",
      "\u001b[0;32m/var/folders/xs/t09nlgmn7v1c138x7zylb7lr0000gn/T/ipykernel_10012/217160519.py\u001b[0m in \u001b[0;36m<module>\u001b[0;34m\u001b[0m\n\u001b[1;32m      2\u001b[0m \u001b[0;34m\u001b[0m\u001b[0m\n\u001b[1;32m      3\u001b[0m \u001b[0mf\u001b[0m\u001b[0;34m,\u001b[0m\u001b[0max\u001b[0m\u001b[0;34m=\u001b[0m\u001b[0mplt\u001b[0m\u001b[0;34m.\u001b[0m\u001b[0msubplots\u001b[0m\u001b[0;34m(\u001b[0m\u001b[0;36m1\u001b[0m\u001b[0;34m,\u001b[0m\u001b[0;36m2\u001b[0m\u001b[0;34m,\u001b[0m\u001b[0mfigsize\u001b[0m\u001b[0;34m=\u001b[0m\u001b[0;34m(\u001b[0m\u001b[0;36m20\u001b[0m\u001b[0;34m,\u001b[0m\u001b[0;36m8\u001b[0m\u001b[0;34m)\u001b[0m\u001b[0;34m)\u001b[0m\u001b[0;34m\u001b[0m\u001b[0;34m\u001b[0m\u001b[0m\n\u001b[0;32m----> 4\u001b[0;31m \u001b[0mdelayed_flights\u001b[0m\u001b[0;34m[\u001b[0m\u001b[0;34m[\u001b[0m\u001b[0;34m'flight_date'\u001b[0m\u001b[0;34m,\u001b[0m\u001b[0;34m'dep_delay'\u001b[0m\u001b[0;34m]\u001b[0m\u001b[0;34m]\u001b[0m\u001b[0;34m.\u001b[0m\u001b[0mgroupby\u001b[0m\u001b[0;34m(\u001b[0m\u001b[0;34m[\u001b[0m\u001b[0;34m'flight_date'\u001b[0m\u001b[0;34m]\u001b[0m\u001b[0;34m)\u001b[0m\u001b[0;34m.\u001b[0m\u001b[0mmean\u001b[0m\u001b[0;34m(\u001b[0m\u001b[0;34m)\u001b[0m\u001b[0;34m.\u001b[0m\u001b[0mplot\u001b[0m\u001b[0;34m(\u001b[0m\u001b[0max\u001b[0m\u001b[0;34m=\u001b[0m\u001b[0max\u001b[0m\u001b[0;34m[\u001b[0m\u001b[0;36m0\u001b[0m\u001b[0;34m]\u001b[0m\u001b[0;34m)\u001b[0m\u001b[0;34m\u001b[0m\u001b[0;34m\u001b[0m\u001b[0m\n\u001b[0m\u001b[1;32m      5\u001b[0m \u001b[0max\u001b[0m\u001b[0;34m[\u001b[0m\u001b[0;36m0\u001b[0m\u001b[0;34m]\u001b[0m\u001b[0;34m.\u001b[0m\u001b[0mset_title\u001b[0m\u001b[0;34m(\u001b[0m\u001b[0;34m'Average arrival delay during the month'\u001b[0m\u001b[0;34m)\u001b[0m\u001b[0;34m\u001b[0m\u001b[0;34m\u001b[0m\u001b[0m\n\u001b[1;32m      6\u001b[0m \u001b[0mdelayed_flights\u001b[0m\u001b[0;34m[\u001b[0m\u001b[0;34m[\u001b[0m\u001b[0;34m'flight_date'\u001b[0m\u001b[0;34m,\u001b[0m \u001b[0;34m'dep_delay'\u001b[0m\u001b[0;34m]\u001b[0m\u001b[0;34m]\u001b[0m\u001b[0;34m.\u001b[0m\u001b[0mgroupby\u001b[0m\u001b[0;34m(\u001b[0m\u001b[0;34m[\u001b[0m\u001b[0;34m'flight_date'\u001b[0m\u001b[0;34m]\u001b[0m\u001b[0;34m)\u001b[0m\u001b[0;34m.\u001b[0m\u001b[0msum\u001b[0m\u001b[0;34m(\u001b[0m\u001b[0;34m)\u001b[0m\u001b[0;34m.\u001b[0m\u001b[0mplot\u001b[0m\u001b[0;34m(\u001b[0m\u001b[0max\u001b[0m\u001b[0;34m=\u001b[0m\u001b[0max\u001b[0m\u001b[0;34m[\u001b[0m\u001b[0;36m1\u001b[0m\u001b[0;34m]\u001b[0m\u001b[0;34m)\u001b[0m\u001b[0;34m\u001b[0m\u001b[0;34m\u001b[0m\u001b[0m\n",
      "\u001b[0;31mNameError\u001b[0m: name 'delayed_flights' is not defined"
     ]
    },
    {
     "data": {
      "image/png": "[encoded data removed]",
      "text/plain": [
       "<Figure size 1440x576 with 2 Axes>"
      ]
     },
     "metadata": {
      "needs_background": "light"
     },
     "output_type": "display_data"
    }
   ],
   "source": [
    "# average departure delay of airports selected\n",
    "\n",
    "f,ax=plt.subplots(1,2,figsize=(20,8))\n",
    "delayed_flights[['flight_date','dep_delay']].groupby(['flight_date']).mean().plot(ax=ax[0])\n",
    "ax[0].set_title('Average arrival delay during the month')\n",
    "delayed_flights[['flight_date', 'dep_delay']].groupby(['flight_date']).sum().plot(ax=ax[1])\n",
    "ax[1].set_title('Number of minutes of delayed during the month')\n",
    "plt.show()"
   ]
  },
  {
   "cell_type": "code",
   "execution_count": 78,
   "id": "8a8d6757",
   "metadata": {},
   "outputs": [
    {
     "ename": "SyntaxError",
     "evalue": "invalid syntax (429476611.py, line 3)",
     "output_type": "error",
     "traceback": [
      "\u001b[0;36m  File \u001b[0;32m\"/var/folders/xs/t09nlgmn7v1c138x7zylb7lr0000gn/T/ipykernel_10012/429476611.py\"\u001b[0;36m, line \u001b[0;32m3\u001b[0m\n\u001b[0;31m    querystring ={\"lat\":}\u001b[0m\n\u001b[0m                        ^\u001b[0m\n\u001b[0;31mSyntaxError\u001b[0m\u001b[0;31m:\u001b[0m invalid syntax\n"
     ]
    }
   ],
   "source": [
    "url = \"https://meteostat.p.rapidapi.com/stations/nearby\"\n",
    "\n",
    "querystring ={\"lat\":}"
   ]
  },
  {
   "cell_type": "code",
   "execution_count": 82,
   "id": "dc2133bb",
   "metadata": {},
   "outputs": [
    {
     "data": {
      "image/png": "[encoded data removed]",
      "text/plain": [
       "<Figure size 432x288 with 1 Axes>"
      ]
     },
     "metadata": {
      "needs_background": "light"
     },
     "output_type": "display_data"
    }
   ],
   "source": [
    "# Import Meteostat library and dependencies\n",
    "from datetime import datetime\n",
    "import matplotlib.pyplot as plt\n",
    "from meteostat import Point, Daily\n",
    "\n",
    "# Miami\n",
    "\n",
    "# Set time period\n",
    "start = datetime(1992, 8, 1)\n",
    "end = datetime(1992, 8, 31)\n",
    "\n",
    "# Create Point for Vancouver, BC\n",
    "miami = Point(25.79319953918457, -80.29060363769531)\n",
    "\n",
    "# Get daily data for 2018\n",
    "data = Daily(miami, start, end)\n",
    "data = data.fetch()\n",
    "\n",
    "# Plot line chart including average, minimum and maximum temperature\n",
    "data.plot(y=['wspd', 'wpgt', 'prcp'])\n",
    "plt.show()"
   ]
  },
  {
   "cell_type": "code",
   "execution_count": 83,
   "id": "6ce3850d",
   "metadata": {},
   "outputs": [
    {
     "data": {
      "image/png": "[encoded data removed]",
      "text/plain": [
       "<Figure size 432x288 with 1 Axes>"
      ]
     },
     "metadata": {
      "needs_background": "light"
     },
     "output_type": "display_data"
    }
   ],
   "source": [
    "## TYS\n",
    "# Set time period\n",
    "start = datetime(1992, 8, 1)\n",
    "end = datetime(1992, 8, 31)\n",
    "\n",
    "# Create Point for Vancouver, BC\n",
    "TYS = Point(35.81100082, -83.9940033)   \n",
    "\n",
    "# Get daily data for 2018\n",
    "data = Daily(TYS, start, end)\n",
    "data = data.fetch()\n",
    "\n",
    "# Plot line chart including average, minimum and maximum temperature\n",
    "data.plot(y=['wspd', 'wpgt', 'prcp'])\n",
    "plt.show()"
   ]
  },
  {
   "cell_type": "code",
   "execution_count": 84,
   "id": "125eedb4",
   "metadata": {},
   "outputs": [
    {
     "data": {
      "image/png": "[encoded data removed]",
      "text/plain": [
       "<Figure size 432x288 with 1 Axes>"
      ]
     },
     "metadata": {
      "needs_background": "light"
     },
     "output_type": "display_data"
    }
   ],
   "source": [
    "# Nashville BNA\n",
    "# Set time period\n",
    "start = datetime(1992, 8, 1)\n",
    "end = datetime(1992, 8, 31)\n",
    "\n",
    "# Create Point for Vancouver, BC\n",
    "BNA = Point(36.1245002746582, -86.6781997680664)   \n",
    "\n",
    "# Get daily data for 2018\n",
    "data = Daily(BNA, start, end)\n",
    "data = data.fetch()\n",
    "\n",
    "# Plot line chart including average, minimum and maximum temperature\n",
    "data.plot(y=['wspd', 'wpgt', 'prcp'])\n",
    "plt.show()"
   ]
  },
  {
   "cell_type": "code",
   "execution_count": 86,
   "id": "27beff88",
   "metadata": {},
   "outputs": [
    {
     "data": {
      "image/png": "[encoded data removed]",
      "text/plain": [
       "<Figure size 432x288 with 1 Axes>"
      ]
     },
     "metadata": {
      "needs_background": "light"
     },
     "output_type": "display_data"
    }
   ],
   "source": [
    "# MEMPHIS MEM\n",
    "# Set time period\n",
    "start = datetime(1992, 8, 1)\n",
    "end = datetime(1992, 8, 31)\n",
    "\n",
    "# Create Point for Vancouver, BC\n",
    "MEM = Point(35.04240036010742, -89.97669982910156)   \n",
    "\n",
    "# Get daily data for 2018\n",
    "data = Daily(MEM, start, end)\n",
    "data = data.fetch()\n",
    "\n",
    "# Plot line chart including average, minimum and maximum temperature\n",
    "data.plot(y=['wspd', 'wpgt', 'prcp'])\n",
    "plt.show()"
   ]
  },
  {
   "cell_type": "code",
   "execution_count": 85,
   "id": "8abb770b",
   "metadata": {},
   "outputs": [
    {
     "data": {
      "image/png": "[encoded data removed]",
      "text/plain": [
       "<Figure size 432x288 with 1 Axes>"
      ]
     },
     "metadata": {
      "needs_background": "light"
     },
     "output_type": "display_data"
    }
   ],
   "source": [
    "# Fort Lauderdale FFL\n",
    "start = datetime(1992, 8, 1)\n",
    "end = datetime(1992, 8, 31)\n",
    "\n",
    "# Create Point for Vancouver, BC\n",
    "FFL = Point(26.072599, -80.152702)   \n",
    "\n",
    "# Get daily data for 2018\n",
    "data = Daily(FFL, start, end)\n",
    "data = data.fetch()\n",
    "\n",
    "# Plot line chart including average, minimum and maximum temperature\n",
    "data.plot(y=['wspd', 'wpgt', 'prcp'])\n",
    "plt.show()"
   ]
  },
  {
   "cell_type": "code",
   "execution_count": 87,
   "id": "fc2f6650",
   "metadata": {},
   "outputs": [
    {
     "data": {
      "image/png": "[encoded data removed]",
      "text/plain": [
       "<Figure size 432x288 with 1 Axes>"
      ]
     },
     "metadata": {
      "needs_background": "light"
     },
     "output_type": "display_data"
    }
   ],
   "source": [
    "# Louis Armstrong New Orleans International Airport MSY\n",
    "\n",
    "start = datetime(1992, 8, 1)\n",
    "end = datetime(1992, 8, 31)\n",
    "\n",
    "# Create Point for Vancouver, BC\n",
    "MSY = Point(29.99340057373047, -90.25800323486328)   \n",
    "\n",
    "# Get daily data for 2018\n",
    "data = Daily(MSY, start, end)\n",
    "data = data.fetch()\n",
    "\n",
    "# Plot line chart including average, minimum and maximum temperature\n",
    "data.plot(y=['wspd', 'wpgt', 'prcp'])\n",
    "plt.show()"
   ]
  },
  {
   "cell_type": "code",
   "execution_count": 88,
   "id": "44cb6237",
   "metadata": {},
   "outputs": [
    {
     "data": {
      "image/png": "[encoded data removed]",
      "text/plain": [
       "<Figure size 432x288 with 1 Axes>"
      ]
     },
     "metadata": {
      "needs_background": "light"
     },
     "output_type": "display_data"
    }
   ],
   "source": [
    "# Palm Beach International Airport PBI\n",
    "start = datetime(1992, 8, 1)\n",
    "end = datetime(1992, 8, 31)\n",
    "\n",
    "# Create Point for Vancouver, BC\n",
    "PBI = Point(26.68320083618164, -80.09559631347656)\n",
    "\n",
    "# Get daily data for 2018\n",
    "data = Daily(PBI, start, end)\n",
    "data = data.fetch()\n",
    "\n",
    "# Plot line chart including average, minimum and maximum temperature\n",
    "data.plot(y=['wspd', 'wpgt', 'prcp'])\n",
    "plt.show()"
   ]
  },
  {
   "cell_type": "code",
   "execution_count": 89,
   "id": "2ca2f4f1",
   "metadata": {},
   "outputs": [
    {
     "data": {
      "image/png": "[encoded data removed]",
      "text/plain": [
       "<Figure size 432x288 with 1 Axes>"
      ]
     },
     "metadata": {
      "needs_background": "light"
     },
     "output_type": "display_data"
    }
   ],
   "source": [
    "# Birmingham-Shuttlesworth International Airport BHM\n",
    "start = datetime(1992, 8, 1)\n",
    "end = datetime(1992, 8, 31)\n",
    "\n",
    "# Create Point for Vancouver, BC\n",
    "BHM = Point(33.56290054, -86.75350189)\n",
    "\n",
    "# Get daily data for 2018\n",
    "data = Daily(BHM, start, end)\n",
    "data = data.fetch()\n",
    "\n",
    "# Plot line chart including average, minimum and maximum temperature\n",
    "data.plot(y=['wspd', 'wpgt', 'prcp'])\n",
    "plt.show()\n"
   ]
  },
  {
   "cell_type": "code",
   "execution_count": 90,
   "id": "8b708a42",
   "metadata": {},
   "outputs": [
    {
     "data": {
      "image/png": "[encoded data removed]",
      "text/plain": [
       "<Figure size 432x288 with 1 Axes>"
      ]
     },
     "metadata": {
      "needs_background": "light"
     },
     "output_type": "display_data"
    }
   ],
   "source": [
    "# Huntsville International Carl T Jones Field HSV\n",
    "\n",
    "start = datetime(1992, 8, 1)\n",
    "end = datetime(1992, 8, 31)\n",
    "\n",
    "# Create Point for Vancouver, BC\n",
    "HSV = Point(34.637199401855, -86.775100708008)\n",
    "\n",
    "# Get daily data for 2018\n",
    "data = Daily(HSV, start, end)\n",
    "data = data.fetch()\n",
    "\n",
    "# Plot line chart including average, minimum and maximum temperature\n",
    "data.plot(y=['wspd', 'wpgt', 'prcp'])\n",
    "plt.show()"
   ]
  },
  {
   "cell_type": "code",
   "execution_count": 91,
   "id": "1f03640f",
   "metadata": {},
   "outputs": [
    {
     "data": {
      "image/png": "[encoded data removed]",
      "text/plain": [
       "<Figure size 432x288 with 1 Axes>"
      ]
     },
     "metadata": {
      "needs_background": "light"
     },
     "output_type": "display_data"
    }
   ],
   "source": [
    "#Mobile Regional Airport MOB \n",
    "\n",
    "start = datetime(1992, 8, 1)\n",
    "end = datetime(1992, 8, 31)\n",
    "\n",
    "# Create Point for Vancouver, BC\n",
    "MOB = Point(30.691200256348, -88.242797851562)\n",
    "\n",
    "# Get daily data for 2018\n",
    "data = Daily(MOB, start, end)\n",
    "data = data.fetch()\n",
    "\n",
    "# Plot line chart including average, minimum and maximum temperature\n",
    "data.plot(y=['wspd', 'wpgt', 'prcp'])\n",
    "plt.show()"
   ]
  },
  {
   "cell_type": "code",
   "execution_count": 92,
   "id": "f1d03d69",
   "metadata": {},
   "outputs": [
    {
     "data": {
      "image/png": "[encoded data removed]",
      "text/plain": [
       "<Figure size 432x288 with 1 Axes>"
      ]
     },
     "metadata": {
      "needs_background": "light"
     },
     "output_type": "display_data"
    }
   ],
   "source": [
    "# Jackson-Medgar Wiley Evers International Airport JAN\n",
    "\n",
    "start = datetime(1992, 8, 1)\n",
    "end = datetime(1992, 8, 31)\n",
    "\n",
    "# Create Point for Vancouver, BC\n",
    "JAN = Point(32.3111991882, -90.0758972168)\n",
    "\n",
    "# Get daily data for 2018\n",
    "data = Daily(JAN, start, end)\n",
    "data = data.fetch()\n",
    "\n",
    "# Plot line chart including average, minimum and maximum temperature\n",
    "data.plot(y=['wspd', 'wpgt', 'prcp'])\n",
    "plt.show()"
   ]
  },
  {
   "cell_type": "code",
   "execution_count": 93,
   "id": "e1885ca9",
   "metadata": {},
   "outputs": [
    {
     "data": {
      "image/png": "[encoded data removed]",
      "text/plain": [
       "<Figure size 432x288 with 1 Axes>"
      ]
     },
     "metadata": {
      "needs_background": "light"
     },
     "output_type": "display_data"
    }
   ],
   "source": [
    "# Shreveport Regional Airport SHV\n",
    "\n",
    "start = datetime(1992, 8, 1)\n",
    "end = datetime(1992, 8, 31)\n",
    "\n",
    "# Create Point for Vancouver, BC\n",
    "SHV = Point(32.446602, -93.8256)\n",
    "\n",
    "# Get daily data for 2018\n",
    "data = Daily(SHV, start, end)\n",
    "data = data.fetch()\n",
    "\n",
    "# Plot line chart including average, minimum and maximum temperature\n",
    "data.plot(y=['wspd', 'wpgt', 'prcp'])\n",
    "plt.show()"
   ]
  },
  {
   "cell_type": "code",
   "execution_count": 94,
   "id": "4a5dcf4a",
   "metadata": {},
   "outputs": [
    {
     "data": {
      "image/png": "[encoded data removed]",
      "text/plain": [
       "<Figure size 432x288 with 1 Axes>"
      ]
     },
     "metadata": {
      "needs_background": "light"
     },
     "output_type": "display_data"
    }
   ],
   "source": [
    "\n",
    "start = datetime(1992, 8, 1)\n",
    "end = datetime(1992, 8, 31)\n",
    "\n",
    "# Create Point for Vancouver, BC\n",
    "SHV = Point(35.81100082,-83.9940033)\n",
    "\n",
    "# Get daily data for 2018\n",
    "data = Daily(SHV, start, end)\n",
    "data = data.fetch()\n",
    "\n",
    "# Plot line chart including average, minimum and maximum temperature\n",
    "data.plot(y=['wspd', 'wpgt', 'prcp'])\n",
    "plt.show()"
   ]
  },
  {
   "cell_type": "code",
   "execution_count": null,
   "id": "4dee1be4",
   "metadata": {},
   "outputs": [],
   "source": [
    "import sql\n",
    "from sql import get_data\n",
    "\n",
    "\n",
    "\n",
    "\n",
    "visu = get_data(\"SELECT faa AS IATA, name, lat, lon, city, country FROM muc_analytics_21_1.airports WHERE faa IN ('BNA', 'MIA', 'MEM', 'MSY', 'DFW')\")\n",
    "visu['passengers'] = [10000, 10000, 10000, 10000, 10000] \n",
    "visu\n"
   ]
  },
  {
   "cell_type": "code",
   "execution_count": null,
   "id": "cce4da88",
   "metadata": {},
   "outputs": [],
   "source": [
    "visu"
   ]
  },
  {
   "cell_type": "code",
   "execution_count": null,
   "id": "2627d0a8",
   "metadata": {},
   "outputs": [],
   "source": [
    "import numpy as np\n",
    "import pandas as pd\n",
    "\n",
    "from lets_plot import*\n",
    "\n",
    "LetsPlot.setup_html()"
   ]
  },
  {
   "cell_type": "code",
   "execution_count": null,
   "id": "aa27c2d3",
   "metadata": {},
   "outputs": [],
   "source": [
    "LetsPlot.set(maptiles_zxy(\n",
    "    url='https://gibs.earthdata.nasa.gov/wmts/epsg3857/best/VIIRS_CityLights_2012/default//GoogleMapsCompatible_Level8/{z}/{y}/{x}.jpg',\n",
    "    attribution='<a href=\"https://earthdata.nasa.gov/eosdis/science-system-description/eosdis-components/gibs\">© NASA Global Imagery Browse Services (GIBS)</a>',\n",
    "    max_zoom=8\n",
    "))"
   ]
  },
  {
   "cell_type": "code",
   "execution_count": null,
   "id": "cf4bd38f",
   "metadata": {},
   "outputs": [],
   "source": [
    "from lets_plot.geo_data import *\n",
    "\n",
    "countries_gcoder = geocode_countries(['USA'])\n",
    "countries_gcoder.get_geocodes()"
   ]
  },
  {
   "cell_type": "code",
   "execution_count": null,
   "id": "aca58528",
   "metadata": {},
   "outputs": [],
   "source": [
    "(ggplot() \n",
    " + geom_livemap(location=[-99.74, 37.25],\n",
    "                zoom=4)\n",
    " + geom_polygon(aes(fill='country'), \n",
    "                data=countries_gcoder.get_boundaries(), \n",
    "                alpha=.2)\n",
    " + geom_point(aes('lon', 'lat', fill='country', size=\"passengers\"),\n",
    "              data=visu,\n",
    "              shape=28,\n",
    "              alpha=.9,\n",
    "              color='red',\n",
    "              tooltips=layer_tooltips()\n",
    "                        .format('passengers', '{.1f} m' )\n",
    "                        .format('^x', '.2f').format('^y', '.2f')\n",
    "                        .line('@|@iata')\n",
    "                        .line('Passengers|@passengers') \n",
    "                        .line('City|@city') \n",
    "                        .line('Country|@country') \n",
    "                        .line('lon|^x')\n",
    "                        .line('lat|^y'))\n",
    " + scale_fill_manual(values=['#30a2da', '#fc4f30'])\n",
    " + scale_size(range=[10, 40], trans='sqrt')\n",
    " + theme(legend_position='none')\n",
    " + ggsize(900, 520)\n",
    ") "
   ]
  },
  {
   "cell_type": "code",
   "execution_count": null,
   "id": "967f684f",
   "metadata": {},
   "outputs": [],
   "source": [
    "import sql\n",
    "from sql import get_data\n",
    "\n",
    "visu = get_data(\"SELECT faa, name, lat, lon, city FROM muc_analytics_21_1.airports WHERE faa IN ('BNA', 'MIA', 'MEM', 'MSY', 'DFW')\")\n",
    "visu.head"
   ]
  }
 ],
 "metadata": {
  "kernelspec": {
   "display_name": "Python 3.9.8 ('.venv': venv)",
   "language": "python",
   "name": "python3"
  },
  "language_info": {
   "codemirror_mode": {
    "name": "ipython",
    "version": 3
   },
   "file_extension": ".py",
   "mimetype": "text/x-python",
   "name": "python",
   "nbconvert_exporter": "python",
   "pygments_lexer": "ipython3",
   "version": "3.9.8"
  },
  "vscode": {
   "interpreter": {
    "hash": "f1abf76b6083f4eb11ada7026e57fce3010dc6b905adaed84ce345c5a9c5e201"
   }
  }
 },
 "nbformat": 4,
 "nbformat_minor": 5
}
