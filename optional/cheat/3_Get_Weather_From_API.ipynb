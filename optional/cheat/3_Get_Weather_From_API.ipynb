{
 "cells": [
  {
   "cell_type": "markdown",
   "metadata": {},
   "source": [
    "# Pulling Data from APIs\n",
    "As a Data Analyst, there are usually two scenarios in which you will have to work with APIs:\n",
    "\n",
    "1. You need to analyse or build reporting on your organization's data that is only available via one or multiple APIs\n",
    "2. You want to enrich your organization's data with external data to improve decision making and drive business value\n",
    "\n",
    "Therefore, being able to connect to and query from APIs is an invaluable skill and will make you more flexible when it comes to working with different data sources. We know working with APIs can be overwhelming and in order to spare you unnecessary frustration, this notebook will provide you with a structured step-by-step approach to make working with APIs as easy and fun as possible.\n",
    "\n",
    "In this notebook we will be using the OpenWeather API https://openweathermap.org/ with the goal of enriching our existing flights data with additional weather data.\n",
    "\n",
    "Furthermore, you're going to\n",
    "\n",
    "1. Learn about OpenWeather API's available data and limitations\n",
    "2. Sign-up to the OpenWeather API and use your API key to make your first call to the OpenWeather API\n",
    "3. Learn how to adjust your API calls to get the data you need\n",
    "4. Learn how to access and extract data from your JSON\n",
    "5. Learn how to flatten nested JSON data and transform it into a DataFrame for future analysis\n",
    "6. Learn how to make multiple calls to the API with different parameters in an automated way\n"
   ]
  },
  {
   "cell_type": "markdown",
   "metadata": {},
   "source": [
    "## Introduction - How to use OpenWeather API\n",
    "\n",
    "<img src=\"images/OpenWeather_API_Logo.jpg\" width=\"600\">\n",
    "\n",
    "APIs all work very similar in that they use standard methods to make it easy to request and use data. Apart from their functionality, APIs can differ in multiple ways such as the type, amount, level of granularity and accuracy of the data, the authentication method, how many calls can be send per second/minute/day/in total annd the rules on using and publishing the data.\n",
    "\n",
    "Check out their homepage and documentation (https://openweathermap.org/api) and try to answer the questions below.\n",
    "\n",
    "* Does the API have the data I need for my use case in terms of type, completeness, granularity and accuracy?\n",
    "* Is it free or paid?\n",
    "* How many API calls can I make per month?\n",
    "* How many API calls can I make per minute?"
   ]
  },
  {
   "cell_type": "markdown",
   "metadata": {},
   "source": [
    "1. Yes\n",
    "2. Mostly Free\n",
    "3. 1.000.000\n",
    "4. 60 only on current weather, because of limitation"
   ]
  },
  {
   "cell_type": "markdown",
   "metadata": {},
   "source": [
    "### Exercises\n",
    "\n",
    "Please go through the use cases below and answer the questions.\n",
    "\n",
    "Use case #1: Your organization wants you to record the current weather for 100 locations every hour.\n",
    "\n",
    "* Which API provides this data?\n",
    "- Current Weather Data - API (free)\n",
    "* Will you have to purchase a paid API plan?\n",
    "No\n",
    "* Which limition(s) could be problematic?\n",
    "\n",
    "95 % Updatetime only in comparision to 99% // We have to query the data in 2 queries due to the 60 per min limitation."
   ]
  },
  {
   "cell_type": "markdown",
   "metadata": {},
   "source": [
    "*// Please put your answers here*"
   ]
  },
  {
   "cell_type": "markdown",
   "metadata": {},
   "source": [
    "Use case #2: Your boss wants you to retrieve weather data for the last 12 months for 10 of your company's store locations to find out if certain weather conditions had an impact on sales. Your budget to get this data is 100$.\n",
    "\n",
    "* Which API provides this data?\n",
    "- 'History Bulk'\n",
    "* How much will it cost you to get this data?\n",
    "EUR 90 = USD 102.68\n",
    "* Will the budget be sufficient?\n",
    "No we need additional USD 2.68,-"
   ]
  },
  {
   "cell_type": "markdown",
   "metadata": {},
   "source": [
    "*// Please put your answers here*"
   ]
  },
  {
   "cell_type": "markdown",
   "metadata": {},
   "source": []
  },
  {
   "cell_type": "markdown",
   "metadata": {},
   "source": [
    "Use case #3: Your boss loves chocolate pudding. What she hates is rain. Unfortunately, she also hates you. One day your boss is in full rage mode, because it rained on her way back from the lunch break and she got wet. The only thing that can safe her day is her beloved chocolate pudding she put in the fridge in the morning. Unfortunately, you ate it, because as chance would have it, you hate your boss even more. Your boss orders you into her office and she is furious. She tells you the following: \"If I ever get wet from rain again, I will fire you.\" Oh no, this is not what you had in mind. You can't get fired, you have to pay aliments for 4 children from 5 ex-wives every month. Fortunately, you are smart and have an idea: you want to write a little app that queries the weather forecast from the OpenWeather API and sends your boss a push notification whenever it is about to rain. In order to get the most recent and accurate forecast and to minimise the risk of getting fired you plan on querying the API every second. Because you're poor you want to use the free API plan.\n",
    "\n",
    "* Which API provides the data you need?\n",
    "* How accurate is the forecasted weather data?"
   ]
  },
  {
   "cell_type": "code",
   "execution_count": null,
   "id": "e0e8cd67",
   "metadata": {},
   "outputs": [],
   "source": []
  },
  {
   "cell_type": "markdown",
   "metadata": {},
   "source": [
    "*// Please put your answers here*"
   ]
  },
  {
   "cell_type": "markdown",
   "metadata": {},
   "source": [
    "You start querying the data and after exactly 16min40sec you get the following error message:\n",
    "{ \"cod\": 429,\n",
    "\"message\": \"Your account is temporary blocked due to exceeding of requests limitation of your subscription type. \n",
    "Please choose the proper subscription http://openweathermap.org/price\"\n",
    "}\n",
    "* Why are you getting this error message?\n",
    "\n"
   ]
  },
  {
   "cell_type": "markdown",
   "metadata": {},
   "source": [
    "*// Please put your answer here*"
   ]
  },
  {
   "cell_type": "markdown",
   "metadata": {},
   "source": [
    "When looking at the data you have queried so far, you see the same data being returned multiple times. After investigating further, you find a pattern where data changes only after every 600 rows. \n",
    "* Why is that?"
   ]
  },
  {
   "cell_type": "markdown",
   "metadata": {},
   "source": [
    "*// Please put your answer here*"
   ]
  },
  {
   "cell_type": "markdown",
   "metadata": {},
   "source": [
    "Now that you know why you are getting the error message and why data changes only after every 600 rows, you reconsider your initial plan.\n",
    "* Taking the above information into consideration, can you use the API you initially selected with a free plan to build the weather forecast app for your boss? Why / why not?"
   ]
  },
  {
   "cell_type": "markdown",
   "metadata": {},
   "source": [
    "*// Please put your answers here*"
   ]
  },
  {
   "cell_type": "markdown",
   "metadata": {},
   "source": [
    "In a parallel universe you decided to go with the free API plan to build your weather forecast app. Your app works as expected and your boss receives push notification warnings whenever it's about to rain. One week later you receive a letter of termination: you got fired. Reason: Your boss got wet in the rain. You are confused. You check your code and the app again. Everything works fine. You check the logs to see what happened the day your boss got wet in the rain. You find the API didn't return data for 5 minutes shortly before it started raining. You're furious and plan to sue and demand damages from the company behind OpenWeather API.\n",
    "* Why will you suffer a humiliating defeat before court?"
   ]
  },
  {
   "cell_type": "markdown",
   "metadata": {},
   "source": [
    "*// Please put your answer here*"
   ]
  },
  {
   "cell_type": "markdown",
   "metadata": {},
   "source": [
    "## Query Data - Making calls to the API\n",
    "When you type www.google.de into your web browser and press enter, your browser will send a request to the server that is hosting google's website, asking to retrieve the contents of the website so it can display it to you. Getting data from APIs works in a similar way. A request is sent to the address of the API, but instead of returning html and javascript files that will be interpreted and rendered by you browser, almost always a JSON file with data is returned. Also while you could use a web browser to send the request, it's not needed and more convenient to use a programming language like Python to do it.\n",
    "\n",
    "In this notebook we are going to use the requests library. It is one of the most downloaded Python packages today, pulling in around 14M downloads / week. You can find out more about it here: https://pypi.org/project/requests/.\n",
    "Complete the code below and import the requests package."
   ]
  },
  {
   "cell_type": "code",
   "execution_count": 1,
   "metadata": {},
   "outputs": [],
   "source": [
    "# Import requests package\n",
    "import requests"
   ]
  },
  {
   "cell_type": "markdown",
   "metadata": {},
   "source": [
    "Next, as mentioned above the URL of the API has to be specified. In this example we are going to pull current weather data. The documentation for this API can be found here: https://openweathermap.org/current\n",
    "\n",
    "The url shown below is what needs to be used in order to connect to the API.\n",
    "\n",
    "We can see that the url has \n",
    "* a fixed part: http://api.openweathermap.org/data/2.5/weather?'\n",
    "* and a variable part: 'q={city name},{state code},{country_code}&appid={API key}'\n",
    "\n",
    "<img src=\"images/Current_Weather_API_Call.png\" width=\"600\">\n",
    "\n",
    "Let's take the fixed part to define a url variable."
   ]
  },
  {
   "cell_type": "code",
   "execution_count": 2,
   "metadata": {},
   "outputs": [],
   "source": [
    "# Set URL as url\n",
    "url = 'http://api.openweathermap.org/data/2.5/weather?'"
   ]
  },
  {
   "cell_type": "markdown",
   "metadata": {},
   "source": [
    "While the fixed part stays constant, the variable part consists of query strings or parameters, some optional some mandatory, which can be used to select or filter data or define the format or unit of measurement of the response.\n",
    "\n",
    "Below are the optional and required parameters when pulling current weather data by city name.\n",
    "\n",
    "<img src=\"images/Current_Weather_API_Call_Parameters.png\" width=\"600\">\n",
    "\n",
    "Current weather data can be pulled not only by city name but also by\n",
    "\n",
    "* city ID\n",
    "* geographic coordinates (latitude, longitude)\n",
    "* ZIP code\n",
    "* cities within a rectangular zone\n",
    "* cities in circle\n",
    "\n",
    "Depending on which of the listed methods will be used, the number and names of available parameters can change. Read the documention carefully to avoid running into error messages.\n",
    "\n",
    "In the following example we will stick with pulling the data by city name.\n",
    "\n",
    "Let's define two variables:\n",
    "\n",
    "1. a location variable that we will use to set the \"q\" parameter of the API call\n",
    "2. a unit variable that we will use to set the \"units\" parameter\n",
    "\n",
    "**Note: When using more than one parameter, we need to add the \"&\" sign, just like we would do when checking multiple conditions in an IF clause for example (p1 AND p2 AND p3).**"
   ]
  },
  {
   "cell_type": "code",
   "execution_count": 7,
   "metadata": {},
   "outputs": [],
   "source": [
    "# Set location and unit variables\n",
    "location = \"q=Bremen\"\n",
    "unit = \"&units=metric\""
   ]
  },
  {
   "cell_type": "markdown",
   "metadata": {},
   "source": [
    "Next, we need to define a variable that includes our API key that will be used for the appid parameter. Why? Because we need to authenticate ourselves to the API when we send a request, so the API knows that we have a registered account and can notify us in case we reach our query limit.\n",
    "\n",
    "To do this,\n",
    "\n",
    "1. Go to you user profile and go to \"My API keys\" (https://home.openweathermap.org/api_keys)\n",
    "2. Copy your API key and assign it to the variable api_key below "
   ]
  },
  {
   "cell_type": "code",
   "execution_count": 8,
   "metadata": {},
   "outputs": [],
   "source": [
    "# Add API key\n",
    "api_key = \"&appid=07713289b74ccd429ceed390d76912ad\" "
   ]
  },
  {
   "cell_type": "markdown",
   "metadata": {},
   "source": [
    "Now we're almost ready to make our first API call!\n",
    "\n",
    "You might be wondering why we split the URL into multiple parts. The answer is, it makes it easy to change our desired output in the future. Imagine you're having multiple API calls in your script and you want to change the location parameter for all of them to the same variable at the same time. All we need to do is change one line of code and all API calls will be adjusted. This is much more convenient and less error prone compared to having to find and adjust each individual API call. This approach will also be helpful when we want to make multiple calls for f.e. different locations in one code block using loops, which we will be doing later.\n",
    "\n",
    "The last step before we can finally query the API is to combine the multiple parts into one final URL. To do this, we can simply concatenate all strings into one. Check out the code below."
   ]
  },
  {
   "cell_type": "code",
   "execution_count": 9,
   "metadata": {},
   "outputs": [
    {
     "name": "stdout",
     "output_type": "stream",
     "text": [
      "http://api.openweathermap.org/data/2.5/weather?q=Bremen&units=metric&appid=07713289b74ccd429ceed390d76912ad\n"
     ]
    }
   ],
   "source": [
    "# Combine url parts to final url: url_f\n",
    "url_f = url + location + unit + api_key\n",
    "\n",
    "# Print url_f\n",
    "print(url_f)"
   ]
  },
  {
   "cell_type": "markdown",
   "metadata": {},
   "source": [
    "Now that we have the url, we can finally send our first API request. Since we want to get data, we need to send a GET request. This is done using the get() function from the requests function. The get() function will send a request and retrieve the response for us."
   ]
  },
  {
   "cell_type": "code",
   "execution_count": 11,
   "metadata": {},
   "outputs": [
    {
     "name": "stdout",
     "output_type": "stream",
     "text": [
      "<Response [200]>\n"
     ]
    }
   ],
   "source": [
    "# Send get request\n",
    "r = requests.get(url_f)\n",
    "\n",
    "# Print r\n",
    "print(r)"
   ]
  },
  {
   "cell_type": "markdown",
   "metadata": {},
   "source": [
    "Weirdly, when we print the response, all we see is a code 200 message and no data. \n",
    "\n",
    "Did we do something wrong? No! \n",
    "\n",
    "Code 200 actually means that our request was successfull. Check out https://en.wikipedia.org/wiki/List_of_HTTP_status_codes to see a list of reponse codes and their definition. Knowing what the different response codes mean will help you understand error messages and resolve issues faster in the future.\n",
    "\n",
    "So where is the data? The response that the API sent back is actually an object containing multiple elements such as cookies, encoding, headers and content. Run the code blocks below and check out the different elements of the response."
   ]
  },
  {
   "cell_type": "code",
   "execution_count": 12,
   "metadata": {},
   "outputs": [
    {
     "data": {
      "text/plain": [
       "{'Server': 'openresty', 'Date': 'Tue, 18 Jan 2022 09:21:36 GMT', 'Content-Type': 'application/json; charset=utf-8', 'Content-Length': '516', 'Connection': 'keep-alive', 'X-Cache-Key': '/data/2.5/weather?q=bremen&units=metric', 'Access-Control-Allow-Origin': '*', 'Access-Control-Allow-Credentials': 'true', 'Access-Control-Allow-Methods': 'GET, POST'}"
      ]
     },
     "execution_count": 12,
     "metadata": {},
     "output_type": "execute_result"
    }
   ],
   "source": [
    "# Print headers\n",
    "r.headers"
   ]
  },
  {
   "cell_type": "code",
   "execution_count": 15,
   "metadata": {},
   "outputs": [
    {
     "data": {
      "text/plain": [
       "<RequestsCookieJar[]>"
      ]
     },
     "execution_count": 15,
     "metadata": {},
     "output_type": "execute_result"
    }
   ],
   "source": [
    "# Print cookies\n",
    "r.cookies"
   ]
  },
  {
   "cell_type": "code",
   "execution_count": 16,
   "metadata": {},
   "outputs": [
    {
     "data": {
      "text/plain": [
       "'utf-8'"
      ]
     },
     "execution_count": 16,
     "metadata": {},
     "output_type": "execute_result"
    }
   ],
   "source": [
    "# Print encoding\n",
    "r.encoding"
   ]
  },
  {
   "cell_type": "code",
   "execution_count": 17,
   "metadata": {},
   "outputs": [
    {
     "data": {
      "text/plain": [
       "b'{\"coord\":{\"lon\":8.8078,\"lat\":53.0752},\"weather\":[{\"id\":802,\"main\":\"Clouds\",\"description\":\"scattered clouds\",\"icon\":\"03d\"}],\"base\":\"stations\",\"main\":{\"temp\":6.24,\"feels_like\":4.2,\"temp_min\":5.74,\"temp_max\":6.71,\"pressure\":1036,\"humidity\":95,\"sea_level\":1036,\"grnd_level\":1034},\"visibility\":10000,\"wind\":{\"speed\":2.72,\"deg\":264,\"gust\":5.53},\"clouds\":{\"all\":25},\"dt\":1642497407,\"sys\":{\"type\":2,\"id\":2016392,\"country\":\"DE\",\"sunrise\":1642490874,\"sunset\":1642520517},\"timezone\":3600,\"id\":2944388,\"name\":\"Bremen\",\"cod\":200}'"
      ]
     },
     "execution_count": 17,
     "metadata": {},
     "output_type": "execute_result"
    }
   ],
   "source": [
    "# Print content\n",
    "r.content"
   ]
  },
  {
   "cell_type": "markdown",
   "metadata": {},
   "source": [
    "Found it! The content body holds the data. Since by default it's in JSON format, we can use the built-in JSON decoder to increase readability and prepare the data for future data manipulation."
   ]
  },
  {
   "cell_type": "code",
   "execution_count": 19,
   "metadata": {},
   "outputs": [
    {
     "name": "stdout",
     "output_type": "stream",
     "text": [
      "{'coord': {'lon': 8.8078, 'lat': 53.0752}, 'weather': [{'id': 802, 'main': 'Clouds', 'description': 'scattered clouds', 'icon': '03d'}], 'base': 'stations', 'main': {'temp': 6.24, 'feels_like': 4.2, 'temp_min': 5.74, 'temp_max': 6.71, 'pressure': 1036, 'humidity': 95, 'sea_level': 1036, 'grnd_level': 1034}, 'visibility': 10000, 'wind': {'speed': 2.72, 'deg': 264, 'gust': 5.53}, 'clouds': {'all': 25}, 'dt': 1642497407, 'sys': {'type': 2, 'id': 2016392, 'country': 'DE', 'sunrise': 1642490874, 'sunset': 1642520517}, 'timezone': 3600, 'id': 2944388, 'name': 'Bremen', 'cod': 200}\n"
     ]
    }
   ],
   "source": [
    "# Apply JSON decoder and save in weather_hh\n",
    "weather_hb = r.json()\n",
    "\n",
    "# Print weather_hh\n",
    "print(weather_hb)"
   ]
  },
  {
   "cell_type": "markdown",
   "metadata": {},
   "source": [
    "This looks good already, but we can make it look even better! To do this, we are going to use the json Python library and its functions to transform the raw data into a json object and print it with proper indentation."
   ]
  },
  {
   "cell_type": "code",
   "execution_count": 21,
   "metadata": {},
   "outputs": [
    {
     "data": {
      "text/plain": [
       "'{\\n   \"coord\": {\\n      \"lon\": 8.8078,\\n      \"lat\": 53.0752\\n   },\\n   \"weather\": [\\n      {\\n         \"id\": 802,\\n         \"main\": \"Clouds\",\\n         \"description\": \"scattered clouds\",\\n         \"icon\": \"03d\"\\n      }\\n   ],\\n   \"base\": \"stations\",\\n   \"main\": {\\n      \"temp\": 6.24,\\n      \"feels_like\": 4.2,\\n      \"temp_min\": 5.74,\\n      \"temp_max\": 6.71,\\n      \"pressure\": 1036,\\n      \"humidity\": 95,\\n      \"sea_level\": 1036,\\n      \"grnd_level\": 1034\\n   },\\n   \"visibility\": 10000,\\n   \"wind\": {\\n      \"speed\": 2.72,\\n      \"deg\": 264,\\n      \"gust\": 5.53\\n   },\\n   \"clouds\": {\\n      \"all\": 25\\n   },\\n   \"dt\": 1642497407,\\n   \"sys\": {\\n      \"type\": 2,\\n      \"id\": 2016392,\\n      \"country\": \"DE\",\\n      \"sunrise\": 1642490874,\\n      \"sunset\": 1642520517\\n   },\\n   \"timezone\": 3600,\\n   \"id\": 2944388,\\n   \"name\": \"Bremen\",\\n   \"cod\": 200\\n}'"
      ]
     },
     "execution_count": 21,
     "metadata": {},
     "output_type": "execute_result"
    }
   ],
   "source": [
    "# Import json package\n",
    "\n",
    "import json\n",
    "# Create json object: json_object\n",
    "json_object = json.loads(r.content)\n",
    "\n",
    "# Print json_object\n",
    "json.dumps(json_object, indent = 3)"
   ]
  },
  {
   "cell_type": "markdown",
   "metadata": {},
   "source": [
    "Awesome! Now it's super easy to identify the different key-value pairs and assess the available information.\n",
    "\n",
    "You might be saying: \"Yeah, this is cool and all, but I'm not a weather expert, what do all these fields mean?\" \n",
    "\n",
    "-> **Read the documention!**\n",
    "\n",
    "Go to https://openweathermap.org/current#current_JSON and you will find a list of all fields and their definition that can be found in our JSON response.\n",
    "\n",
    "As mentioned above, we can see the different key-value pairs inside the JSON output. You've probably heard the term key-value pairs before. Do you remember where? Dictionaries, exactly! If you need a quick refresh on what dictionaries are and what they do, check out the official Python documentation here: https://docs.Python.org/3/tutorial/datastructures.html#dictionaries.\n",
    "\n",
    "Printing the type of our weather_hh variable, which is the API response decoded by the JSON decoder, we get the confirmation that we are working with a dictionary."
   ]
  },
  {
   "cell_type": "code",
   "execution_count": 22,
   "metadata": {},
   "outputs": [
    {
     "data": {
      "text/plain": [
       "dict"
      ]
     },
     "execution_count": 22,
     "metadata": {},
     "output_type": "execute_result"
    }
   ],
   "source": [
    "# Print type of weather_hh\n",
    "type(weather_hb)\n"
   ]
  },
  {
   "cell_type": "markdown",
   "metadata": {},
   "source": [
    "We can use different techniques to access all or only specific parts of the data. One way is to loop through the dictionary and print all key, value pairs.  \n",
    "Complete the code below and print all key value pairs."
   ]
  },
  {
   "cell_type": "code",
   "execution_count": null,
   "metadata": {},
   "outputs": [],
   "source": [
    "# Loop through and print all key-value pairs\n",
    "for ___, _____ in weather_hh.items():\n",
    "    print(____ + ':', ____)"
   ]
  },
  {
   "cell_type": "markdown",
   "metadata": {},
   "source": [
    "Alternatively, we can print specific values by referencing their respective key."
   ]
  },
  {
   "cell_type": "code",
   "execution_count": 37,
   "metadata": {},
   "outputs": [
    {
     "ename": "KeyError",
     "evalue": "'description'",
     "output_type": "error",
     "traceback": [
      "\u001b[0;31m---------------------------------------------------------------------------\u001b[0m",
      "\u001b[0;31mKeyError\u001b[0m                                  Traceback (most recent call last)",
      "\u001b[0;32m/var/folders/xs/t09nlgmn7v1c138x7zylb7lr0000gn/T/ipykernel_11568/500321980.py\u001b[0m in \u001b[0;36m<module>\u001b[0;34m\u001b[0m\n\u001b[1;32m      3\u001b[0m \u001b[0mweather_hb\u001b[0m\u001b[0;34m[\u001b[0m\u001b[0;34m'coord'\u001b[0m\u001b[0;34m]\u001b[0m\u001b[0;34m\u001b[0m\u001b[0;34m\u001b[0m\u001b[0m\n\u001b[1;32m      4\u001b[0m \u001b[0;31m# Print values in main\u001b[0m\u001b[0;34m\u001b[0m\u001b[0;34m\u001b[0m\u001b[0;34m\u001b[0m\u001b[0m\n\u001b[0;32m----> 5\u001b[0;31m \u001b[0mweather_hb\u001b[0m\u001b[0;34m[\u001b[0m\u001b[0;34m'description'\u001b[0m\u001b[0;34m]\u001b[0m\u001b[0;34m\u001b[0m\u001b[0;34m\u001b[0m\u001b[0m\n\u001b[0m\u001b[1;32m      6\u001b[0m \u001b[0;34m\u001b[0m\u001b[0m\n\u001b[1;32m      7\u001b[0m \u001b[0;31m# Print values in temp\u001b[0m\u001b[0;34m\u001b[0m\u001b[0;34m\u001b[0m\u001b[0;34m\u001b[0m\u001b[0m\n",
      "\u001b[0;31mKeyError\u001b[0m: 'description'"
     ]
    }
   ],
   "source": [
    "# Print values in base\n",
    "\n",
    "weather_hb['coord']\n",
    "# Print values in main\n",
    "weather_hb['description']\n",
    "\n",
    "# Print values in temp\n",
    "weather_hb['temp']"
   ]
  },
  {
   "cell_type": "markdown",
   "metadata": {},
   "source": [
    "## Working with (nested) JSONs\n",
    "Now that you've learned how to pull current weather data from the OpenWeather API and explore the output, it's time to convert it to a DataFrame. Having the data in a DataFrame allows us to perform data exploration, manipulation or visualization.\n",
    "\n",
    "The DataFrame() function in the pandas package allows us to transform a dictionary into a DataFrame.\n",
    "Run the code below to import the library and transform the current weather in Hamburg into a DataFrame."
   ]
  },
  {
   "cell_type": "code",
   "execution_count": 40,
   "metadata": {},
   "outputs": [
    {
     "ename": "ValueError",
     "evalue": "Mixing dicts with non-Series may lead to ambiguous ordering.",
     "output_type": "error",
     "traceback": [
      "\u001b[0;31m---------------------------------------------------------------------------\u001b[0m",
      "\u001b[0;31mValueError\u001b[0m                                Traceback (most recent call last)",
      "\u001b[0;32m/var/folders/xs/t09nlgmn7v1c138x7zylb7lr0000gn/T/ipykernel_11568/3310657789.py\u001b[0m in \u001b[0;36m<module>\u001b[0;34m\u001b[0m\n\u001b[1;32m      3\u001b[0m \u001b[0;34m\u001b[0m\u001b[0m\n\u001b[1;32m      4\u001b[0m \u001b[0;31m# Transform dictionary to dataframe (will throw an error)\u001b[0m\u001b[0;34m\u001b[0m\u001b[0;34m\u001b[0m\u001b[0;34m\u001b[0m\u001b[0m\n\u001b[0;32m----> 5\u001b[0;31m \u001b[0mpd\u001b[0m\u001b[0;34m.\u001b[0m\u001b[0mDataFrame\u001b[0m\u001b[0;34m(\u001b[0m\u001b[0mweather_hb\u001b[0m\u001b[0;34m)\u001b[0m\u001b[0;34m\u001b[0m\u001b[0;34m\u001b[0m\u001b[0m\n\u001b[0m",
      "\u001b[0;32m/usr/local/Caskroom/miniconda/base/envs/nf_base/lib/python3.8/site-packages/pandas/core/frame.py\u001b[0m in \u001b[0;36m__init__\u001b[0;34m(self, data, index, columns, dtype, copy)\u001b[0m\n\u001b[1;32m    612\u001b[0m         \u001b[0;32melif\u001b[0m \u001b[0misinstance\u001b[0m\u001b[0;34m(\u001b[0m\u001b[0mdata\u001b[0m\u001b[0;34m,\u001b[0m \u001b[0mdict\u001b[0m\u001b[0;34m)\u001b[0m\u001b[0;34m:\u001b[0m\u001b[0;34m\u001b[0m\u001b[0;34m\u001b[0m\u001b[0m\n\u001b[1;32m    613\u001b[0m             \u001b[0;31m# GH#38939 de facto copy defaults to False only in non-dict cases\u001b[0m\u001b[0;34m\u001b[0m\u001b[0;34m\u001b[0m\u001b[0;34m\u001b[0m\u001b[0m\n\u001b[0;32m--> 614\u001b[0;31m             \u001b[0mmgr\u001b[0m \u001b[0;34m=\u001b[0m \u001b[0mdict_to_mgr\u001b[0m\u001b[0;34m(\u001b[0m\u001b[0mdata\u001b[0m\u001b[0;34m,\u001b[0m \u001b[0mindex\u001b[0m\u001b[0;34m,\u001b[0m \u001b[0mcolumns\u001b[0m\u001b[0;34m,\u001b[0m \u001b[0mdtype\u001b[0m\u001b[0;34m=\u001b[0m\u001b[0mdtype\u001b[0m\u001b[0;34m,\u001b[0m \u001b[0mcopy\u001b[0m\u001b[0;34m=\u001b[0m\u001b[0mcopy\u001b[0m\u001b[0;34m,\u001b[0m \u001b[0mtyp\u001b[0m\u001b[0;34m=\u001b[0m\u001b[0mmanager\u001b[0m\u001b[0;34m)\u001b[0m\u001b[0;34m\u001b[0m\u001b[0;34m\u001b[0m\u001b[0m\n\u001b[0m\u001b[1;32m    615\u001b[0m         \u001b[0;32melif\u001b[0m \u001b[0misinstance\u001b[0m\u001b[0;34m(\u001b[0m\u001b[0mdata\u001b[0m\u001b[0;34m,\u001b[0m \u001b[0mma\u001b[0m\u001b[0;34m.\u001b[0m\u001b[0mMaskedArray\u001b[0m\u001b[0;34m)\u001b[0m\u001b[0;34m:\u001b[0m\u001b[0;34m\u001b[0m\u001b[0;34m\u001b[0m\u001b[0m\n\u001b[1;32m    616\u001b[0m             \u001b[0;32mimport\u001b[0m \u001b[0mnumpy\u001b[0m\u001b[0;34m.\u001b[0m\u001b[0mma\u001b[0m\u001b[0;34m.\u001b[0m\u001b[0mmrecords\u001b[0m \u001b[0;32mas\u001b[0m \u001b[0mmrecords\u001b[0m\u001b[0;34m\u001b[0m\u001b[0;34m\u001b[0m\u001b[0m\n",
      "\u001b[0;32m/usr/local/Caskroom/miniconda/base/envs/nf_base/lib/python3.8/site-packages/pandas/core/internals/construction.py\u001b[0m in \u001b[0;36mdict_to_mgr\u001b[0;34m(data, index, columns, dtype, typ, copy)\u001b[0m\n\u001b[1;32m    462\u001b[0m         \u001b[0;31m# TODO: can we get rid of the dt64tz special case above?\u001b[0m\u001b[0;34m\u001b[0m\u001b[0;34m\u001b[0m\u001b[0;34m\u001b[0m\u001b[0m\n\u001b[1;32m    463\u001b[0m \u001b[0;34m\u001b[0m\u001b[0m\n\u001b[0;32m--> 464\u001b[0;31m     return arrays_to_mgr(\n\u001b[0m\u001b[1;32m    465\u001b[0m         \u001b[0marrays\u001b[0m\u001b[0;34m,\u001b[0m \u001b[0mdata_names\u001b[0m\u001b[0;34m,\u001b[0m \u001b[0mindex\u001b[0m\u001b[0;34m,\u001b[0m \u001b[0mcolumns\u001b[0m\u001b[0;34m,\u001b[0m \u001b[0mdtype\u001b[0m\u001b[0;34m=\u001b[0m\u001b[0mdtype\u001b[0m\u001b[0;34m,\u001b[0m \u001b[0mtyp\u001b[0m\u001b[0;34m=\u001b[0m\u001b[0mtyp\u001b[0m\u001b[0;34m,\u001b[0m \u001b[0mconsolidate\u001b[0m\u001b[0;34m=\u001b[0m\u001b[0mcopy\u001b[0m\u001b[0;34m\u001b[0m\u001b[0;34m\u001b[0m\u001b[0m\n\u001b[1;32m    466\u001b[0m     )\n",
      "\u001b[0;32m/usr/local/Caskroom/miniconda/base/envs/nf_base/lib/python3.8/site-packages/pandas/core/internals/construction.py\u001b[0m in \u001b[0;36marrays_to_mgr\u001b[0;34m(arrays, arr_names, index, columns, dtype, verify_integrity, typ, consolidate)\u001b[0m\n\u001b[1;32m    117\u001b[0m         \u001b[0;31m# figure out the index, if necessary\u001b[0m\u001b[0;34m\u001b[0m\u001b[0;34m\u001b[0m\u001b[0;34m\u001b[0m\u001b[0m\n\u001b[1;32m    118\u001b[0m         \u001b[0;32mif\u001b[0m \u001b[0mindex\u001b[0m \u001b[0;32mis\u001b[0m \u001b[0;32mNone\u001b[0m\u001b[0;34m:\u001b[0m\u001b[0;34m\u001b[0m\u001b[0;34m\u001b[0m\u001b[0m\n\u001b[0;32m--> 119\u001b[0;31m             \u001b[0mindex\u001b[0m \u001b[0;34m=\u001b[0m \u001b[0m_extract_index\u001b[0m\u001b[0;34m(\u001b[0m\u001b[0marrays\u001b[0m\u001b[0;34m)\u001b[0m\u001b[0;34m\u001b[0m\u001b[0;34m\u001b[0m\u001b[0m\n\u001b[0m\u001b[1;32m    120\u001b[0m         \u001b[0;32melse\u001b[0m\u001b[0;34m:\u001b[0m\u001b[0;34m\u001b[0m\u001b[0;34m\u001b[0m\u001b[0m\n\u001b[1;32m    121\u001b[0m             \u001b[0mindex\u001b[0m \u001b[0;34m=\u001b[0m \u001b[0mensure_index\u001b[0m\u001b[0;34m(\u001b[0m\u001b[0mindex\u001b[0m\u001b[0;34m)\u001b[0m\u001b[0;34m\u001b[0m\u001b[0;34m\u001b[0m\u001b[0m\n",
      "\u001b[0;32m/usr/local/Caskroom/miniconda/base/envs/nf_base/lib/python3.8/site-packages/pandas/core/internals/construction.py\u001b[0m in \u001b[0;36m_extract_index\u001b[0;34m(data)\u001b[0m\n\u001b[1;32m    636\u001b[0m \u001b[0;34m\u001b[0m\u001b[0m\n\u001b[1;32m    637\u001b[0m             \u001b[0;32mif\u001b[0m \u001b[0mhave_dicts\u001b[0m\u001b[0;34m:\u001b[0m\u001b[0;34m\u001b[0m\u001b[0;34m\u001b[0m\u001b[0m\n\u001b[0;32m--> 638\u001b[0;31m                 raise ValueError(\n\u001b[0m\u001b[1;32m    639\u001b[0m                     \u001b[0;34m\"Mixing dicts with non-Series may lead to ambiguous ordering.\"\u001b[0m\u001b[0;34m\u001b[0m\u001b[0;34m\u001b[0m\u001b[0m\n\u001b[1;32m    640\u001b[0m                 )\n",
      "\u001b[0;31mValueError\u001b[0m: Mixing dicts with non-Series may lead to ambiguous ordering."
     ]
    }
   ],
   "source": [
    "# Import pandas package\n",
    "import pandas as pd\n",
    "\n",
    "# Transform dictionary to dataframe (will throw an error)\n",
    "pd.DataFrame(weather_hb)"
   ]
  },
  {
   "cell_type": "markdown",
   "metadata": {},
   "source": [
    "Weird, we're getting an error message. Do you have an idea what could be the issue?\n",
    "\n",
    "Don't worry if you have no clue what the problem is. Let's look at our JSON output again. Execute the code below."
   ]
  },
  {
   "cell_type": "code",
   "execution_count": 41,
   "metadata": {},
   "outputs": [
    {
     "data": {
      "text/plain": [
       "'{\\n   \"coord\": {\\n      \"lon\": 8.8078,\\n      \"lat\": 53.0752\\n   },\\n   \"weather\": [\\n      {\\n         \"id\": 802,\\n         \"main\": \"Clouds\",\\n         \"description\": \"scattered clouds\",\\n         \"icon\": \"03d\"\\n      }\\n   ],\\n   \"base\": \"stations\",\\n   \"main\": {\\n      \"temp\": 6.24,\\n      \"feels_like\": 4.2,\\n      \"temp_min\": 5.74,\\n      \"temp_max\": 6.71,\\n      \"pressure\": 1036,\\n      \"humidity\": 95,\\n      \"sea_level\": 1036,\\n      \"grnd_level\": 1034\\n   },\\n   \"visibility\": 10000,\\n   \"wind\": {\\n      \"speed\": 2.72,\\n      \"deg\": 264,\\n      \"gust\": 5.53\\n   },\\n   \"clouds\": {\\n      \"all\": 25\\n   },\\n   \"dt\": 1642497407,\\n   \"sys\": {\\n      \"type\": 2,\\n      \"id\": 2016392,\\n      \"country\": \"DE\",\\n      \"sunrise\": 1642490874,\\n      \"sunset\": 1642520517\\n   },\\n   \"timezone\": 3600,\\n   \"id\": 2944388,\\n   \"name\": \"Bremen\",\\n   \"cod\": 200\\n}'"
      ]
     },
     "execution_count": 41,
     "metadata": {},
     "output_type": "execute_result"
    }
   ],
   "source": [
    "# Print content of json_object\n",
    "json.dumps(json_object, indent = 3)"
   ]
  },
  {
   "cell_type": "markdown",
   "metadata": {},
   "source": [
    "We can see that some key-value pairs have further key-value pairs as values. The key \"weather\" for example has four key value pairs nested within: \"id\", \"main\", \"description\", \"icon\". The DataFrame() function expects dictionaries with only one level of key-value pairs, but since we have nested pairs, it throws an error.\n",
    "\n",
    "There are multiple solutions to this problem and the one that will be the most useful to you depends on what parts of the data you ultimately need for your analysis. We need all data in our output and therefore the method we are going to use is to flatten the JSON data using the json_normalize() function from the pandas package. It flattens our JSON data and transforms it into a DataFrame. Execute the code below and check the output."
   ]
  },
  {
   "cell_type": "code",
   "execution_count": 43,
   "metadata": {},
   "outputs": [
    {
     "name": "stdout",
     "output_type": "stream",
     "text": [
      "                                             weather      base  visibility  \\\n",
      "0  [{'id': 802, 'main': 'Clouds', 'description': ...  stations       10000   \n",
      "\n",
      "           dt  timezone       id    name  cod  coord_lon  coord_lat  ...  \\\n",
      "0  1642497407      3600  2944388  Bremen  200     8.8078    53.0752  ...   \n",
      "\n",
      "   main_grnd_level  wind_speed  wind_deg  wind_gust  clouds_all  sys_type  \\\n",
      "0             1034        2.72       264       5.53          25         2   \n",
      "\n",
      "    sys_id  sys_country  sys_sunrise  sys_sunset  \n",
      "0  2016392           DE   1642490874  1642520517  \n",
      "\n",
      "[1 rows x 27 columns]\n"
     ]
    }
   ],
   "source": [
    "# Flatten json and save in weather_hh_norm\n",
    "weather_hb_norm = pd.json_normalize(weather_hb, sep=\"_\")\n",
    "\n",
    "# Print weather_hh_norm\n",
    "print(weather_hb_norm)"
   ]
  },
  {
   "cell_type": "markdown",
   "metadata": {},
   "source": [
    "Awesome! Now we have a DaraFrame with 1 row and 24 columns. But wait, for some reason the \"weather\" column still contains data in JSON format. This is because the nested key-value pairs are in a list. Probably because sometimes the weather column can be nested further. In order to resolve this we need to use the advanced parameters of the json_normalize() function.\n",
    "\n",
    "* record_path = specify the key that is nested deeper\n",
    "* meta = specify the structure of the remaining JSON\n",
    "* record_prefix = adds a prefix to the column names in the record_path to avoid duplicate column names\n",
    "\n",
    "Execute the code below and compare the output to the output above."
   ]
  },
  {
   "cell_type": "code",
   "execution_count": 44,
   "metadata": {},
   "outputs": [
    {
     "name": "stdout",
     "output_type": "stream",
     "text": [
      "   weather_id weather_main weather_description weather_icon coord_lon  \\\n",
      "0         802       Clouds    scattered clouds          03d    8.8078   \n",
      "\n",
      "  coord_lat      base main_temp main_feels_like main_temp_min  ...  \\\n",
      "0   53.0752  stations      6.24             4.2          5.74  ...   \n",
      "\n",
      "           dt sys_type   sys_id sys_country sys_sunrise  sys_sunset timezone  \\\n",
      "0  1642497407        2  2016392          DE  1642490874  1642520517     3600   \n",
      "\n",
      "        id    name  cod  \n",
      "0  2944388  Bremen  200  \n",
      "\n",
      "[1 rows x 27 columns]\n"
     ]
    }
   ],
   "source": [
    "# Advanced flattening with json_normalize()\n",
    "weather_hb_df = pd.json_normalize(weather_hb, \n",
    "                                  sep=\"_\", \n",
    "                                  record_path=\"weather\", \n",
    "                                  meta=[[\"coord\", \"lon\"], \n",
    "                                        [\"coord\", \"lat\"], \n",
    "                                        \"base\",\n",
    "                                        [\"main\", \"temp\"],\n",
    "                                        [\"main\", \"feels_like\"],\n",
    "                                        [\"main\", \"temp_min\"],\n",
    "                                        [\"main\", \"temp_max\"], \n",
    "                                        [\"main\", \"pressure\"], \n",
    "                                        [\"main\", \"humidity\"], \n",
    "                                        \"visibility\", \n",
    "                                        [\"wind\", \"speed\"], \n",
    "                                        [\"wind\", \"deg\"], \n",
    "                                        [\"clouds\", \"all\"], \n",
    "                                        \"dt\", \n",
    "                                        [\"sys\", \"type\"], \n",
    "                                        [\"sys\", \"id\"],\n",
    "                                        [\"sys\", \"country\"],\n",
    "                                        [\"sys\", \"sunrise\"],\n",
    "                                        [\"sys\", \"sunset\"],\n",
    "                                        \"timezone\",\n",
    "                                        \"id\",\n",
    "                                        \"name\",\n",
    "                                        \"cod\"], \n",
    "                                  record_prefix=\"weather_\")\n",
    "# Print weather_hh_df\n",
    "print(weather_hb_df)"
   ]
  },
  {
   "cell_type": "markdown",
   "metadata": {},
   "source": [
    "You're probably thinking: \"Wow, this requires a lot of manual work typing all those keys in the paramaters\". And yes, you're right. Unfortunately this is one of the easier methods to solve the issue. Also, it's not perfect and comes with its own limitations. If you have data that is nested even deeper you often have no other choice but to write your own flattening function. Fortunately there are other Python specialists out there who have done so and shared their work here: \n",
    "\n",
    "* https://towardsdatascience.com/flattening-json-objects-in-python-f5343c794b10\n",
    "* https://stackoverflow.com/questions/52795561/flattening-nested-json-in-pandas-data-frame\n",
    "* https://medium.com/swlh/converting-nested-json-structures-to-pandas-dataframes-e8106c59976e\n",
    "\n",
    "\n",
    "Alright, now that the data is in the right format, we don't have to worry about nested JSONs anymore. To make our data more interesting, since right now we only have one row, let's pull current weather data from more cities and create a proper table with multiple rows. In order to do that, we're going to combine, extend and apply everything we've learnt so far:\n",
    "\n",
    "* Define the parameters in the request URL\n",
    "* Send a request and retrieve the response using the get() function\n",
    "* Decode the response using the JSON decoder .json()\n",
    "* Flatten the JSON file and transform it into a DataFrame\n",
    "\n",
    "The last step will be to combine all dataframes into one final table.\n",
    "\n",
    "This time we want to get the current weather data of multiple locations. Unfortunately the location parameter \"q\" only takes one location at a time. Using a for-loop we should be able to make multiple API calls while iterating through several locations.\n",
    "\n",
    "First, let's collect all the pieces we need below and\n",
    "\n",
    "1. Change the location variable to locations and have to include a list with multiple locations\n",
    "2. Define an empty DataFrame variable\n",
    "3. Add a for-loop that iterates through all locations, flattens the JSON output and appends it to the DataFrame\n",
    "\n",
    "**IMPORTANT: Don't run the code below too often per minute, since you only have 60 API calls per minute you can quickly run into a temporary query limit!**"
   ]
  },
  {
   "cell_type": "code",
   "execution_count": 48,
   "metadata": {},
   "outputs": [
    {
     "data": {
      "text/html": [
       "<div>\n",
       "<style scoped>\n",
       "    .dataframe tbody tr th:only-of-type {\n",
       "        vertical-align: middle;\n",
       "    }\n",
       "\n",
       "    .dataframe tbody tr th {\n",
       "        vertical-align: top;\n",
       "    }\n",
       "\n",
       "    .dataframe thead th {\n",
       "        text-align: right;\n",
       "    }\n",
       "</style>\n",
       "<table border=\"1\" class=\"dataframe\">\n",
       "  <thead>\n",
       "    <tr style=\"text-align: right;\">\n",
       "      <th></th>\n",
       "      <th>weather_id</th>\n",
       "      <th>weather_main</th>\n",
       "      <th>weather_description</th>\n",
       "      <th>weather_icon</th>\n",
       "      <th>coord_lon</th>\n",
       "      <th>coord_lat</th>\n",
       "      <th>base</th>\n",
       "      <th>main_temp</th>\n",
       "      <th>main_feels_like</th>\n",
       "      <th>main_temp_min</th>\n",
       "      <th>...</th>\n",
       "      <th>dt</th>\n",
       "      <th>sys_type</th>\n",
       "      <th>sys_id</th>\n",
       "      <th>sys_country</th>\n",
       "      <th>sys_sunrise</th>\n",
       "      <th>sys_sunset</th>\n",
       "      <th>timezone</th>\n",
       "      <th>id</th>\n",
       "      <th>name</th>\n",
       "      <th>cod</th>\n",
       "    </tr>\n",
       "  </thead>\n",
       "  <tbody>\n",
       "    <tr>\n",
       "      <th>0</th>\n",
       "      <td>803</td>\n",
       "      <td>Clouds</td>\n",
       "      <td>broken clouds</td>\n",
       "      <td>04d</td>\n",
       "      <td>10</td>\n",
       "      <td>53.55</td>\n",
       "      <td>stations</td>\n",
       "      <td>6.25</td>\n",
       "      <td>4.33</td>\n",
       "      <td>5.53</td>\n",
       "      <td>...</td>\n",
       "      <td>1642499738</td>\n",
       "      <td>1</td>\n",
       "      <td>1263</td>\n",
       "      <td>DE</td>\n",
       "      <td>1642490720</td>\n",
       "      <td>1642520098</td>\n",
       "      <td>3600</td>\n",
       "      <td>2911298</td>\n",
       "      <td>Hamburg</td>\n",
       "      <td>200</td>\n",
       "    </tr>\n",
       "    <tr>\n",
       "      <th>1</th>\n",
       "      <td>803</td>\n",
       "      <td>Clouds</td>\n",
       "      <td>broken clouds</td>\n",
       "      <td>04d</td>\n",
       "      <td>13.4105</td>\n",
       "      <td>52.5244</td>\n",
       "      <td>stations</td>\n",
       "      <td>3.28</td>\n",
       "      <td>0.02</td>\n",
       "      <td>1.72</td>\n",
       "      <td>...</td>\n",
       "      <td>1642499454</td>\n",
       "      <td>2</td>\n",
       "      <td>2011538</td>\n",
       "      <td>DE</td>\n",
       "      <td>1642489622</td>\n",
       "      <td>1642519559</td>\n",
       "      <td>3600</td>\n",
       "      <td>2950159</td>\n",
       "      <td>Berlin</td>\n",
       "      <td>200</td>\n",
       "    </tr>\n",
       "    <tr>\n",
       "      <th>2</th>\n",
       "      <td>800</td>\n",
       "      <td>Clear</td>\n",
       "      <td>clear sky</td>\n",
       "      <td>01d</td>\n",
       "      <td>-0.1257</td>\n",
       "      <td>51.5085</td>\n",
       "      <td>stations</td>\n",
       "      <td>2.64</td>\n",
       "      <td>2.64</td>\n",
       "      <td>-1.94</td>\n",
       "      <td>...</td>\n",
       "      <td>1642499726</td>\n",
       "      <td>2</td>\n",
       "      <td>2019646</td>\n",
       "      <td>GB</td>\n",
       "      <td>1642492606</td>\n",
       "      <td>1642523074</td>\n",
       "      <td>0</td>\n",
       "      <td>2643743</td>\n",
       "      <td>London</td>\n",
       "      <td>200</td>\n",
       "    </tr>\n",
       "    <tr>\n",
       "      <th>3</th>\n",
       "      <td>800</td>\n",
       "      <td>Clear</td>\n",
       "      <td>clear sky</td>\n",
       "      <td>01d</td>\n",
       "      <td>-3.7026</td>\n",
       "      <td>40.4165</td>\n",
       "      <td>stations</td>\n",
       "      <td>4.53</td>\n",
       "      <td>3.64</td>\n",
       "      <td>-0.47</td>\n",
       "      <td>...</td>\n",
       "      <td>1642499953</td>\n",
       "      <td>2</td>\n",
       "      <td>2007545</td>\n",
       "      <td>ES</td>\n",
       "      <td>1642491272</td>\n",
       "      <td>1642526125</td>\n",
       "      <td>3600</td>\n",
       "      <td>3117735</td>\n",
       "      <td>Madrid</td>\n",
       "      <td>200</td>\n",
       "    </tr>\n",
       "    <tr>\n",
       "      <th>4</th>\n",
       "      <td>804</td>\n",
       "      <td>Clouds</td>\n",
       "      <td>overcast clouds</td>\n",
       "      <td>04n</td>\n",
       "      <td>-74.006</td>\n",
       "      <td>40.7143</td>\n",
       "      <td>stations</td>\n",
       "      <td>-0.72</td>\n",
       "      <td>-0.72</td>\n",
       "      <td>-1.98</td>\n",
       "      <td>...</td>\n",
       "      <td>1642500112</td>\n",
       "      <td>2</td>\n",
       "      <td>2039034</td>\n",
       "      <td>US</td>\n",
       "      <td>1642508186</td>\n",
       "      <td>1642542964</td>\n",
       "      <td>-18000</td>\n",
       "      <td>5128581</td>\n",
       "      <td>New York</td>\n",
       "      <td>200</td>\n",
       "    </tr>\n",
       "    <tr>\n",
       "      <th>5</th>\n",
       "      <td>601</td>\n",
       "      <td>Snow</td>\n",
       "      <td>snow</td>\n",
       "      <td>13d</td>\n",
       "      <td>37.6156</td>\n",
       "      <td>55.7522</td>\n",
       "      <td>stations</td>\n",
       "      <td>-4.96</td>\n",
       "      <td>-11.96</td>\n",
       "      <td>-5.86</td>\n",
       "      <td>...</td>\n",
       "      <td>1642499864</td>\n",
       "      <td>2</td>\n",
       "      <td>47754</td>\n",
       "      <td>RU</td>\n",
       "      <td>1642484760</td>\n",
       "      <td>1642512799</td>\n",
       "      <td>10800</td>\n",
       "      <td>524901</td>\n",
       "      <td>Moscow</td>\n",
       "      <td>200</td>\n",
       "    </tr>\n",
       "    <tr>\n",
       "      <th>6</th>\n",
       "      <td>804</td>\n",
       "      <td>Clouds</td>\n",
       "      <td>overcast clouds</td>\n",
       "      <td>04n</td>\n",
       "      <td>-74.006</td>\n",
       "      <td>40.7143</td>\n",
       "      <td>stations</td>\n",
       "      <td>-0.72</td>\n",
       "      <td>-0.72</td>\n",
       "      <td>-1.98</td>\n",
       "      <td>...</td>\n",
       "      <td>1642500112</td>\n",
       "      <td>2</td>\n",
       "      <td>2039034</td>\n",
       "      <td>US</td>\n",
       "      <td>1642508186</td>\n",
       "      <td>1642542964</td>\n",
       "      <td>-18000</td>\n",
       "      <td>5128581</td>\n",
       "      <td>New York</td>\n",
       "      <td>200</td>\n",
       "    </tr>\n",
       "    <tr>\n",
       "      <th>7</th>\n",
       "      <td>600</td>\n",
       "      <td>Snow</td>\n",
       "      <td>light snow</td>\n",
       "      <td>13d</td>\n",
       "      <td>32.8543</td>\n",
       "      <td>39.9199</td>\n",
       "      <td>stations</td>\n",
       "      <td>0.51</td>\n",
       "      <td>-4.73</td>\n",
       "      <td>0.51</td>\n",
       "      <td>...</td>\n",
       "      <td>1642499939</td>\n",
       "      <td>1</td>\n",
       "      <td>6947</td>\n",
       "      <td>TR</td>\n",
       "      <td>1642482423</td>\n",
       "      <td>1642517422</td>\n",
       "      <td>10800</td>\n",
       "      <td>323786</td>\n",
       "      <td>Ankara</td>\n",
       "      <td>200</td>\n",
       "    </tr>\n",
       "    <tr>\n",
       "      <th>8</th>\n",
       "      <td>800</td>\n",
       "      <td>Clear</td>\n",
       "      <td>clear sky</td>\n",
       "      <td>01d</td>\n",
       "      <td>44.4009</td>\n",
       "      <td>33.3406</td>\n",
       "      <td>stations</td>\n",
       "      <td>10.59</td>\n",
       "      <td>8.15</td>\n",
       "      <td>10.59</td>\n",
       "      <td>...</td>\n",
       "      <td>1642500003</td>\n",
       "      <td>NaN</td>\n",
       "      <td>NaN</td>\n",
       "      <td>IQ</td>\n",
       "      <td>1642478720</td>\n",
       "      <td>1642515582</td>\n",
       "      <td>10800</td>\n",
       "      <td>98182</td>\n",
       "      <td>Baghdad</td>\n",
       "      <td>200</td>\n",
       "    </tr>\n",
       "    <tr>\n",
       "      <th>9</th>\n",
       "      <td>803</td>\n",
       "      <td>Clouds</td>\n",
       "      <td>broken clouds</td>\n",
       "      <td>04d</td>\n",
       "      <td>69.4167</td>\n",
       "      <td>34.5</td>\n",
       "      <td>stations</td>\n",
       "      <td>2.16</td>\n",
       "      <td>0.11</td>\n",
       "      <td>2.16</td>\n",
       "      <td>...</td>\n",
       "      <td>1642500095</td>\n",
       "      <td>NaN</td>\n",
       "      <td>NaN</td>\n",
       "      <td>AF</td>\n",
       "      <td>1642472870</td>\n",
       "      <td>1642509421</td>\n",
       "      <td>16200</td>\n",
       "      <td>1138957</td>\n",
       "      <td>Kabul</td>\n",
       "      <td>200</td>\n",
       "    </tr>\n",
       "    <tr>\n",
       "      <th>10</th>\n",
       "      <td>801</td>\n",
       "      <td>Clouds</td>\n",
       "      <td>few clouds</td>\n",
       "      <td>02n</td>\n",
       "      <td>139.6917</td>\n",
       "      <td>35.6895</td>\n",
       "      <td>stations</td>\n",
       "      <td>4.25</td>\n",
       "      <td>1.51</td>\n",
       "      <td>2.55</td>\n",
       "      <td>...</td>\n",
       "      <td>1642500128</td>\n",
       "      <td>2</td>\n",
       "      <td>2001249</td>\n",
       "      <td>JP</td>\n",
       "      <td>1642456170</td>\n",
       "      <td>1642492382</td>\n",
       "      <td>32400</td>\n",
       "      <td>1850147</td>\n",
       "      <td>Tokyo</td>\n",
       "      <td>200</td>\n",
       "    </tr>\n",
       "    <tr>\n",
       "      <th>11</th>\n",
       "      <td>803</td>\n",
       "      <td>Clouds</td>\n",
       "      <td>broken clouds</td>\n",
       "      <td>04n</td>\n",
       "      <td>121.5319</td>\n",
       "      <td>25.0478</td>\n",
       "      <td>stations</td>\n",
       "      <td>16.62</td>\n",
       "      <td>16.22</td>\n",
       "      <td>15.46</td>\n",
       "      <td>...</td>\n",
       "      <td>1642500203</td>\n",
       "      <td>2</td>\n",
       "      <td>266033</td>\n",
       "      <td>TW</td>\n",
       "      <td>1642459227</td>\n",
       "      <td>1642498043</td>\n",
       "      <td>28800</td>\n",
       "      <td>1668341</td>\n",
       "      <td>Taipei</td>\n",
       "      <td>200</td>\n",
       "    </tr>\n",
       "    <tr>\n",
       "      <th>12</th>\n",
       "      <td>803</td>\n",
       "      <td>Clouds</td>\n",
       "      <td>broken clouds</td>\n",
       "      <td>04n</td>\n",
       "      <td>120.9822</td>\n",
       "      <td>14.6042</td>\n",
       "      <td>stations</td>\n",
       "      <td>27.21</td>\n",
       "      <td>27.97</td>\n",
       "      <td>26.05</td>\n",
       "      <td>...</td>\n",
       "      <td>1642500011</td>\n",
       "      <td>2</td>\n",
       "      <td>2008256</td>\n",
       "      <td>PH</td>\n",
       "      <td>1642458297</td>\n",
       "      <td>1642499238</td>\n",
       "      <td>28800</td>\n",
       "      <td>1701668</td>\n",
       "      <td>Manila</td>\n",
       "      <td>200</td>\n",
       "    </tr>\n",
       "    <tr>\n",
       "      <th>13</th>\n",
       "      <td>802</td>\n",
       "      <td>Clouds</td>\n",
       "      <td>scattered clouds</td>\n",
       "      <td>03n</td>\n",
       "      <td>174.7667</td>\n",
       "      <td>-36.8667</td>\n",
       "      <td>stations</td>\n",
       "      <td>19.1</td>\n",
       "      <td>19.23</td>\n",
       "      <td>16.58</td>\n",
       "      <td>...</td>\n",
       "      <td>1642500059</td>\n",
       "      <td>2</td>\n",
       "      <td>2012285</td>\n",
       "      <td>NZ</td>\n",
       "      <td>1642440038</td>\n",
       "      <td>1642491674</td>\n",
       "      <td>46800</td>\n",
       "      <td>2193733</td>\n",
       "      <td>Auckland</td>\n",
       "      <td>200</td>\n",
       "    </tr>\n",
       "    <tr>\n",
       "      <th>14</th>\n",
       "      <td>800</td>\n",
       "      <td>Clear</td>\n",
       "      <td>clear sky</td>\n",
       "      <td>01n</td>\n",
       "      <td>126.9778</td>\n",
       "      <td>37.5683</td>\n",
       "      <td>stations</td>\n",
       "      <td>-4.29</td>\n",
       "      <td>-8.19</td>\n",
       "      <td>-5.58</td>\n",
       "      <td>...</td>\n",
       "      <td>1642499972</td>\n",
       "      <td>1</td>\n",
       "      <td>8105</td>\n",
       "      <td>KR</td>\n",
       "      <td>1642459487</td>\n",
       "      <td>1642495170</td>\n",
       "      <td>32400</td>\n",
       "      <td>1835848</td>\n",
       "      <td>Seoul</td>\n",
       "      <td>200</td>\n",
       "    </tr>\n",
       "  </tbody>\n",
       "</table>\n",
       "<p>15 rows × 27 columns</p>\n",
       "</div>"
      ],
      "text/plain": [
       "    weather_id weather_main weather_description weather_icon coord_lon  \\\n",
       "0          803       Clouds       broken clouds          04d        10   \n",
       "1          803       Clouds       broken clouds          04d   13.4105   \n",
       "2          800        Clear           clear sky          01d   -0.1257   \n",
       "3          800        Clear           clear sky          01d   -3.7026   \n",
       "4          804       Clouds     overcast clouds          04n   -74.006   \n",
       "5          601         Snow                snow          13d   37.6156   \n",
       "6          804       Clouds     overcast clouds          04n   -74.006   \n",
       "7          600         Snow          light snow          13d   32.8543   \n",
       "8          800        Clear           clear sky          01d   44.4009   \n",
       "9          803       Clouds       broken clouds          04d   69.4167   \n",
       "10         801       Clouds          few clouds          02n  139.6917   \n",
       "11         803       Clouds       broken clouds          04n  121.5319   \n",
       "12         803       Clouds       broken clouds          04n  120.9822   \n",
       "13         802       Clouds    scattered clouds          03n  174.7667   \n",
       "14         800        Clear           clear sky          01n  126.9778   \n",
       "\n",
       "   coord_lat      base main_temp main_feels_like main_temp_min  ...  \\\n",
       "0      53.55  stations      6.25            4.33          5.53  ...   \n",
       "1    52.5244  stations      3.28            0.02          1.72  ...   \n",
       "2    51.5085  stations      2.64            2.64         -1.94  ...   \n",
       "3    40.4165  stations      4.53            3.64         -0.47  ...   \n",
       "4    40.7143  stations     -0.72           -0.72         -1.98  ...   \n",
       "5    55.7522  stations     -4.96          -11.96         -5.86  ...   \n",
       "6    40.7143  stations     -0.72           -0.72         -1.98  ...   \n",
       "7    39.9199  stations      0.51           -4.73          0.51  ...   \n",
       "8    33.3406  stations     10.59            8.15         10.59  ...   \n",
       "9       34.5  stations      2.16            0.11          2.16  ...   \n",
       "10   35.6895  stations      4.25            1.51          2.55  ...   \n",
       "11   25.0478  stations     16.62           16.22         15.46  ...   \n",
       "12   14.6042  stations     27.21           27.97         26.05  ...   \n",
       "13  -36.8667  stations      19.1           19.23         16.58  ...   \n",
       "14   37.5683  stations     -4.29           -8.19         -5.58  ...   \n",
       "\n",
       "            dt sys_type   sys_id sys_country sys_sunrise  sys_sunset timezone  \\\n",
       "0   1642499738        1     1263          DE  1642490720  1642520098     3600   \n",
       "1   1642499454        2  2011538          DE  1642489622  1642519559     3600   \n",
       "2   1642499726        2  2019646          GB  1642492606  1642523074        0   \n",
       "3   1642499953        2  2007545          ES  1642491272  1642526125     3600   \n",
       "4   1642500112        2  2039034          US  1642508186  1642542964   -18000   \n",
       "5   1642499864        2    47754          RU  1642484760  1642512799    10800   \n",
       "6   1642500112        2  2039034          US  1642508186  1642542964   -18000   \n",
       "7   1642499939        1     6947          TR  1642482423  1642517422    10800   \n",
       "8   1642500003      NaN      NaN          IQ  1642478720  1642515582    10800   \n",
       "9   1642500095      NaN      NaN          AF  1642472870  1642509421    16200   \n",
       "10  1642500128        2  2001249          JP  1642456170  1642492382    32400   \n",
       "11  1642500203        2   266033          TW  1642459227  1642498043    28800   \n",
       "12  1642500011        2  2008256          PH  1642458297  1642499238    28800   \n",
       "13  1642500059        2  2012285          NZ  1642440038  1642491674    46800   \n",
       "14  1642499972        1     8105          KR  1642459487  1642495170    32400   \n",
       "\n",
       "         id      name  cod  \n",
       "0   2911298   Hamburg  200  \n",
       "1   2950159    Berlin  200  \n",
       "2   2643743    London  200  \n",
       "3   3117735    Madrid  200  \n",
       "4   5128581  New York  200  \n",
       "5    524901    Moscow  200  \n",
       "6   5128581  New York  200  \n",
       "7    323786    Ankara  200  \n",
       "8     98182   Baghdad  200  \n",
       "9   1138957     Kabul  200  \n",
       "10  1850147     Tokyo  200  \n",
       "11  1668341    Taipei  200  \n",
       "12  1701668    Manila  200  \n",
       "13  2193733  Auckland  200  \n",
       "14  1835848     Seoul  200  \n",
       "\n",
       "[15 rows x 27 columns]"
      ]
     },
     "execution_count": 48,
     "metadata": {},
     "output_type": "execute_result"
    }
   ],
   "source": [
    "# Set the url\n",
    "url = 'http://api.openweathermap.org/data/2.5/weather?'\n",
    "\n",
    "# Set locations\n",
    "locations = [\"q=Hamburg\", \n",
    "             \"q=Berlin\", \n",
    "             \"q=London\", \n",
    "             \"q=Madrid\",\n",
    "             \"q=New York\",\n",
    "             \"q=Moscow\",\n",
    "             \"q=New York\",\n",
    "             \"q=Ankara\",\n",
    "             \"q=Baghdad\",\n",
    "             \"q=Kabul\",\n",
    "             \"q=Tokio\",\n",
    "             \"q=Taipei\",\n",
    "             \"q=Manila\",\n",
    "             \"q=Auckland\",\n",
    "             \"q=Seoul\"]\n",
    "\n",
    "# Set unit of measurement\n",
    "unit = \"&units=metric\"\n",
    "\n",
    "# Set API key (defined already)\n",
    "api_key\n",
    "\n",
    "# Create empty dataframe, will be used to append each location's weather data\n",
    "weather_df = pd.DataFrame([])\n",
    "\n",
    "# Loop through all locations\n",
    "for location in locations:\n",
    "    # Create final url\n",
    "    url_f = url + location + unit + api_key\n",
    "    \n",
    "    # Request data from url\n",
    "    r = requests.get(url_f)\n",
    "    \n",
    "    # time.sleep(1) #uncomment if you run into a query limit\n",
    "    \n",
    "    # Decode repsonse with json decoder\n",
    "    weather_temp = r.json()\n",
    "\n",
    "    # Flatten json response\n",
    "    weather_temp_df = pd.json_normalize(weather_temp, \n",
    "                                        sep=\"_\", \n",
    "                                        record_path=\"weather\", \n",
    "                                        meta=[[\"coord\", \"lon\"], \n",
    "                                              [\"coord\", \"lat\"], \n",
    "                                              \"base\",\n",
    "                                              [\"main\", \"temp\"],\n",
    "                                              [\"main\", \"feels_like\"],\n",
    "                                              [\"main\", \"temp_min\"],\n",
    "                                              [\"main\", \"temp_max\"], \n",
    "                                              [\"main\", \"pressure\"], \n",
    "                                              [\"main\", \"humidity\"], \n",
    "                                              \"visibility\", \n",
    "                                              [\"wind\", \"speed\"], \n",
    "                                              [\"wind\", \"deg\"], \n",
    "                                              [\"clouds\", \"all\"], \n",
    "                                              \"dt\", \n",
    "                                              [\"sys\", \"type\"], \n",
    "                                              [\"sys\", \"id\"],\n",
    "                                              [\"sys\", \"country\"],\n",
    "                                              [\"sys\", \"sunrise\"],\n",
    "                                              [\"sys\", \"sunset\"],\n",
    "                                              \"timezone\",\n",
    "                                              \"id\",\n",
    "                                              \"name\",\n",
    "                                              \"cod\"], \n",
    "                                        record_prefix=\"weather_\",\n",
    "                                        errors='ignore')\n",
    "    \n",
    "    # Append data to dataframe\n",
    "    weather_df = weather_df.append(weather_temp_df, ignore_index=True)\n",
    "\n",
    "# Print final dataset weather_df\n",
    "weather_df"
   ]
  },
  {
   "cell_type": "markdown",
   "metadata": {},
   "source": [
    "Fantastic! Now we have a DataFrame with current weather information for 15 locations. What's even better, we didn't have to write a lot of complicated code. How cool is that!?  \n",
    "\n",
    "If we wanted to, we could now create a new weather table in our database and write the weather data into it. Guess what, this is exactly what you're going to do in the upcoming project. So take a break and then move on to the next challenge, good luck!"
   ]
  }
 ],
 "metadata": {
  "kernelspec": {
   "display_name": "Python 3.9.8 ('.venv': venv)",
   "language": "python",
   "name": "python3"
  },
  "language_info": {
   "codemirror_mode": {
    "name": "ipython",
    "version": 3
   },
   "file_extension": ".py",
   "mimetype": "text/x-python",
   "name": "python",
   "nbconvert_exporter": "python",
   "pygments_lexer": "ipython3",
   "version": "3.9.8"
  },
  "vscode": {
   "interpreter": {
    "hash": "f1abf76b6083f4eb11ada7026e57fce3010dc6b905adaed84ce345c5a9c5e201"
   }
  }
 },
 "nbformat": 4,
 "nbformat_minor": 5
}
