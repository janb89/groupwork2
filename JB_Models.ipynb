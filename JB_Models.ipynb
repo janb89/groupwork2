{
 "cells": [
  {
   "cell_type": "code",
   "execution_count": 4,
   "metadata": {},
   "outputs": [],
   "source": [
    "# Import \n",
    "import pandas as pd\n",
    "import numpy as np\n",
    "import seaborn as sns\n",
    "import matplotlib.pyplot as plt\n",
    "%matplotlib inline\n",
    "\n",
    "from matplotlib import figure\n",
    "\n",
    "import warnings\n",
    "warnings.filterwarnings('ignore')\n",
    "\n",
    "from sklearn.metrics import  mean_squared_error, make_scorer, r2_score\n",
    "from sklearn.pipeline import Pipeline\n",
    "from sklearn.compose import ColumnTransformer\n",
    "from sklearn.preprocessing import OneHotEncoder, StandardScaler\n",
    "from sklearn.model_selection import GridSearchCV\n",
    "from sklearn.svm import SVC\n",
    "\n",
    "# Import models\n",
    "from sklearn.svm import SVR\n",
    "from sklearn.linear_model import LinearRegression, SGDRegressor\n",
    "from sklearn.tree import  DecisionTreeRegressor\n",
    "from sklearn.ensemble import RandomForestRegressor,  AdaBoostRegressor\n",
    "\n",
    "import time \n",
    "\n",
    "# Import scripts\n",
    "from optional.feature_engineering import *\n",
    "from optional.prepare_flight_data import *\n",
    "from optional.dummies import *\n",
    "from optional.predict import *\n",
    "\n",
    "RSEED = 42"
   ]
  },
  {
   "cell_type": "code",
   "execution_count": 17,
   "metadata": {},
   "outputs": [
    {
     "data": {
      "text/html": [
       "<div>\n",
       "<style scoped>\n",
       "    .dataframe tbody tr th:only-of-type {\n",
       "        vertical-align: middle;\n",
       "    }\n",
       "\n",
       "    .dataframe tbody tr th {\n",
       "        vertical-align: top;\n",
       "    }\n",
       "\n",
       "    .dataframe thead th {\n",
       "        text-align: right;\n",
       "    }\n",
       "</style>\n",
       "<table border=\"1\" class=\"dataframe\">\n",
       "  <thead>\n",
       "    <tr style=\"text-align: right;\">\n",
       "      <th></th>\n",
       "      <th>Unnamed: 0</th>\n",
       "      <th>ID</th>\n",
       "      <th>DATOP</th>\n",
       "      <th>FLTID</th>\n",
       "      <th>DEPSTN</th>\n",
       "      <th>ARRSTN</th>\n",
       "      <th>STD</th>\n",
       "      <th>STA</th>\n",
       "      <th>STATUS</th>\n",
       "      <th>AC</th>\n",
       "      <th>...</th>\n",
       "      <th>icao_ARR</th>\n",
       "      <th>iata_ARR</th>\n",
       "      <th>name_ARR</th>\n",
       "      <th>city_ARR</th>\n",
       "      <th>subd_ARR</th>\n",
       "      <th>country_ARR</th>\n",
       "      <th>elevation_ARR</th>\n",
       "      <th>lat_ARR</th>\n",
       "      <th>lon_ARR</th>\n",
       "      <th>tz_ARR</th>\n",
       "    </tr>\n",
       "  </thead>\n",
       "  <tbody>\n",
       "    <tr>\n",
       "      <th>0</th>\n",
       "      <td>0</td>\n",
       "      <td>test_id_86</td>\n",
       "      <td>2016-05-01</td>\n",
       "      <td>TU 0714</td>\n",
       "      <td>JED</td>\n",
       "      <td>TUN</td>\n",
       "      <td>2016-05-01 00:30:00</td>\n",
       "      <td>2016-05-01 05.25.00</td>\n",
       "      <td>ATA</td>\n",
       "      <td>TU 332IFM</td>\n",
       "      <td>...</td>\n",
       "      <td>DTTA</td>\n",
       "      <td>TUN</td>\n",
       "      <td>Tunis Carthage International Airport</td>\n",
       "      <td>Tunis</td>\n",
       "      <td>Tunis</td>\n",
       "      <td>TN</td>\n",
       "      <td>22.0</td>\n",
       "      <td>36.851002</td>\n",
       "      <td>10.227200</td>\n",
       "      <td>Africa/Tunis</td>\n",
       "    </tr>\n",
       "    <tr>\n",
       "      <th>1</th>\n",
       "      <td>1</td>\n",
       "      <td>test_id_85</td>\n",
       "      <td>2016-05-01</td>\n",
       "      <td>TU 6033</td>\n",
       "      <td>TUN</td>\n",
       "      <td>JED</td>\n",
       "      <td>2016-05-01 00:50:00</td>\n",
       "      <td>2016-05-01 05.15.00</td>\n",
       "      <td>ATA</td>\n",
       "      <td>TU 320IMV</td>\n",
       "      <td>...</td>\n",
       "      <td>OEJN</td>\n",
       "      <td>JED</td>\n",
       "      <td>King Abdulaziz International Airport</td>\n",
       "      <td>Jeddah</td>\n",
       "      <td>Makkah</td>\n",
       "      <td>SA</td>\n",
       "      <td>48.0</td>\n",
       "      <td>21.679600</td>\n",
       "      <td>39.156502</td>\n",
       "      <td>Asia/Riyadh</td>\n",
       "    </tr>\n",
       "    <tr>\n",
       "      <th>2</th>\n",
       "      <td>2</td>\n",
       "      <td>test_id_87</td>\n",
       "      <td>2016-05-01</td>\n",
       "      <td>TU 6032</td>\n",
       "      <td>JED</td>\n",
       "      <td>SFA</td>\n",
       "      <td>2016-05-01 00:50:00</td>\n",
       "      <td>2016-05-01 05.35.00</td>\n",
       "      <td>ATA</td>\n",
       "      <td>TU 320IMR</td>\n",
       "      <td>...</td>\n",
       "      <td>DTTX</td>\n",
       "      <td>SFA</td>\n",
       "      <td>Sfax Thyna International Airport</td>\n",
       "      <td>Sfax</td>\n",
       "      <td>Safaqis</td>\n",
       "      <td>TN</td>\n",
       "      <td>85.0</td>\n",
       "      <td>34.717999</td>\n",
       "      <td>10.691000</td>\n",
       "      <td>Africa/Tunis</td>\n",
       "    </tr>\n",
       "    <tr>\n",
       "      <th>3</th>\n",
       "      <td>3</td>\n",
       "      <td>test_id_1799</td>\n",
       "      <td>2016-05-01</td>\n",
       "      <td>TU 0440</td>\n",
       "      <td>MIR</td>\n",
       "      <td>ORY</td>\n",
       "      <td>2016-05-01 05:05:00</td>\n",
       "      <td>2016-05-01 07.30.00</td>\n",
       "      <td>ATA</td>\n",
       "      <td>TU 31AIMJ</td>\n",
       "      <td>...</td>\n",
       "      <td>LFPO</td>\n",
       "      <td>ORY</td>\n",
       "      <td>Paris-Orly Airport</td>\n",
       "      <td>Paris</td>\n",
       "      <td>Ile-de-France</td>\n",
       "      <td>FR</td>\n",
       "      <td>291.0</td>\n",
       "      <td>48.725300</td>\n",
       "      <td>2.359440</td>\n",
       "      <td>Europe/Paris</td>\n",
       "    </tr>\n",
       "    <tr>\n",
       "      <th>4</th>\n",
       "      <td>4</td>\n",
       "      <td>test_id_1800</td>\n",
       "      <td>2016-05-01</td>\n",
       "      <td>TU 0480</td>\n",
       "      <td>DJE</td>\n",
       "      <td>NTE</td>\n",
       "      <td>2016-05-01 05:15:00</td>\n",
       "      <td>2016-05-01 08.05.00</td>\n",
       "      <td>ATA</td>\n",
       "      <td>TU 736IOQ</td>\n",
       "      <td>...</td>\n",
       "      <td>LFRS</td>\n",
       "      <td>NTE</td>\n",
       "      <td>Nantes Atlantique Airport</td>\n",
       "      <td>Nantes</td>\n",
       "      <td>Pays-de-la-Loire</td>\n",
       "      <td>FR</td>\n",
       "      <td>90.0</td>\n",
       "      <td>47.153198</td>\n",
       "      <td>-1.610730</td>\n",
       "      <td>Europe/Paris</td>\n",
       "    </tr>\n",
       "  </tbody>\n",
       "</table>\n",
       "<p>5 rows × 30 columns</p>\n",
       "</div>"
      ],
      "text/plain": [
       "   Unnamed: 0            ID       DATOP     FLTID DEPSTN ARRSTN  \\\n",
       "0           0    test_id_86  2016-05-01  TU 0714     JED    TUN   \n",
       "1           1    test_id_85  2016-05-01  TU 6033     TUN    JED   \n",
       "2           2    test_id_87  2016-05-01  TU 6032     JED    SFA   \n",
       "3           3  test_id_1799  2016-05-01  TU 0440     MIR    ORY   \n",
       "4           4  test_id_1800  2016-05-01  TU 0480     DJE    NTE   \n",
       "\n",
       "                   STD                  STA STATUS         AC  ... icao_ARR  \\\n",
       "0  2016-05-01 00:30:00  2016-05-01 05.25.00    ATA  TU 332IFM  ...     DTTA   \n",
       "1  2016-05-01 00:50:00  2016-05-01 05.15.00    ATA  TU 320IMV  ...     OEJN   \n",
       "2  2016-05-01 00:50:00  2016-05-01 05.35.00    ATA  TU 320IMR  ...     DTTX   \n",
       "3  2016-05-01 05:05:00  2016-05-01 07.30.00    ATA  TU 31AIMJ  ...     LFPO   \n",
       "4  2016-05-01 05:15:00  2016-05-01 08.05.00    ATA  TU 736IOQ  ...     LFRS   \n",
       "\n",
       "  iata_ARR                              name_ARR city_ARR          subd_ARR  \\\n",
       "0      TUN  Tunis Carthage International Airport    Tunis             Tunis   \n",
       "1      JED  King Abdulaziz International Airport   Jeddah            Makkah   \n",
       "2      SFA      Sfax Thyna International Airport     Sfax           Safaqis   \n",
       "3      ORY                    Paris-Orly Airport    Paris     Ile-de-France   \n",
       "4      NTE             Nantes Atlantique Airport   Nantes  Pays-de-la-Loire   \n",
       "\n",
       "  country_ARR  elevation_ARR    lat_ARR    lon_ARR        tz_ARR  \n",
       "0          TN           22.0  36.851002  10.227200  Africa/Tunis  \n",
       "1          SA           48.0  21.679600  39.156502   Asia/Riyadh  \n",
       "2          TN           85.0  34.717999  10.691000  Africa/Tunis  \n",
       "3          FR          291.0  48.725300   2.359440  Europe/Paris  \n",
       "4          FR           90.0  47.153198  -1.610730  Europe/Paris  \n",
       "\n",
       "[5 rows x 30 columns]"
      ]
     },
     "execution_count": 17,
     "metadata": {},
     "output_type": "execute_result"
    }
   ],
   "source": [
    "df = pd.read_csv('data/final_train.csv', index_col=[0])\n",
    "df_test = pd.read_csv('data/final_test.csv')\n",
    "df_test.head()"
   ]
  },
  {
   "cell_type": "code",
   "execution_count": 6,
   "metadata": {},
   "outputs": [
    {
     "data": {
      "text/plain": [
       "Index(['ID', 'DATOP', 'FLTID', 'DEPSTN', 'ARRSTN', 'STD', 'STA', 'STATUS',\n",
       "       'AC', 'target', 'icao_DEP', 'iata_DEP', 'name_DEP', 'city_DEP',\n",
       "       'subd_DEP', 'country_DEP', 'elevation_DEP', 'lat_DEP', 'lon_DEP',\n",
       "       'tz_DEP', 'icao_ARR', 'iata_ARR', 'name_ARR', 'city_ARR', 'subd_ARR',\n",
       "       'country_ARR', 'elevation_ARR', 'lat_ARR', 'lon_ARR', 'tz_ARR',\n",
       "       'delay_or_onTime', 'delayed', 'domestic', 'dep_hour', 'dep_weekday',\n",
       "       'duration_min', 'arr_hour', 'flight_month', 'flight_month_name', 'year',\n",
       "       'distance'],\n",
       "      dtype='object')"
      ]
     },
     "execution_count": 6,
     "metadata": {},
     "output_type": "execute_result"
    }
   ],
   "source": [
    "df.columns"
   ]
  },
  {
   "cell_type": "markdown",
   "metadata": {},
   "source": [
    "# Data Cleaning \n"
   ]
  },
  {
   "cell_type": "code",
   "execution_count": 7,
   "metadata": {},
   "outputs": [],
   "source": [
    "# convert time to unix \n",
    "df['STA'] = df['STA'].str.replace('.', ':', regex=False)\n",
    "df['STA'] = pd.to_datetime(df['STA']).map(pd.Timestamp.timestamp)\n",
    "df['STD'] = pd.to_datetime(df['STD']).map(pd.Timestamp.timestamp)"
   ]
  },
  {
   "cell_type": "code",
   "execution_count": 8,
   "metadata": {},
   "outputs": [],
   "source": [
    "# Drop features by list\n",
    "\n",
    "drop_arr = [\n",
    "    'ID', 'DATOP', 'FLTID', 'AC', 'STATUS', \n",
    "    'DEPSTN', 'ARRSTN', 'flight_month_name', \n",
    "    'delayed', 'year', 'delay_or_onTime', \n",
    "    'city_ARR', 'country_ARR'\n",
    "    ]\n",
    "\n",
    "try: \n",
    "    df = df.drop(labels=drop_arr, axis=1)\n",
    "    df_test = df_test.drop(labels=drop_arr, axis=1)\n",
    "    df.head()\n",
    "except KeyError:\n",
    "    df.head()"
   ]
  },
  {
   "cell_type": "code",
   "execution_count": 9,
   "metadata": {},
   "outputs": [
    {
     "name": "stdout",
     "output_type": "stream",
     "text": [
      "Values in Feature Vector: 102310\n",
      "Values in Target Vector: 102310\n"
     ]
    }
   ],
   "source": [
    "# create Target Vector\n",
    "\n",
    "X = df.drop('target', axis=1)\n",
    "y = df['target']\n",
    "\n",
    "X_test = df.drop('target', axis=1)\n",
    "y_test = df['target']\n",
    "\n",
    "print(f'Values in Feature Vector: {X.shape[0]}\\nValues in Target Vector: {y.shape[0]}')"
   ]
  },
  {
   "cell_type": "code",
   "execution_count": 10,
   "metadata": {},
   "outputs": [
    {
     "data": {
      "text/plain": [
       "Index(['STD', 'STA', 'icao_DEP', 'iata_DEP', 'name_DEP', 'city_DEP',\n",
       "       'subd_DEP', 'country_DEP', 'elevation_DEP', 'lat_DEP', 'lon_DEP',\n",
       "       'tz_DEP', 'icao_ARR', 'iata_ARR', 'name_ARR', 'subd_ARR',\n",
       "       'elevation_ARR', 'lat_ARR', 'lon_ARR', 'tz_ARR', 'domestic', 'dep_hour',\n",
       "       'dep_weekday', 'duration_min', 'arr_hour', 'flight_month', 'distance'],\n",
       "      dtype='object')"
      ]
     },
     "execution_count": 10,
     "metadata": {},
     "output_type": "execute_result"
    }
   ],
   "source": [
    "X.columns"
   ]
  },
  {
   "cell_type": "code",
   "execution_count": 14,
   "metadata": {},
   "outputs": [
    {
     "data": {
      "text/plain": [
       "0            Tunis\n",
       "1            Tunis\n",
       "2            Tunis\n",
       "3          Madanin\n",
       "4    North Holland\n",
       "Name: subd_ARR, dtype: object"
      ]
     },
     "execution_count": 14,
     "metadata": {},
     "output_type": "execute_result"
    }
   ],
   "source": [
    "test = X.subd_ARR\n",
    "test.head()"
   ]
  },
  {
   "cell_type": "markdown",
   "metadata": {},
   "source": [
    "## Feature Engineering"
   ]
  },
  {
   "cell_type": "code",
   "execution_count": null,
   "metadata": {},
   "outputs": [],
   "source": [
    "# Spliting Features types\n",
    "\n",
    "arr = X.columns\n",
    "\n",
    "cat_feats = [x for x in arr if X[x].dtype == 'object']\n",
    "numeric_feats = [x for x in arr if X[x].dtype == 'float64']\n",
    "\n",
    "arr = X_test.columns\n",
    "\n",
    "cat_feats = [x for x in arr if X_test[x].dtype == 'object']\n",
    "numeric_feats = [x for x in arr if X_test[x].dtype == 'float64']"
   ]
  },
  {
   "cell_type": "code",
   "execution_count": null,
   "metadata": {},
   "outputs": [],
   "source": [
    "# Create Pipelines\n",
    "\n",
    "cat_pipe = Pipeline([\n",
    "    ('1hot', OneHotEncoder(handle_unknown='ignore'))\n",
    "])\n",
    "\n",
    "num_pipe = Pipeline([\n",
    "    ('std_scaler', StandardScaler())\n",
    "])"
   ]
  },
  {
   "cell_type": "code",
   "execution_count": null,
   "metadata": {},
   "outputs": [],
   "source": [
    "preprocessor = ColumnTransformer([\n",
    "     ('cat', cat_pipe, cat_feats), \n",
    "    ('num', num_pipe, numeric_feats)\n",
    "])"
   ]
  },
  {
   "cell_type": "markdown",
   "metadata": {},
   "source": [
    "### Regression\n",
    "\n",
    "#### Baseline"
   ]
  },
  {
   "cell_type": "code",
   "execution_count": null,
   "metadata": {},
   "outputs": [],
   "source": [
    "pipe_linreg = Pipeline([\n",
    "    ('preprocessor', preprocessor),\n",
    "    ('linreg', LinearRegression())\n",
    "])\n",
    "\n",
    "pipe_forestreg = Pipeline([\n",
    "    ('preprocessor', preprocessor),\n",
    "    ('forestreg', RandomForestRegressor())\n",
    "])\n",
    "\n",
    "pipe_decreg = Pipeline([\n",
    "    ('preprocessor', preprocessor),\n",
    "    ('decreg', DecisionTreeRegressor())\n",
    "])\n",
    "\n",
    "pipe_svr = Pipeline([\n",
    "    ('preprocessor', preprocessor),\n",
    "    ('svr',SVR())\n",
    "])"
   ]
  },
  {
   "cell_type": "code",
   "execution_count": null,
   "metadata": {},
   "outputs": [],
   "source": [
    "\n",
    "param_decreg = {\n",
    "            \"decreg__max_depth\" : [5,7,9],\n",
    "            \"decreg__min_samples_leaf\":[6,7,8],\n",
    "            \"decreg__min_weight_fraction_leaf\":[0.1,0.2,0.3,0.4,0.5,0.6,0.7,0.8,0.9],\n",
    "            \"decreg__max_features\":[\"log2\",\"sqrt\",None],\n",
    "            \"decreg__max_leaf_nodes\":[10,20,30]\n",
    "            }\n",
    "\n",
    "\n",
    "grid_decreg = GridSearchCV(pipe_decreg, param_grid=param_decreg, cv=5, scoring='neg_mean_squared_error',\n",
    "            verbose=1, n_jobs=-1)\n"
   ]
  },
  {
   "cell_type": "code",
   "execution_count": null,
   "metadata": {},
   "outputs": [],
   "source": [
    "grid_decreg.fit(X, y)"
   ]
  },
  {
   "cell_type": "code",
   "execution_count": null,
   "metadata": {},
   "outputs": [],
   "source": [
    "best_dec_model = grid_decreg.best_estimator_\n",
    "best_dec_model\n"
   ]
  },
  {
   "cell_type": "code",
   "execution_count": null,
   "metadata": {},
   "outputs": [],
   "source": [
    "print('Best score:\\n{:.2f}'.format(grid_decreg.best_score_))\n",
    "print(\"Best parameters:\\n{}\".format(grid_decreg.best_params_))"
   ]
  },
  {
   "cell_type": "code",
   "execution_count": null,
   "metadata": {},
   "outputs": [],
   "source": [
    "best_dec_model.fit(X,y)"
   ]
  },
  {
   "cell_type": "code",
   "execution_count": null,
   "metadata": {},
   "outputs": [],
   "source": [
    "pipe_decreg.fit(X,y)"
   ]
  },
  {
   "cell_type": "code",
   "execution_count": null,
   "metadata": {},
   "outputs": [],
   "source": [
    "param_svr = {\n",
    "            \"svr__kernel\" : ('linear', 'poly', 'rbf', 'sigmoid'),\n",
    "            \"svr__degree\":[2,3,4,5,6]\n",
    "            }\n",
    "\n",
    "\n",
    "grid_svr = GridSearchCV(pipe_svr, param_grid=param_svr, cv=5, scoring='neg_mean_squared_error',\n",
    "            verbose=1, n_jobs=-1)"
   ]
  },
  {
   "cell_type": "code",
   "execution_count": null,
   "metadata": {},
   "outputs": [],
   "source": [
    "grid_svr.fit(X, y)"
   ]
  },
  {
   "cell_type": "code",
   "execution_count": null,
   "metadata": {},
   "outputs": [],
   "source": [
    "best_svr_model = grid_svr.best_estimator_\n",
    "best_svr_model"
   ]
  },
  {
   "cell_type": "code",
   "execution_count": null,
   "metadata": {},
   "outputs": [],
   "source": [
    "\n",
    "pipe_svr.fit(X, y)"
   ]
  },
  {
   "cell_type": "code",
   "execution_count": null,
   "metadata": {},
   "outputs": [],
   "source": [
    "y_hat_dec_untune = pipe_decreg.predict(X_test)\n",
    "y_hat_dec_tune = best_dec_model.predict(X_test)"
   ]
  },
  {
   "cell_type": "code",
   "execution_count": null,
   "metadata": {},
   "outputs": [],
   "source": [
    "y_hat_svr_untune = pipe_svr.predict(X_test)\n",
    "y_hat_svr_tune = best_svr_model.predict(X_test)"
   ]
  },
  {
   "cell_type": "code",
   "execution_count": null,
   "metadata": {},
   "outputs": [],
   "source": [
    "print('\\n')\n",
    "print('_'*20)\n",
    "print('SVR')\n",
    "print(\"Mean Squared Error: {:.2f}\".format(mean_squared_error(y_test, y_hat_svr_untune)))\n",
    "print(\"Tuned Mean Squared Error: {:.2f}\".format(mean_squared_error(y_test, y_hat_svr_tune)))\n",
    "\n",
    "print('\\n')\n",
    "print('_'*20)\n",
    "print('DecisionTree Regression')\n",
    "print(\"Mean Squared Error: {:.2f}\".format(mean_squared_error(y_test, y_hat_dec_untune)))\n",
    "print(\"Tuned Mean Squared Error: {:.2f}\".format(mean_squared_error(y_test, y_hat_dec_tune)))"
   ]
  }
 ],
 "metadata": {
  "kernelspec": {
   "display_name": "Python 3.9.8 ('.venv': venv)",
   "language": "python",
   "name": "python3"
  },
  "language_info": {
   "codemirror_mode": {
    "name": "ipython",
    "version": 3
   },
   "file_extension": ".py",
   "mimetype": "text/x-python",
   "name": "python",
   "nbconvert_exporter": "python",
   "pygments_lexer": "ipython3",
   "version": "3.9.8"
  },
  "orig_nbformat": 4,
  "vscode": {
   "interpreter": {
    "hash": "d68d3417c6c37cd8ebd0d320f737814f278e7fee5045e744da2157e627f0f7b0"
   }
  }
 },
 "nbformat": 4,
 "nbformat_minor": 2
}
