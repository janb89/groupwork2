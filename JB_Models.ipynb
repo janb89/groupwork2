{
 "cells": [
  {
   "cell_type": "code",
   "execution_count": 1,
   "metadata": {},
   "outputs": [],
   "source": [
    "# Import \n",
    "import pandas as pd\n",
    "import numpy as np\n",
    "import seaborn as sns\n",
    "import matplotlib.pyplot as plt\n",
    "%matplotlib inline\n",
    "\n",
    "from matplotlib import figure\n",
    "\n",
    "import warnings\n",
    "warnings.filterwarnings('ignore')\n",
    "\n",
    "from sklearn.model_selection import train_test_split\n",
    "from sklearn.metrics import f1_score ,classification_report, mean_squared_error, make_scorer, r2_score\n",
    "from sklearn.pipeline import Pipeline\n",
    "from sklearn.compose import ColumnTransformer\n",
    "from sklearn.preprocessing import OneHotEncoder, StandardScaler\n",
    "from sklearn.model_selection import GridSearchCV\n",
    "from sklearn.svm import SVC\n",
    "\n",
    "# Import models\n",
    "from sklearn.svm import SVC\n",
    "from sklearn.linear_model import LinearRegression, SGDRegressor\n",
    "from sklearn.tree import  DecisionTreeRegressor\n",
    "from sklearn.ensemble import RandomForestRegressor,  AdaBoostRegressor\n",
    "\n",
    "import time \n",
    "\n",
    "# Import scripts\n",
    "from optional.feature_engineering import *\n",
    "from optional.prepare_flight_data import *\n",
    "from optional.dummies import *\n",
    "from optional.predict import *\n",
    "\n",
    "RSEED = 42"
   ]
  },
  {
   "cell_type": "code",
   "execution_count": 2,
   "metadata": {},
   "outputs": [
    {
     "data": {
      "text/html": [
       "<div>\n",
       "<style scoped>\n",
       "    .dataframe tbody tr th:only-of-type {\n",
       "        vertical-align: middle;\n",
       "    }\n",
       "\n",
       "    .dataframe tbody tr th {\n",
       "        vertical-align: top;\n",
       "    }\n",
       "\n",
       "    .dataframe thead th {\n",
       "        text-align: right;\n",
       "    }\n",
       "</style>\n",
       "<table border=\"1\" class=\"dataframe\">\n",
       "  <thead>\n",
       "    <tr style=\"text-align: right;\">\n",
       "      <th></th>\n",
       "      <th>ID</th>\n",
       "      <th>DATOP</th>\n",
       "      <th>FLTID</th>\n",
       "      <th>DEPSTN</th>\n",
       "      <th>ARRSTN</th>\n",
       "      <th>STD</th>\n",
       "      <th>STA</th>\n",
       "      <th>STATUS</th>\n",
       "      <th>AC</th>\n",
       "      <th>target</th>\n",
       "      <th>...</th>\n",
       "      <th>delayed</th>\n",
       "      <th>domestic</th>\n",
       "      <th>dep_hour</th>\n",
       "      <th>dep_weekday</th>\n",
       "      <th>duration_min</th>\n",
       "      <th>arr_hour</th>\n",
       "      <th>flight_month</th>\n",
       "      <th>flight_month_name</th>\n",
       "      <th>year</th>\n",
       "      <th>distance</th>\n",
       "    </tr>\n",
       "  </thead>\n",
       "  <tbody>\n",
       "    <tr>\n",
       "      <th>0</th>\n",
       "      <td>train_id_15674</td>\n",
       "      <td>2016-01-01 00:00:00</td>\n",
       "      <td>TU 0564</td>\n",
       "      <td>NKC</td>\n",
       "      <td>TUN</td>\n",
       "      <td>2016-01-01 00:15:00</td>\n",
       "      <td>2016-01-01 04:30:00</td>\n",
       "      <td>ATA</td>\n",
       "      <td>TU 320IMV</td>\n",
       "      <td>0.0</td>\n",
       "      <td>...</td>\n",
       "      <td>0</td>\n",
       "      <td>0</td>\n",
       "      <td>0</td>\n",
       "      <td>Friday</td>\n",
       "      <td>255.0</td>\n",
       "      <td>4</td>\n",
       "      <td>1</td>\n",
       "      <td>January</td>\n",
       "      <td>2016</td>\n",
       "      <td>3298.067996</td>\n",
       "    </tr>\n",
       "    <tr>\n",
       "      <th>1</th>\n",
       "      <td>train_id_15676</td>\n",
       "      <td>2016-01-01 00:00:00</td>\n",
       "      <td>TU 0714</td>\n",
       "      <td>JED</td>\n",
       "      <td>TUN</td>\n",
       "      <td>2016-01-01 00:55:00</td>\n",
       "      <td>2016-01-01 05:30:00</td>\n",
       "      <td>ATA</td>\n",
       "      <td>TU 332IFM</td>\n",
       "      <td>195.0</td>\n",
       "      <td>...</td>\n",
       "      <td>1</td>\n",
       "      <td>0</td>\n",
       "      <td>0</td>\n",
       "      <td>Friday</td>\n",
       "      <td>275.0</td>\n",
       "      <td>5</td>\n",
       "      <td>1</td>\n",
       "      <td>January</td>\n",
       "      <td>2016</td>\n",
       "      <td>3256.052105</td>\n",
       "    </tr>\n",
       "    <tr>\n",
       "      <th>2</th>\n",
       "      <td>train_id_15675</td>\n",
       "      <td>2016-01-01 00:00:00</td>\n",
       "      <td>TU 0614</td>\n",
       "      <td>DKR</td>\n",
       "      <td>TUN</td>\n",
       "      <td>2016-01-01 01:20:00</td>\n",
       "      <td>2016-01-01 05:55:00</td>\n",
       "      <td>ATA</td>\n",
       "      <td>TU 320IMU</td>\n",
       "      <td>49.0</td>\n",
       "      <td>...</td>\n",
       "      <td>1</td>\n",
       "      <td>0</td>\n",
       "      <td>1</td>\n",
       "      <td>Friday</td>\n",
       "      <td>275.0</td>\n",
       "      <td>5</td>\n",
       "      <td>1</td>\n",
       "      <td>January</td>\n",
       "      <td>2016</td>\n",
       "      <td>3678.974557</td>\n",
       "    </tr>\n",
       "    <tr>\n",
       "      <th>3</th>\n",
       "      <td>train_id_30980</td>\n",
       "      <td>2016-01-01 00:00:00</td>\n",
       "      <td>UG 0002</td>\n",
       "      <td>TUN</td>\n",
       "      <td>DJE</td>\n",
       "      <td>2016-01-01 06:15:00</td>\n",
       "      <td>2016-01-01 07:15:00</td>\n",
       "      <td>SCH</td>\n",
       "      <td>UG AT7LBD</td>\n",
       "      <td>0.0</td>\n",
       "      <td>...</td>\n",
       "      <td>0</td>\n",
       "      <td>1</td>\n",
       "      <td>6</td>\n",
       "      <td>Friday</td>\n",
       "      <td>60.0</td>\n",
       "      <td>7</td>\n",
       "      <td>1</td>\n",
       "      <td>January</td>\n",
       "      <td>2016</td>\n",
       "      <td>333.916459</td>\n",
       "    </tr>\n",
       "    <tr>\n",
       "      <th>4</th>\n",
       "      <td>train_id_7179</td>\n",
       "      <td>2016-01-01 00:00:00</td>\n",
       "      <td>TU 0880</td>\n",
       "      <td>TUN</td>\n",
       "      <td>AMS</td>\n",
       "      <td>2016-01-01 06:30:00</td>\n",
       "      <td>2016-01-01 09:20:00</td>\n",
       "      <td>ATA</td>\n",
       "      <td>TU 736IOP</td>\n",
       "      <td>36.0</td>\n",
       "      <td>...</td>\n",
       "      <td>1</td>\n",
       "      <td>0</td>\n",
       "      <td>6</td>\n",
       "      <td>Friday</td>\n",
       "      <td>170.0</td>\n",
       "      <td>9</td>\n",
       "      <td>1</td>\n",
       "      <td>January</td>\n",
       "      <td>2016</td>\n",
       "      <td>1770.371959</td>\n",
       "    </tr>\n",
       "  </tbody>\n",
       "</table>\n",
       "<p>5 rows × 41 columns</p>\n",
       "</div>"
      ],
      "text/plain": [
       "               ID                DATOP     FLTID DEPSTN ARRSTN  \\\n",
       "0  train_id_15674  2016-01-01 00:00:00  TU 0564     NKC    TUN   \n",
       "1  train_id_15676  2016-01-01 00:00:00  TU 0714     JED    TUN   \n",
       "2  train_id_15675  2016-01-01 00:00:00  TU 0614     DKR    TUN   \n",
       "3  train_id_30980  2016-01-01 00:00:00  UG 0002     TUN    DJE   \n",
       "4   train_id_7179  2016-01-01 00:00:00  TU 0880     TUN    AMS   \n",
       "\n",
       "                   STD                  STA STATUS         AC  target  ...  \\\n",
       "0  2016-01-01 00:15:00  2016-01-01 04:30:00    ATA  TU 320IMV     0.0  ...   \n",
       "1  2016-01-01 00:55:00  2016-01-01 05:30:00    ATA  TU 332IFM   195.0  ...   \n",
       "2  2016-01-01 01:20:00  2016-01-01 05:55:00    ATA  TU 320IMU    49.0  ...   \n",
       "3  2016-01-01 06:15:00  2016-01-01 07:15:00    SCH  UG AT7LBD     0.0  ...   \n",
       "4  2016-01-01 06:30:00  2016-01-01 09:20:00    ATA  TU 736IOP    36.0  ...   \n",
       "\n",
       "  delayed domestic dep_hour dep_weekday duration_min arr_hour  flight_month  \\\n",
       "0       0        0        0      Friday        255.0        4             1   \n",
       "1       1        0        0      Friday        275.0        5             1   \n",
       "2       1        0        1      Friday        275.0        5             1   \n",
       "3       0        1        6      Friday         60.0        7             1   \n",
       "4       1        0        6      Friday        170.0        9             1   \n",
       "\n",
       "   flight_month_name  year     distance  \n",
       "0            January  2016  3298.067996  \n",
       "1            January  2016  3256.052105  \n",
       "2            January  2016  3678.974557  \n",
       "3            January  2016   333.916459  \n",
       "4            January  2016  1770.371959  \n",
       "\n",
       "[5 rows x 41 columns]"
      ]
     },
     "execution_count": 2,
     "metadata": {},
     "output_type": "execute_result"
    }
   ],
   "source": [
    "df = pd.read_csv('data/final_train.csv', index_col=[0])\n",
    "df_test = pd.read_csv('data/final_test.csv')\n",
    "df.head()"
   ]
  },
  {
   "cell_type": "code",
   "execution_count": 3,
   "metadata": {},
   "outputs": [
    {
     "data": {
      "text/plain": [
       "Index(['ID', 'DATOP', 'FLTID', 'DEPSTN', 'ARRSTN', 'STD', 'STA', 'STATUS',\n",
       "       'AC', 'target', 'icao_DEP', 'iata_DEP', 'name_DEP', 'city_DEP',\n",
       "       'subd_DEP', 'country_DEP', 'elevation_DEP', 'lat_DEP', 'lon_DEP',\n",
       "       'tz_DEP', 'icao_ARR', 'iata_ARR', 'name_ARR', 'city_ARR', 'subd_ARR',\n",
       "       'country_ARR', 'elevation_ARR', 'lat_ARR', 'lon_ARR', 'tz_ARR',\n",
       "       'delay_or_onTime', 'delayed', 'domestic', 'dep_hour', 'dep_weekday',\n",
       "       'duration_min', 'arr_hour', 'flight_month', 'flight_month_name', 'year',\n",
       "       'distance'],\n",
       "      dtype='object')"
      ]
     },
     "execution_count": 3,
     "metadata": {},
     "output_type": "execute_result"
    }
   ],
   "source": [
    "df.columns"
   ]
  },
  {
   "cell_type": "markdown",
   "metadata": {},
   "source": [
    "# Data Cleaning \n"
   ]
  },
  {
   "cell_type": "code",
   "execution_count": 4,
   "metadata": {},
   "outputs": [],
   "source": [
    "# convert time to unix \n",
    "df['STA'] = df['STA'].str.replace('.', ':', regex=False)\n",
    "df['STA'] = pd.to_datetime(df['STA']).map(pd.Timestamp.timestamp)\n",
    "df['STD'] = pd.to_datetime(df['STD']).map(pd.Timestamp.timestamp)"
   ]
  },
  {
   "cell_type": "code",
   "execution_count": 5,
   "metadata": {},
   "outputs": [],
   "source": [
    "# Drop features by list\n",
    "\n",
    "drop_arr = [\n",
    "    'ID', 'DATOP', 'FLTID', 'AC', 'STATUS', \n",
    "    'DEPSTN', 'ARRSTN', 'flight_month_name', \n",
    "    'delayed', 'year', 'delay_or_onTime', \n",
    "    'city_ARR', 'country_ARR']\n",
    "\n",
    "try: \n",
    "    df = df.drop(labels=drop_arr, axis=1)\n",
    "    df_test = df_test.drop(labels=drop_arr, axis=1)\n",
    "    df.head()\n",
    "except KeyError:\n",
    "    df.head()"
   ]
  },
  {
   "cell_type": "code",
   "execution_count": 6,
   "metadata": {},
   "outputs": [
    {
     "name": "stdout",
     "output_type": "stream",
     "text": [
      "Values in Feature Vector: 102310\n",
      "Values in Target Vector: 102310\n"
     ]
    }
   ],
   "source": [
    "# create Target Vector\n",
    "\n",
    "X = df.drop('target', axis=1)\n",
    "y = df['target']\n",
    "\n",
    "X_test = df.drop('target', axis=1)\n",
    "y_test = df['target']\n",
    "\n",
    "print(f'Values in Feature Vector: {X.shape[0]}\\nValues in Target Vector: {y.shape[0]}')"
   ]
  },
  {
   "cell_type": "markdown",
   "metadata": {},
   "source": [
    "## Feature Engineering"
   ]
  },
  {
   "cell_type": "code",
   "execution_count": 7,
   "metadata": {},
   "outputs": [],
   "source": [
    "# Spliting Features types\n",
    "\n",
    "arr = X.columns\n",
    "\n",
    "cat_feats = [x for x in arr if X[x].dtype == 'object']\n",
    "\n",
    "numeric_feats = [x for x in arr if X[x].dtype == 'float64']\n",
    "\n",
    "arr = X_test.columns\n",
    "\n",
    "cat_feats = [x for x in arr if X_test[x].dtype == 'object']\n",
    "\n",
    "numeric_feats = [x for x in arr if X_test[x].dtype == 'float64']"
   ]
  },
  {
   "cell_type": "code",
   "execution_count": 8,
   "metadata": {},
   "outputs": [],
   "source": [
    "# Create Pipelines\n",
    "\n",
    "cat_pipe = Pipeline([\n",
    "    ('1hot', OneHotEncoder(handle_unknown='ignore'))\n",
    "])\n",
    "\n",
    "num_pipe = Pipeline([\n",
    "    ('std_scaler', StandardScaler())\n",
    "])"
   ]
  },
  {
   "cell_type": "code",
   "execution_count": 9,
   "metadata": {},
   "outputs": [],
   "source": [
    "preprocessor = ColumnTransformer([\n",
    "     ('cat', cat_pipe, cat_feats), \n",
    "    ('num', num_pipe, numeric_feats)\n",
    "])"
   ]
  },
  {
   "cell_type": "markdown",
   "metadata": {},
   "source": [
    "### Regression\n",
    "\n",
    "#### Baseline"
   ]
  },
  {
   "cell_type": "code",
   "execution_count": 10,
   "metadata": {},
   "outputs": [],
   "source": [
    "pipe_linreg = Pipeline([\n",
    "    ('preprocessor', preprocessor),\n",
    "    ('linreg', LinearRegression())\n",
    "])\n",
    "\n",
    "pipe_forestreg = Pipeline([\n",
    "    ('preprocessor', preprocessor),\n",
    "    ('forestreg', RandomForestRegressor())\n",
    "])\n",
    "\n",
    "pipe_decreg = Pipeline([\n",
    "    ('preprocessor', preprocessor),\n",
    "    ('decreg', DecisionTreeRegressor())\n",
    "])\n",
    "\n",
    "pipe_svm = Pipeline([\n",
    "    ('preprocessor', preprocessor),\n",
    "    ('svm',SVC())\n",
    "])"
   ]
  },
  {
   "cell_type": "code",
   "execution_count": 11,
   "metadata": {},
   "outputs": [],
   "source": [
    "\n",
    "param_forestreg = {}\n",
    "\n",
    "grid_forestreg = GridSearchCV(pipe_forestreg, param_grid=param_forestreg, cv=5, scoring='neg_mean_squared_error', \n",
    "                           verbose=5, n_jobs=-1)"
   ]
  },
  {
   "cell_type": "code",
   "execution_count": 12,
   "metadata": {},
   "outputs": [],
   "source": [
    "# best_Forest_model = grid_forestreg.best_estimator_\n",
    "# best_Forest_model"
   ]
  },
  {
   "cell_type": "code",
   "execution_count": 13,
   "metadata": {},
   "outputs": [],
   "source": [
    "\n",
    "param_decreg = {'criterion': ('gini', 'entropy', 'log_loss'), \n",
    "                'max_depth':(3, 5, 7, 9)\n",
    "                }\n",
    "\n",
    "grid_decreg = GridSearchCV(pipe_decreg, param_grid=param_decreg, cv=5, scoring='neg_mean_squared_error', \n",
    "                           verbose=5, n_jobs=-1)"
   ]
  },
  {
   "cell_type": "code",
   "execution_count": 14,
   "metadata": {},
   "outputs": [
    {
     "ename": "AttributeError",
     "evalue": "'GridSearchCV' object has no attribute 'best_estimator_'",
     "output_type": "error",
     "traceback": [
      "\u001b[0;31m---------------------------------------------------------------------------\u001b[0m",
      "\u001b[0;31mAttributeError\u001b[0m                            Traceback (most recent call last)",
      "\u001b[1;32m/Users/fredericbaumeister/neuefische/groupwork2/JB_Models.ipynb Cell 17\u001b[0m in \u001b[0;36m<cell line: 1>\u001b[0;34m()\u001b[0m\n\u001b[0;32m----> <a href='vscode-notebook-cell:/Users/fredericbaumeister/neuefische/groupwork2/JB_Models.ipynb#ch0000049?line=0'>1</a>\u001b[0m best_dec_model \u001b[39m=\u001b[39m grid_decreg\u001b[39m.\u001b[39;49mbest_estimator_\n\u001b[1;32m      <a href='vscode-notebook-cell:/Users/fredericbaumeister/neuefische/groupwork2/JB_Models.ipynb#ch0000049?line=1'>2</a>\u001b[0m best_dec_model\n",
      "\u001b[0;31mAttributeError\u001b[0m: 'GridSearchCV' object has no attribute 'best_estimator_'"
     ]
    }
   ],
   "source": [
    "best_dec_model = grid_decreg.best_estimator_\n",
    "best_dec_model"
   ]
  },
  {
   "cell_type": "code",
   "execution_count": 15,
   "metadata": {},
   "outputs": [],
   "source": [
    "param_svm = {'svm__kernel':('linear','poly', 'rbf'),\n",
    "                'svm__C': [0.01, 0.1, 1, 10],\n",
    "                'svm__degree': [1,2,3]\n",
    "               }\n",
    "\n",
    "grid_svm = GridSearchCV(pipe_svm, param_grid=param_svm, cv=5, scoring='neg_mean_squared_error', verbose=0, n_jobs=-1)"
   ]
  },
  {
   "cell_type": "code",
   "execution_count": 16,
   "metadata": {},
   "outputs": [
    {
     "ename": "AttributeError",
     "evalue": "'GridSearchCV' object has no attribute 'best_estimator_'",
     "output_type": "error",
     "traceback": [
      "\u001b[0;31m---------------------------------------------------------------------------\u001b[0m",
      "\u001b[0;31mAttributeError\u001b[0m                            Traceback (most recent call last)",
      "\u001b[1;32m/Users/fredericbaumeister/neuefische/groupwork2/JB_Models.ipynb Cell 19\u001b[0m in \u001b[0;36m<cell line: 1>\u001b[0;34m()\u001b[0m\n\u001b[0;32m----> <a href='vscode-notebook-cell:/Users/fredericbaumeister/neuefische/groupwork2/JB_Models.ipynb#ch0000050?line=0'>1</a>\u001b[0m best_svm_model \u001b[39m=\u001b[39m grid_svm\u001b[39m.\u001b[39;49mbest_estimator_\n\u001b[1;32m      <a href='vscode-notebook-cell:/Users/fredericbaumeister/neuefische/groupwork2/JB_Models.ipynb#ch0000050?line=1'>2</a>\u001b[0m best_svm_model\n",
      "\u001b[0;31mAttributeError\u001b[0m: 'GridSearchCV' object has no attribute 'best_estimator_'"
     ]
    }
   ],
   "source": [
    "best_svm_model = grid_svm.best_estimator_\n",
    "best_svm_model"
   ]
  },
  {
   "cell_type": "code",
   "execution_count": null,
   "metadata": {},
   "outputs": [],
   "source": [
    "pipe_linreg.fit(X, y)"
   ]
  },
  {
   "cell_type": "code",
   "execution_count": null,
   "metadata": {},
   "outputs": [],
   "source": [
    "y_hat_lin = pipe_linreg.predict(X_test)\n",
    "y_hat_log = pipe_forestreg.predict(X_test)\n",
    "y_hat_dec = best_dec_model.predict(X_test)\n",
    "y_hat_svm = best_svm_model.predict(X_test)\n",
    "\n",
    "print('Linear Regression')\n",
    "print('_'*20)\n",
    "print(\"Mean Squared Error: {:.2f}\".format(mean_squared_error(y_test, y_hat_lin)))\n",
    "\n",
    "print('Log Regression')\n",
    "print('_'*20)\n",
    "print(\"Mean Squared Error: {:.2f}\".format(mean_squared_error(y_test, y_hat_log)))\n",
    "\n",
    "print('DecisionTree Regression')\n",
    "print('_'*20)\n",
    "print(\"Mean Squared Error: {:.2f}\".format(mean_squared_error(y_test, y_hat_dec)))\n",
    "\n",
    "print('SVM')\n",
    "print('_'*20)\n",
    "print(\"Mean Squared Error: {:.2f}\".format(mean_squared_error(y_test, y_hat_svm)))\n",
    "\n",
    "print('ANN Because i have no life ...')\n",
    "print('_'*20)\n",
    "print(\"Mean Squared Error: {:.2f}\".format(mean_squared_error(y_test, y_test)))"
   ]
  }
 ],
 "metadata": {
  "kernelspec": {
   "display_name": "Python 3.9.8 ('.venv': venv)",
   "language": "python",
   "name": "python3"
  },
  "language_info": {
   "codemirror_mode": {
    "name": "ipython",
    "version": 3
   },
   "file_extension": ".py",
   "mimetype": "text/x-python",
   "name": "python",
   "nbconvert_exporter": "python",
   "pygments_lexer": "ipython3",
   "version": "3.9.8"
  },
  "orig_nbformat": 4,
  "vscode": {
   "interpreter": {
    "hash": "d68d3417c6c37cd8ebd0d320f737814f278e7fee5045e744da2157e627f0f7b0"
   }
  }
 },
 "nbformat": 4,
 "nbformat_minor": 2
}
